{
  "cells": [
    {
      "cell_type": "markdown",
      "id": "b9062156",
      "metadata": {
        "id": "b9062156"
      },
      "source": [
        "# Day 1"
      ]
    },
    {
      "cell_type": "markdown",
      "id": "c68ff747",
      "metadata": {
        "id": "c68ff747"
      },
      "source": [
        "### The `print` function"
      ]
    },
    {
      "cell_type": "code",
      "execution_count": null,
      "id": "957382e2-d365-4399-944d-374413f4110e",
      "metadata": {
        "id": "957382e2-d365-4399-944d-374413f4110e",
        "outputId": "6adf6c9a-132b-41d6-a59b-8f7157f9ba7e"
      },
      "outputs": [
        {
          "name": "stdout",
          "output_type": "stream",
          "text": [
            "4.0\n",
            "4\n",
            "-21\n",
            "21.21\n"
          ]
        }
      ],
      "source": [
        "print(4.0)\n",
        "print(4)\n",
        "print(-21)\n",
        "print(21.21)"
      ]
    },
    {
      "cell_type": "markdown",
      "id": "91107290",
      "metadata": {
        "id": "91107290"
      },
      "source": [
        "### Expressions\n",
        "As it happens, every piece of code we’ve written so far is an expression, and there are many different types of expression in Python.\n",
        "\n",
        "For example, all the integers we've written are expressions. When Python sees each integer, it can use the value they represent.\n",
        "\n",
        "We're also about to see some simple arithmetic operations like 5 + 7, and those operations are expressions too. In the case of 5 + 7, when Python sees that, it evaluates the expression to another integer: 12.\n",
        "\n",
        "When we write print(), that is also a type of expression called a *function call expression.*\n",
        "\n",
        "Does that mean that print() has a value?\n",
        "\n",
        "Yes, it does.\n",
        "\n",
        "### Arithmetic Operators"
      ]
    },
    {
      "cell_type": "code",
      "execution_count": null,
      "id": "6952060e",
      "metadata": {
        "id": "6952060e",
        "outputId": "af2ac230-11d7-466f-fbde-567f4ce5a60d"
      },
      "outputs": [
        {
          "name": "stdout",
          "output_type": "stream",
          "text": [
            "3\n",
            "14.4\n",
            "6.0\n"
          ]
        }
      ],
      "source": [
        "print(1 + 2)\n",
        "print(3.4 + 11)\n",
        "print(2.0 * 3)"
      ]
    },
    {
      "cell_type": "markdown",
      "id": "8af4ba07",
      "metadata": {
        "id": "8af4ba07"
      },
      "source": [
        "### Exercises\n",
        "Now that we’ve been through the material for this post, here are a few exercises so that you can practice:\n",
        "\n",
        "1. Print your age to the console.\n",
        "2. Calculate and print the number of days, weeks, and months in 27 years. Don’t worry about leap years!\n",
        "3. Calculate and print the area of a circle with a radius of 5 units. You can be as accurate as you like with the value of pi."
      ]
    },
    {
      "cell_type": "code",
      "execution_count": null,
      "id": "b699b311",
      "metadata": {
        "id": "b699b311",
        "outputId": "acf9c27b-a894-4dd1-b9a6-988ffaa96a5f"
      },
      "outputs": [
        {
          "name": "stdout",
          "output_type": "stream",
          "text": [
            "33\n"
          ]
        }
      ],
      "source": [
        "print(33)"
      ]
    },
    {
      "cell_type": "code",
      "execution_count": null,
      "id": "6ae84c67",
      "metadata": {
        "id": "6ae84c67",
        "outputId": "4a550bfe-1351-475b-878a-b5e403c410d1"
      },
      "outputs": [
        {
          "name": "stdout",
          "output_type": "stream",
          "text": [
            "9855\n",
            "1404\n",
            "324\n"
          ]
        }
      ],
      "source": [
        "# Calculate and print the number of days, weeks, and months in 27 years. Don’t worry about leap years!\n",
        "print(27 * 365)\n",
        "print(27 * 52)\n",
        "print(27 * 12)"
      ]
    },
    {
      "cell_type": "code",
      "execution_count": null,
      "id": "b15f4b28",
      "metadata": {
        "id": "b15f4b28",
        "outputId": "85f3b089-e6d8-4dc4-b475-cdc8b993097d"
      },
      "outputs": [
        {
          "name": "stdout",
          "output_type": "stream",
          "text": [
            "78.57142857142857\n",
            "78.57142857142857\n"
          ]
        }
      ],
      "source": [
        "# Calculate and print the area of a circle with a radius of 5 units. You can be as accurate as you like with the value of pi.\n",
        "print((22/7) * 5 * 5)\n",
        "\n",
        "print((22/7) * pow(5,2))"
      ]
    },
    {
      "cell_type": "markdown",
      "id": "cae2c7d2",
      "metadata": {
        "id": "cae2c7d2"
      },
      "source": [
        "# Day 2\n",
        "\n",
        "### String Basics"
      ]
    },
    {
      "cell_type": "code",
      "execution_count": null,
      "id": "8878dcb6",
      "metadata": {
        "id": "8878dcb6",
        "outputId": "79232f0f-6c72-4136-b224-e052c85e666a"
      },
      "outputs": [
        {
          "name": "stdout",
          "output_type": "stream",
          "text": [
            "Hello, world!\n"
          ]
        }
      ],
      "source": [
        "print(\"Hello, world!\")"
      ]
    },
    {
      "cell_type": "code",
      "execution_count": null,
      "id": "0415fdc0",
      "metadata": {
        "id": "0415fdc0"
      },
      "outputs": [],
      "source": [
        "name = \"Udit Pathak\"\n",
        "age = 32"
      ]
    },
    {
      "cell_type": "code",
      "execution_count": null,
      "id": "c15dee94",
      "metadata": {
        "id": "c15dee94",
        "outputId": "aff40242-487d-43f2-d0a0-3632f4976392"
      },
      "outputs": [
        {
          "ename": "NameError",
          "evalue": "name 'GivenName' is not defined",
          "output_type": "error",
          "traceback": [
            "\u001b[31m---------------------------------------------------------------------------\u001b[39m",
            "\u001b[31mNameError\u001b[39m                                 Traceback (most recent call last)",
            "\u001b[36mCell\u001b[39m\u001b[36m \u001b[39m\u001b[32mIn[6]\u001b[39m\u001b[32m, line 1\u001b[39m\n\u001b[32m----> \u001b[39m\u001b[32m1\u001b[39m \u001b[43mGivenName\u001b[49m\n",
            "\u001b[31mNameError\u001b[39m: name 'GivenName' is not defined"
          ]
        }
      ],
      "source": [
        "GivenName"
      ]
    },
    {
      "cell_type": "markdown",
      "id": "f03d642b",
      "metadata": {
        "id": "f03d642b"
      },
      "source": [
        "### Getting values from the user"
      ]
    },
    {
      "cell_type": "code",
      "execution_count": null,
      "id": "c2c62229",
      "metadata": {
        "id": "c2c62229"
      },
      "outputs": [],
      "source": [
        "name = input(\"Please enter your name: \")"
      ]
    },
    {
      "cell_type": "markdown",
      "id": "88294b58",
      "metadata": {
        "id": "88294b58"
      },
      "source": [
        "### Exercises\n",
        "Now that we’ve covered how to use strings, variables, and the input function, it’s time to practice with some exercises.\n",
        "\n",
        "1. Ask the user for their name and age, assign theses values to two variables, and then print them.\n",
        "2. Investigate what happens when you try to assign a value to a variable that you’ve already defined. Try printing the variable before and after you reuse the name.\n",
        "3. Below you’ll find some code with a number of errors. Try to go through the program line by line and fix the issues in the code. I’d encourage you to try running the program while you’re working on it, as reading the error messages is great practice for debugging your own programs.\n",
        "\n",
        "```\n",
        "{\n",
        "    hourly_wage = input(\"Please enter your hourly wage: ')\n",
        "\n",
        "    prnt(\"Hourly wage: \")\n",
        "    print(hourlywage)\n",
        "    print(\"Hours worked: \")\n",
        "    print(hours_worked)\n",
        "\n",
        "    hours_worked = input(\"How many hours did you work this week? \")\n",
        "\n",
        "}\n",
        "```"
      ]
    },
    {
      "cell_type": "code",
      "execution_count": null,
      "id": "c801fc0f",
      "metadata": {
        "id": "c801fc0f"
      },
      "outputs": [],
      "source": [
        "# Ask the user for their name and age, assign theses values to two variables, and then print them.\n",
        "name = input(\"Enter your name: \")\n",
        "age = input(\"Enter your age: \")"
      ]
    },
    {
      "cell_type": "code",
      "execution_count": null,
      "id": "beca1074",
      "metadata": {
        "id": "beca1074",
        "outputId": "c64ea7b0-2686-401a-e347-1dd9c28a86cb"
      },
      "outputs": [
        {
          "name": "stdout",
          "output_type": "stream",
          "text": [
            "Udit, 32\n"
          ]
        }
      ],
      "source": [
        "print(name + ', ' + age)"
      ]
    },
    {
      "cell_type": "code",
      "execution_count": null,
      "id": "7cdf7ac4",
      "metadata": {
        "id": "7cdf7ac4",
        "outputId": "ab9978a4-7046-4887-9cfc-844e1ce0af5b"
      },
      "outputs": [
        {
          "name": "stdout",
          "output_type": "stream",
          "text": [
            "45\n"
          ]
        }
      ],
      "source": [
        "# Investigate what happens when you try to assign a value to a variable that you’ve already defined. Try printing the variable before and after you reuse the name.\n",
        "age = 45\n",
        "print(age)"
      ]
    },
    {
      "cell_type": "code",
      "execution_count": null,
      "id": "82a1ada6",
      "metadata": {
        "id": "82a1ada6"
      },
      "outputs": [],
      "source": [
        "'''\n",
        "Below you’ll find some code with a number of errors. Try to go through the program line by line and fix the issues in the code. I’d encourage you to try running the program while you’re working on it, as reading the error messages is great practice for debugging your own programs.\n",
        "hourly_wage = input(\"Please enter your hourly wage: ')\n",
        "\n",
        "print(\"Hourly wage: \")\n",
        "print(hourlywage)\n",
        "print(\"Hours worked: \")\n",
        "print(hours_worked)\n",
        "\n",
        "hours_worked = input(\"How many hours did you work this week? \")\n",
        "'''\n",
        "\n"
      ]
    },
    {
      "cell_type": "code",
      "execution_count": null,
      "id": "01d03188",
      "metadata": {
        "id": "01d03188",
        "outputId": "77834aa8-d14b-408f-9931-d0a59ee3dee4"
      },
      "outputs": [
        {
          "ename": "SyntaxError",
          "evalue": "unterminated string literal (detected at line 1) (1149776034.py, line 1)",
          "output_type": "error",
          "traceback": [
            "  \u001b[36mCell\u001b[39m\u001b[36m \u001b[39m\u001b[32mIn[14]\u001b[39m\u001b[32m, line 1\u001b[39m\n\u001b[31m    \u001b[39m\u001b[31mhourly_wage = input(\"Please enter your hourly wage: ')\u001b[39m\n                        ^\n\u001b[31mSyntaxError\u001b[39m\u001b[31m:\u001b[39m unterminated string literal (detected at line 1)\n"
          ]
        }
      ],
      "source": [
        "hourly_wage = input(\"Please enter your hourly wage: ')"
      ]
    },
    {
      "cell_type": "code",
      "execution_count": null,
      "id": "3cc173b8",
      "metadata": {
        "id": "3cc173b8",
        "outputId": "1b40bb45-7389-4b62-b428-18fac1716b1a"
      },
      "outputs": [
        {
          "ename": "NameError",
          "evalue": "name 'prnt' is not defined",
          "output_type": "error",
          "traceback": [
            "\u001b[31m---------------------------------------------------------------------------\u001b[39m",
            "\u001b[31mNameError\u001b[39m                                 Traceback (most recent call last)",
            "\u001b[36mCell\u001b[39m\u001b[36m \u001b[39m\u001b[32mIn[15]\u001b[39m\u001b[32m, line 1\u001b[39m\n\u001b[32m----> \u001b[39m\u001b[32m1\u001b[39m \u001b[43mprnt\u001b[49m(\u001b[33m\"\u001b[39m\u001b[33mHourly wage: \u001b[39m\u001b[33m\"\u001b[39m)\n",
            "\u001b[31mNameError\u001b[39m: name 'prnt' is not defined"
          ]
        }
      ],
      "source": [
        "prnt(\"Hourly wage: \")"
      ]
    },
    {
      "cell_type": "code",
      "execution_count": null,
      "id": "52c94c7d",
      "metadata": {
        "id": "52c94c7d",
        "outputId": "737112b1-28ae-4712-f41b-3886592c8ee9"
      },
      "outputs": [
        {
          "ename": "NameError",
          "evalue": "name 'hourlywage' is not defined",
          "output_type": "error",
          "traceback": [
            "\u001b[31m---------------------------------------------------------------------------\u001b[39m",
            "\u001b[31mNameError\u001b[39m                                 Traceback (most recent call last)",
            "\u001b[36mCell\u001b[39m\u001b[36m \u001b[39m\u001b[32mIn[16]\u001b[39m\u001b[32m, line 1\u001b[39m\n\u001b[32m----> \u001b[39m\u001b[32m1\u001b[39m \u001b[38;5;28mprint\u001b[39m(\u001b[43mhourlywage\u001b[49m)\n",
            "\u001b[31mNameError\u001b[39m: name 'hourlywage' is not defined"
          ]
        }
      ],
      "source": [
        "print(hourlywage)"
      ]
    },
    {
      "cell_type": "code",
      "execution_count": null,
      "id": "dbffc178",
      "metadata": {
        "id": "dbffc178",
        "outputId": "02fd04a4-0f79-4f91-a725-e3aa995d173a"
      },
      "outputs": [
        {
          "name": "stdout",
          "output_type": "stream",
          "text": [
            "Hours worked: \n"
          ]
        }
      ],
      "source": [
        "print(\"Hours worked: \")\n"
      ]
    },
    {
      "cell_type": "code",
      "execution_count": null,
      "id": "e383bed1",
      "metadata": {
        "id": "e383bed1"
      },
      "outputs": [],
      "source": [
        "hours_worked = input(\"How many hours did you work this week? \")"
      ]
    },
    {
      "cell_type": "markdown",
      "id": "24eaef16",
      "metadata": {
        "id": "24eaef16"
      },
      "source": [
        "# Day 3\n",
        "\n",
        "### String Concatenation"
      ]
    },
    {
      "cell_type": "code",
      "execution_count": null,
      "id": "3161bc7c",
      "metadata": {
        "id": "3161bc7c",
        "outputId": "408f7b4d-1005-476d-a35b-0178cea5f1be"
      },
      "outputs": [
        {
          "name": "stdout",
          "output_type": "stream",
          "text": [
            "Hourly wage: 10000\n",
            "Hours worked: 100\n"
          ]
        }
      ],
      "source": [
        "hourly_wage = input(\"Please enter your hourly wage: \")\n",
        "hours_worked = input(\"How many hours did you work this week? \")\n",
        "\n",
        "print(\"Hourly wage: \" + hourly_wage)\n",
        "print(\"Hours worked: \" + hours_worked)"
      ]
    },
    {
      "cell_type": "markdown",
      "id": "40a45197",
      "metadata": {
        "id": "40a45197"
      },
      "source": [
        "### Converting strings, integers, and floats"
      ]
    },
    {
      "cell_type": "code",
      "execution_count": null,
      "id": "0f60b3e2",
      "metadata": {
        "id": "0f60b3e2",
        "outputId": "9b0c504b-cb23-40d6-d4ea-d88f650d6bc5"
      },
      "outputs": [
        {
          "name": "stdout",
          "output_type": "stream",
          "text": [
            "32\n"
          ]
        }
      ],
      "source": [
        "age = str(32)\n",
        "print(age)"
      ]
    },
    {
      "cell_type": "code",
      "execution_count": null,
      "id": "410563a5",
      "metadata": {
        "id": "410563a5",
        "outputId": "41c46c7a-6dd1-40ae-aeec-d70efe76a936"
      },
      "outputs": [
        {
          "name": "stdout",
          "output_type": "stream",
          "text": [
            "28\n"
          ]
        }
      ],
      "source": [
        "age = int(\"28\")\n",
        "print(age)"
      ]
    },
    {
      "cell_type": "code",
      "execution_count": null,
      "id": "1245f983",
      "metadata": {
        "id": "1245f983",
        "outputId": "7467fd6b-390b-4c02-ea80-c62f53fd8aa6"
      },
      "outputs": [
        {
          "ename": "ValueError",
          "evalue": "invalid literal for int() with base 10: '118.25'",
          "output_type": "error",
          "traceback": [
            "\u001b[31m---------------------------------------------------------------------------\u001b[39m",
            "\u001b[31mValueError\u001b[39m                                Traceback (most recent call last)",
            "\u001b[36mCell\u001b[39m\u001b[36m \u001b[39m\u001b[32mIn[25]\u001b[39m\u001b[32m, line 1\u001b[39m\n\u001b[32m----> \u001b[39m\u001b[32m1\u001b[39m hourly_wage = \u001b[38;5;28;43mint\u001b[39;49m\u001b[43m(\u001b[49m\u001b[33;43m\"\u001b[39;49m\u001b[33;43m118.25\u001b[39;49m\u001b[33;43m\"\u001b[39;49m\u001b[43m)\u001b[49m\n",
            "\u001b[31mValueError\u001b[39m: invalid literal for int() with base 10: '118.25'"
          ]
        }
      ],
      "source": [
        "hourly_wage = int(\"118.25\")"
      ]
    },
    {
      "cell_type": "code",
      "execution_count": null,
      "id": "32ebabf9",
      "metadata": {
        "id": "32ebabf9",
        "outputId": "f9298939-0804-4d53-9ed4-663e0d2645de"
      },
      "outputs": [
        {
          "name": "stdout",
          "output_type": "stream",
          "text": [
            "118.19\n"
          ]
        }
      ],
      "source": [
        "# Instead of int, we’d need to call float here instead:\n",
        "hourly_wage = float(\"118.19\")\n",
        "print(hourly_wage)"
      ]
    },
    {
      "cell_type": "markdown",
      "id": "d72110a3",
      "metadata": {
        "id": "d72110a3"
      },
      "source": [
        "### String interpolation with the `format` method"
      ]
    },
    {
      "cell_type": "code",
      "execution_count": null,
      "id": "e4f80a44",
      "metadata": {
        "id": "e4f80a44",
        "outputId": "fb81e330-4279-45ca-98da-f7d995e22500"
      },
      "outputs": [
        {
          "data": {
            "text/plain": [
              "'{} is {} years old'"
            ]
          },
          "execution_count": 27,
          "metadata": {},
          "output_type": "execute_result"
        }
      ],
      "source": [
        "# When using the format method, the placeholders for our values are curly braces, which look like this: {}.\n",
        "# For example, let’s say we want to write a string like:\n",
        "\n",
        "\"John is 24 years old.\"\n",
        "\"{} is {} years old\""
      ]
    },
    {
      "cell_type": "code",
      "execution_count": null,
      "id": "c0b699d5",
      "metadata": {
        "id": "c0b699d5",
        "outputId": "5af8da39-b8fd-4a6f-ce8e-1fd3c3d1624b"
      },
      "outputs": [
        {
          "data": {
            "text/plain": [
              "'John is 24 years old'"
            ]
          },
          "execution_count": 28,
          "metadata": {},
          "output_type": "execute_result"
        }
      ],
      "source": [
        "\"{} is {} years old\".format(\"John\", 24)"
      ]
    },
    {
      "cell_type": "code",
      "execution_count": null,
      "id": "4cb5b0a2",
      "metadata": {
        "id": "4cb5b0a2",
        "outputId": "47f7454b-156e-4bb3-d227-835739aa7dea"
      },
      "outputs": [
        {
          "data": {
            "text/plain": [
              "'John is 24 years old, and John works as a web developer'"
            ]
          },
          "execution_count": 29,
          "metadata": {},
          "output_type": "execute_result"
        }
      ],
      "source": [
        "\"John is 24 years old, and John works as a web developer\""
      ]
    },
    {
      "cell_type": "code",
      "execution_count": null,
      "id": "8fe4ac36",
      "metadata": {
        "id": "8fe4ac36",
        "outputId": "2a938a18-5af6-47fc-9302-2e764dbf1e83"
      },
      "outputs": [
        {
          "name": "stdout",
          "output_type": "stream",
          "text": [
            "John is 24 years old, and John works as a web developer.\n"
          ]
        }
      ],
      "source": [
        "output = \"{} is {} years old, and {} works as a {}.\"\n",
        "print(output.format(\"John\", 24, \"John\", \"web developer\"))"
      ]
    },
    {
      "cell_type": "code",
      "execution_count": null,
      "id": "0f2029ea",
      "metadata": {
        "id": "0f2029ea",
        "outputId": "abe110dd-1c99-431b-892a-d457ddc77ad2"
      },
      "outputs": [
        {
          "name": "stdout",
          "output_type": "stream",
          "text": [
            "John is 24 years old, and John works as a web developer.\n",
            "John is 24 years old, and John works as a web developer.\n",
            "John is 24 years old, and John works as a web developer.\n",
            "John is 24 years old, and John works as a web developer.\n"
          ]
        }
      ],
      "source": [
        "name = \"John\"\n",
        "age = 24\n",
        "position = \"web developer\"\n",
        "output = \"{} is {} years old, and {} works as a {}.\"\n",
        "print(output.format(\"John\", 24, \"John\", \"web developer\")) # method 1\n",
        "\n",
        "print(output.format(name, age, name, position)) # method 2\n",
        "\n",
        "output = \"{0} is {1} years old, and {0} works as a {2}.\"\n",
        "print(output.format(\"John\", 24, \"web developer\")) # method3\n",
        "\n",
        "output = \"{name} is {age} years old, and {name} works as a {position}.\"\n",
        "print(output.format(name = \"John\", age = 24, position = \"web developer\")) # method4"
      ]
    },
    {
      "cell_type": "markdown",
      "id": "64ab410d",
      "metadata": {
        "id": "64ab410d"
      },
      "source": [
        "### String interpolation with f-strings"
      ]
    },
    {
      "cell_type": "code",
      "execution_count": null,
      "id": "b54b935c",
      "metadata": {
        "id": "b54b935c",
        "outputId": "a1bf22b7-4468-43b7-f4a6-37d74e71bfd8"
      },
      "outputs": [
        {
          "data": {
            "text/plain": [
              "'John is 24 years old!'"
            ]
          },
          "execution_count": 38,
          "metadata": {},
          "output_type": "execute_result"
        }
      ],
      "source": [
        "name = \"John\"\n",
        "age = 24\n",
        "\"{} is {} years old!\".format(name, age)"
      ]
    },
    {
      "cell_type": "code",
      "execution_count": null,
      "id": "af0d882c",
      "metadata": {
        "id": "af0d882c",
        "outputId": "3daba91c-e466-483a-b4c4-660df7591560"
      },
      "outputs": [
        {
          "data": {
            "text/plain": [
              "'John is 24 years old!'"
            ]
          },
          "execution_count": 39,
          "metadata": {},
          "output_type": "execute_result"
        }
      ],
      "source": [
        "# using f-strings\n",
        "f\"{name} is {age} years old!\" # also an expression"
      ]
    },
    {
      "cell_type": "code",
      "execution_count": null,
      "id": "3c75f87a",
      "metadata": {
        "id": "3c75f87a",
        "outputId": "f75c32b5-b4a5-42ef-850f-c1f356afc0b0"
      },
      "outputs": [
        {
          "name": "stdout",
          "output_type": "stream",
          "text": [
            "John is 288 months old!\n"
          ]
        }
      ],
      "source": [
        "print(f\"{name} is {age * 12} months old!\")"
      ]
    },
    {
      "cell_type": "markdown",
      "id": "99549f77",
      "metadata": {
        "id": "99549f77"
      },
      "source": [
        "### Basic String Processing"
      ]
    },
    {
      "cell_type": "code",
      "execution_count": null,
      "id": "cafa3772",
      "metadata": {
        "id": "cafa3772",
        "outputId": "8ec8bd6d-158c-4a19-879b-d619ad730720"
      },
      "outputs": [
        {
          "name": "stdout",
          "output_type": "stream",
          "text": [
            "Hello world!!\n",
            "hello world!!\n",
            "HELLO WORLD!!\n",
            "Hello World!!\n",
            "Hello world!!\n",
            "Hello world!!\n",
            "Hello world!!\n",
            "Hello world!!\n",
            "Hello world!!\n",
            "Hello world!!\n",
            "Hello world!!\n"
          ]
        }
      ],
      "source": [
        "print(\"Hello world!!\".capitalize())\n",
        "print(\"Hello world!!\".lower())\n",
        "print(\"Hello world!!\".upper())\n",
        "print(\"Hello world!!\".title())\n",
        "print(\"Hello world!!   \".strip())\n",
        "print(\"Hello world!!\")\n",
        "print(\"Hello world!!\")\n",
        "print(\"Hello world!!\")\n",
        "print(\"Hello world!!\")\n",
        "print(\"Hello world!!\")\n",
        "print(\"Hello world!!\")"
      ]
    },
    {
      "cell_type": "markdown",
      "id": "4b7e6f60",
      "metadata": {
        "id": "4b7e6f60"
      },
      "source": [
        "### Exercises\n",
        "1. Using the variable below, print `\"Hello, world!\".`\n",
        "\n",
        "`greeting = \"Hello, world\"`\n",
        "\n",
        "You can add the missing exclamation mark using string concatenation, format, or f-strings. The choice is yours.\n",
        "\n",
        "2. Ask the user for their name, and then greet the user, using their name as part of the greeting. The name should be in title case, and shouldn't be surrounded by any excess white space.\n",
        "\n",
        "For example, if the user enters `\"lewis \"`, your output should be something like this:\n",
        "\n",
        "`Hello, Lewis!`\n",
        "\n",
        "3. Concatenate the string `\"I am \"` and the integer `29` to produce a string which reads\n",
        "\n",
        "`\"I am 29\".`\n",
        "\n",
        "Remember that we can only concatenate strings to other strings, so you will have to convert the integer to a string before you can perform the concatenation.\n",
        "\n",
        "4. Format and print the information below using string interpolation:\n",
        "\n",
        "`title = \"Joker\"`\n",
        "\n",
        "`director = \"Todd Phillips\"`\n",
        "\n",
        "`release_year = 2019`\n",
        "\n",
        "The output should look like this:\n",
        "\n",
        "`Joker (2019), directed by Todd Phillips`\n",
        "\n",
        "You can add the missing exclamation mark using string concatenation, format, or f-strings. The choice is yours.\n",
        "\n",
        "https://teclado.com/30-days-of-python/python-30-day-3-string-formatting/"
      ]
    },
    {
      "cell_type": "code",
      "execution_count": null,
      "id": "ada98a9c",
      "metadata": {
        "id": "ada98a9c",
        "outputId": "13a9927c-1a85-40a6-c12d-fa23603758db"
      },
      "outputs": [
        {
          "name": "stdout",
          "output_type": "stream",
          "text": [
            "Hello, world!\n"
          ]
        }
      ],
      "source": [
        "# 1\n",
        "greeting = \"Hello, world\"\n",
        "print(f\"{greeting}!\")"
      ]
    },
    {
      "cell_type": "code",
      "execution_count": null,
      "id": "4a03d64e",
      "metadata": {
        "id": "4a03d64e",
        "outputId": "4a776c7b-a589-458c-f20a-aa7bb30767e1"
      },
      "outputs": [
        {
          "name": "stdout",
          "output_type": "stream",
          "text": [
            "Hello, Udit Pathak Kumar Shashwat!\n"
          ]
        }
      ],
      "source": [
        "# 2\n",
        "name = input(\"Please enter your name: \")\n",
        "print(f\"Hello, {name.strip().title()}!\")"
      ]
    },
    {
      "cell_type": "code",
      "execution_count": null,
      "id": "16592d53",
      "metadata": {
        "id": "16592d53",
        "outputId": "4c4d1fe9-5e50-4819-bd83-00c83024790d"
      },
      "outputs": [
        {
          "name": "stdout",
          "output_type": "stream",
          "text": [
            "I am 29.\n"
          ]
        }
      ],
      "source": [
        "# 3\n",
        "print(f\"I am {str(29)}.\")"
      ]
    },
    {
      "cell_type": "code",
      "execution_count": null,
      "id": "e432b74a",
      "metadata": {
        "id": "e432b74a",
        "outputId": "4c738328-0691-4c63-b0aa-ff3c36cdc297"
      },
      "outputs": [
        {
          "name": "stdout",
          "output_type": "stream",
          "text": [
            "Joker (2019), directed by Todd Phillips\n"
          ]
        }
      ],
      "source": [
        "# 4\n",
        "title = \"Joker\"\n",
        "director = \"Todd Phillips\"\n",
        "release_year = 2019\n",
        "\n",
        "print(f\"{title} ({release_year}), directed by {director}\") # Joker (2019), directed by Todd Phillips"
      ]
    },
    {
      "cell_type": "markdown",
      "id": "66ac1613",
      "metadata": {
        "id": "66ac1613"
      },
      "source": [
        "### A Simple Earnings Calculator\n",
        "#### The brief\n",
        "Our application should work as follows:\n",
        "\n",
        "The user should be given three prompts where they'll be asked to provide different information about an employee.\n",
        "\n",
        "One prompt should ask for the employee's name, another should ask for their hourly wage, and the final one should ask how many hours the employee worked this week.\n",
        "\n",
        "The employee name should be processed to ensure that it's in a particular format.\n",
        "All employee names should be stripped of any excess white space, and should be in title case.\n",
        "\n",
        "This means that each word is capitalised with all other letters being lowercase. For example, if the employer accidentally has caps lock on and they write `\"rEGINA gEORGE\"`, the name will still be correctly stored as `\"Regina George\"`.\n",
        "\n",
        "The employee's total earnings for the week should be calculated by multiplying the hours worked by their hourly wage.\n",
        "\n",
        "Remember that any user input we receive is going to be a string. While we can multiply strings, it won't quite do what you want in this case. It's also worth keeping in mind that the employee's wage, or the numbers of hours they worked, might not be a whole number.\n",
        "\n",
        "After processing the employee's name and calculating their earnings for the week, the program should output this information as a single string. For example, output like this would be appropriate:\n",
        "\n",
        "`Regina George earned $800 this week.`"
      ]
    },
    {
      "cell_type": "code",
      "execution_count": null,
      "id": "7218b6f2",
      "metadata": {
        "id": "7218b6f2",
        "outputId": "dabdd342-307c-459e-f1ca-9306db1d34ef"
      },
      "outputs": [
        {
          "name": "stdout",
          "output_type": "stream",
          "text": [
            "Udit earned $50000.00 this week.\n"
          ]
        }
      ],
      "source": [
        "employee_name = input(\"Please enter your name: \")\n",
        "hourly_wages = input(\"Please enter your wages per hour? \")\n",
        "worked_hours = input(\"Please enter how many hours you worked: \")\n",
        "\n",
        "print(f\"{employee_name.strip().title()} earned ${(float(hourly_wages)*float(worked_hours)):.2f} this week.\")"
      ]
    },
    {
      "cell_type": "markdown",
      "id": "d06be751",
      "metadata": {
        "id": "d06be751"
      },
      "source": [
        "# Day 4\n",
        "\n",
        "### Basic Python Collections\n",
        "\n",
        "#### List"
      ]
    },
    {
      "cell_type": "code",
      "execution_count": null,
      "id": "54c7a7fb",
      "metadata": {
        "id": "54c7a7fb"
      },
      "outputs": [],
      "source": [
        "names = [\"Ayush\", \"Udit\", \"Urvija\", \"Suryansh\", \"Dinesh\"]"
      ]
    },
    {
      "cell_type": "code",
      "execution_count": null,
      "id": "3bb4dc7d",
      "metadata": {
        "id": "3bb4dc7d"
      },
      "outputs": [],
      "source": [
        "movies = [\n",
        "    \"Saiyaara\",\n",
        "    \"Tu Jhooti Main Makkar\",\n",
        "    \"Ye Saali Zindagi\",\n",
        "    \"The Secret Life of Jajantaram Mamantaram\"\n",
        "]"
      ]
    },
    {
      "cell_type": "code",
      "execution_count": null,
      "id": "09f00152",
      "metadata": {
        "id": "09f00152"
      },
      "outputs": [],
      "source": [
        "ayushi_details = [\n",
        "    \"Shukla Pathak\",\n",
        "    \"Udit Pathak\",\n",
        "    29,\n",
        "    \"Vendor Consultant\",\n",
        "    [\n",
        "        \"Singing\",\n",
        "        \"Daancing\",\n",
        "        \"Cooking\"\n",
        "        ]\n",
        "]"
      ]
    },
    {
      "cell_type": "code",
      "execution_count": null,
      "id": "4c589ce5",
      "metadata": {
        "id": "4c589ce5",
        "outputId": "c962737a-4a47-4f4b-a010-4ba40c83867a"
      },
      "outputs": [
        {
          "name": "stdout",
          "output_type": "stream",
          "text": [
            "['Shukla Pathak', 'Udit Pathak', 29, 'Vendor Consultant', ['Singing', 'Daancing', 'Cooking']]\n",
            "Ayush Shukla Pathak\n",
            "Dinesh\n"
          ]
        }
      ],
      "source": [
        "print(ayushi_details)\n",
        "\n",
        "print(names[0], ayushi_details[0])\n",
        "\n",
        "print(names[-1])"
      ]
    },
    {
      "cell_type": "code",
      "execution_count": null,
      "id": "543ce4f8",
      "metadata": {
        "id": "543ce4f8"
      },
      "outputs": [],
      "source": [
        "names.append(\"Kuttu\")\n"
      ]
    },
    {
      "cell_type": "code",
      "execution_count": null,
      "id": "f8f8dbe1",
      "metadata": {
        "id": "f8f8dbe1",
        "outputId": "b07514c6-5740-48ef-936b-5e0c3487607e"
      },
      "outputs": [
        {
          "name": "stdout",
          "output_type": "stream",
          "text": [
            "['Ayush', 'Udit', 'Urvija', 'Suryansh', 'Dinesh', 'Kuttu']\n"
          ]
        }
      ],
      "source": [
        "print(names)"
      ]
    },
    {
      "cell_type": "code",
      "execution_count": null,
      "id": "74f013e4",
      "metadata": {
        "id": "74f013e4"
      },
      "outputs": [],
      "source": [
        "names = names + [\"Muttu\"]"
      ]
    },
    {
      "cell_type": "code",
      "execution_count": null,
      "id": "59d56a64",
      "metadata": {
        "id": "59d56a64",
        "outputId": "92461548-d610-4768-c3fc-5ceab510b38a"
      },
      "outputs": [
        {
          "name": "stdout",
          "output_type": "stream",
          "text": [
            "['Ayush', 'Udit', 'Urvija', 'Suryansh', 'Dinesh', 'Kuttu', 'Muttu']\n"
          ]
        }
      ],
      "source": [
        "print(names)"
      ]
    },
    {
      "cell_type": "code",
      "execution_count": null,
      "id": "08f6c44c",
      "metadata": {
        "id": "08f6c44c",
        "outputId": "c7b716f1-3948-4dac-9d67-d6539714c7b1"
      },
      "outputs": [
        {
          "name": "stdout",
          "output_type": "stream",
          "text": [
            "[1, 2, 3, 4, 5]\n"
          ]
        }
      ],
      "source": [
        "num = [1, 2, 4, 5]\n",
        "num.insert(2, 3)\n",
        "print(num)"
      ]
    },
    {
      "cell_type": "code",
      "execution_count": null,
      "id": "f4f10195",
      "metadata": {
        "id": "f4f10195",
        "outputId": "5de32f2e-ebcf-4dea-f12f-faf3c17bd82f"
      },
      "outputs": [
        {
          "name": "stdout",
          "output_type": "stream",
          "text": [
            "['Ayush', 'Udit', 'Urvija', 'Suryansh', 'Dinesh', 'Muttu']\n"
          ]
        }
      ],
      "source": [
        "names.remove(\"Kuttu\")\n",
        "print(names)"
      ]
    },
    {
      "cell_type": "code",
      "execution_count": null,
      "id": "926c4cef",
      "metadata": {
        "id": "926c4cef",
        "outputId": "4762bd17-1165-4f30-d60c-eca3eb1b156f"
      },
      "outputs": [
        {
          "name": "stdout",
          "output_type": "stream",
          "text": [
            "['Ayush', 'Udit', 'Urvija', 'Suryansh', 'Dinesh']\n"
          ]
        }
      ],
      "source": [
        "del names[-1]\n",
        "print(names)"
      ]
    },
    {
      "cell_type": "code",
      "execution_count": null,
      "id": "4347d925",
      "metadata": {
        "id": "4347d925",
        "outputId": "63988fdf-e833-4230-f69d-fdf681acce11"
      },
      "outputs": [
        {
          "name": "stdout",
          "output_type": "stream",
          "text": [
            "['Ayush', 'Udit', 'Urvija', 'Suryansh']\n"
          ]
        }
      ],
      "source": [
        "names.pop()\n",
        "print(names)"
      ]
    },
    {
      "cell_type": "code",
      "execution_count": null,
      "id": "9ebe59e7",
      "metadata": {
        "id": "9ebe59e7",
        "outputId": "fd68e8ce-2b4b-480a-e36c-dfef53192215"
      },
      "outputs": [
        {
          "name": "stdout",
          "output_type": "stream",
          "text": [
            "Suryansh\n",
            "['Ayush', 'Udit', 'Urvija']\n"
          ]
        }
      ],
      "source": [
        "last_name = names.pop()\n",
        "print(last_name)\n",
        "print(names)"
      ]
    },
    {
      "cell_type": "markdown",
      "id": "d964e670",
      "metadata": {
        "id": "d964e670"
      },
      "source": [
        "#### Tuple"
      ]
    },
    {
      "cell_type": "code",
      "execution_count": null,
      "id": "7b2308c8",
      "metadata": {
        "id": "7b2308c8"
      },
      "outputs": [],
      "source": [
        "# 3 tuples in a list where each tuple has two items\n",
        "movies = [\n",
        "    (\"Saiyaara\", 2025),\n",
        "    (\"Maalik\", 2025),\n",
        "    (\"Mela\", 2000)\n",
        "]"
      ]
    },
    {
      "cell_type": "code",
      "execution_count": null,
      "id": "0265712a",
      "metadata": {
        "id": "0265712a",
        "outputId": "0d1f87d7-109f-4611-c908-30596775172b"
      },
      "outputs": [
        {
          "name": "stdout",
          "output_type": "stream",
          "text": [
            "('Saiyaara', 2025)\n",
            "Saiyaara\n"
          ]
        }
      ],
      "source": [
        "# access\n",
        "print(movies[0])\n",
        "print(movies[0][0])"
      ]
    },
    {
      "cell_type": "markdown",
      "id": "1ebf549b",
      "metadata": {
        "id": "1ebf549b"
      },
      "source": [
        "### Exercises\n",
        "\n",
        "1. Create a `movies` list containing a single tuple. The tuple should contain a movie title, the director’s name, the release year of the movie, and the movie’s budget.\n",
        "\n",
        "2. Use the `input` function to gather information about another movie. You need a title, director’s name, release year, and budget.\n",
        "\n",
        "3. Create a new tuple from the values you gathered using `input`. Make sure they’re in the same order as the tuple you wrote in the `movies` list.\n",
        "\n",
        "4. Use an **f-string** to print the movie name and release year by accessing your new movie tuple.\n",
        "\n",
        "5. Add the new movie tuple to the `movies` collection using `append`.\n",
        "\n",
        "6. Print both movies in the `movies` collection.\n",
        "\n",
        "7. Remove the first movie from `movies`. Use any method you like."
      ]
    },
    {
      "cell_type": "code",
      "execution_count": null,
      "id": "d7bdfbf9",
      "metadata": {
        "id": "d7bdfbf9",
        "outputId": "fc2edf19-a9c2-41d6-cd22-57ee043a2660"
      },
      "outputs": [
        {
          "name": "stdout",
          "output_type": "stream",
          "text": [
            "1. List of movies created: [('Saiyaara', 'Mohit Suri', 2025, '50 Crores')]\n",
            "\n",
            "2. New movie input done\n",
            "\n",
            "3. New movie Tuple: new_movie: ('Ppagla', 'Udit Pathak', '2.15', '250000 Crore')\n",
            "\n",
            "Ppagla, 2.15\n",
            "\n",
            "4. printed movie name and release year\n",
            "\n",
            "5. List of movies updated: [('Saiyaara', 'Mohit Suri', 2025, '50 Crores'), ('Ppagla', 'Udit Pathak', '2.15', '250000 Crore')]\n",
            "\n",
            "Saiyaara, \n",
            "Ppagla\n",
            "\n",
            "6. Movie names printed\n",
            "\n",
            "7. List of movies after deletion: [('Ppagla', 'Udit Pathak', '2.15', '250000 Crore')]\n",
            "\n"
          ]
        }
      ],
      "source": [
        "# 1\n",
        "movies = [\n",
        "    (\n",
        "        \"Saiyaara\",\n",
        "        \"Mohit Suri\",\n",
        "        2025,\n",
        "        \"50 Crores\"\n",
        "    )\n",
        "]\n",
        "print(f\"1. List of movies created: {movies}\\n\")\n",
        "\n",
        "# 2\n",
        "movie_name = input(\"Enter name of a movie:\")\n",
        "movie_director_name = input(\"Enter director's name for the movie:\")\n",
        "movie_release_year = input(\"Enter release year of the movie:\")\n",
        "movie_budget = input(\"Enter budget of movie:\")\n",
        "print(f\"2. New movie input done\\n\")\n",
        "\n",
        "# 3\n",
        "new_movie = (movie_name, movie_director_name, movie_release_year, movie_budget)\n",
        "print(f\"3. New movie Tuple: new_movie: {new_movie}\\n\")\n",
        "\n",
        "# 4\n",
        "print(f\"{new_movie[0]}, {new_movie[2]}\\n\")\n",
        "print(\"4. printed movie name and release year\\n\")\n",
        "\n",
        "# 5\n",
        "movies.append(new_movie)\n",
        "print(f\"5. List of movies updated: {movies}\\n\")\n",
        "\n",
        "# 6\n",
        "print(f\"{movies[0][0]}, \\n{movies[1][0]}\\n\")\n",
        "print(f\"6. Movie names printed\\n\")\n",
        "\n",
        "# 7\n",
        "del movies[0] # or movies.pop(0) ro movies.remove(movies[0])\n",
        "\n",
        "print(f\"7. List of movies after deletion: {movies}\\n\")\n"
      ]
    },
    {
      "cell_type": "markdown",
      "id": "1bf4ceff",
      "metadata": {
        "id": "1bf4ceff"
      },
      "source": [
        "# Day 5\n",
        "\n",
        "### Conditionals & Booleans"
      ]
    },
    {
      "cell_type": "code",
      "execution_count": null,
      "id": "e99a9f95",
      "metadata": {
        "id": "e99a9f95",
        "outputId": "912c1b3c-27ab-4285-ec2f-81e28314a12c"
      },
      "outputs": [
        {
          "name": "stdout",
          "output_type": "stream",
          "text": [
            "False\n",
            "True\n",
            "True\n",
            "False\n",
            "False\n"
          ]
        }
      ],
      "source": [
        "print(bool(0))\n",
        "print(bool(1))\n",
        "print(bool(\"Udit\"))\n",
        "print(bool([]))\n",
        "print(bool(''))"
      ]
    },
    {
      "cell_type": "code",
      "execution_count": null,
      "id": "e8ccaea1",
      "metadata": {
        "id": "e8ccaea1",
        "outputId": "173e7cd3-0e04-4c67-cc22-3bfce5b46f2b"
      },
      "outputs": [
        {
          "name": "stdout",
          "output_type": "stream",
          "text": [
            "False\n",
            "True\n",
            "True\n",
            "False\n",
            "True\n"
          ]
        }
      ],
      "source": [
        "print(bool(5 > 10))\n",
        "print(bool(5 >= 5))\n",
        "print(bool(-2 > -100))\n",
        "print(bool(\"A\" > \"a\"))\n",
        "print(bool(5.0 > 3.25))"
      ]
    },
    {
      "cell_type": "code",
      "execution_count": null,
      "id": "71b6300b",
      "metadata": {
        "id": "71b6300b",
        "outputId": "e0703a49-8d12-420f-845b-ba18f963a431"
      },
      "outputs": [
        {
          "name": "stdout",
          "output_type": "stream",
          "text": [
            "False\n",
            "True\n",
            "True\n",
            "False\n",
            "True\n"
          ]
        }
      ],
      "source": [
        "print(0 == \"0\")                # False\n",
        "print(0 == 0)                  # True\n",
        "print(7 == 7.0)                # True\n",
        "print(\"Hello\" == \"Hello!\")     # False\n",
        "print([1, 2, 3] == [1, 2, 3])  # True"
      ]
    },
    {
      "cell_type": "code",
      "execution_count": null,
      "id": "cf0264d7",
      "metadata": {
        "id": "cf0264d7",
        "outputId": "91cc89f2-326c-4365-fda2-e346b76532ea"
      },
      "outputs": [
        {
          "name": "stdout",
          "output_type": "stream",
          "text": [
            "True\n",
            "False\n",
            "True\n"
          ]
        }
      ],
      "source": [
        "print(0 != \"0\")         # True\n",
        "print(0 != 0)           # False\n",
        "print(\"Hello\" != \"Hi\")  # True"
      ]
    },
    {
      "cell_type": "code",
      "execution_count": null,
      "id": "4ac64fe6",
      "metadata": {
        "id": "4ac64fe6",
        "outputId": "1056d092-703f-485d-c200-be094bf3a608"
      },
      "outputs": [
        {
          "name": "stdout",
          "output_type": "stream",
          "text": [
            "True\n",
            "False\n"
          ]
        }
      ],
      "source": [
        "a = [1, 2, 3]\n",
        "b = [1, 2, 3]\n",
        "\n",
        "print(a == b)  # True\n",
        "print(a is b)  # False"
      ]
    },
    {
      "cell_type": "code",
      "execution_count": null,
      "id": "32052b81",
      "metadata": {
        "id": "32052b81",
        "outputId": "bca6cf71-2c87-4bd7-b405-69251ce05584"
      },
      "outputs": [
        {
          "name": "stdout",
          "output_type": "stream",
          "text": [
            "2719462468224\n",
            "2719463952640\n",
            "True\n",
            "False\n"
          ]
        }
      ],
      "source": [
        "a = [1, 2, 3]\n",
        "b = [1, 2, 3]\n",
        "\n",
        "print(id(a))  # 139806639351360\n",
        "print(id(b))  # 139806638418944\n",
        "\n",
        "print(a == b)  # True\n",
        "print(a is b)  # False\n"
      ]
    },
    {
      "cell_type": "code",
      "execution_count": null,
      "id": "ca1976dc",
      "metadata": {
        "id": "ca1976dc",
        "outputId": "6a28ce3e-e9d4-4ba9-9c3a-0d81e5c0b8dc"
      },
      "outputs": [
        {
          "name": "stdout",
          "output_type": "stream",
          "text": [
            "2719463791104\n",
            "2719463791104\n",
            "True\n",
            "True\n"
          ]
        }
      ],
      "source": [
        "a = [1, 2, 3]\n",
        "b = a\n",
        "\n",
        "print(id(a))  # 139685763327296\n",
        "print(id(b))  # 139685763327296\n",
        "\n",
        "print(a == b)  # True\n",
        "print(a is b)  # True\n"
      ]
    },
    {
      "cell_type": "code",
      "execution_count": null,
      "id": "bb17abcf",
      "metadata": {
        "id": "bb17abcf"
      },
      "outputs": [],
      "source": [
        "# Comparison operators are always lower priority than arithmetic operators.\n",
        "# For example, if we write an expression like this:\n",
        "5 + 4 < 3 * 2\n",
        "(5 + 4) < (3 * 2)\n",
        "9 < 6  # False"
      ]
    },
    {
      "cell_type": "markdown",
      "id": "2ce6d336",
      "metadata": {
        "id": "2ce6d336"
      },
      "source": [
        "### Conditional Statements"
      ]
    },
    {
      "cell_type": "code",
      "execution_count": null,
      "id": "46c5e1aa",
      "metadata": {
        "id": "46c5e1aa"
      },
      "outputs": [],
      "source": [
        "age = int(input(\"How old are you? \"))\n",
        "if age < 18:\n",
        "    print(\"Sorry, we can't serve you\")\n",
        "else:\n",
        "    chosen_drink = input(\"What can I get for you? \")"
      ]
    },
    {
      "cell_type": "code",
      "execution_count": null,
      "id": "96d2febd",
      "metadata": {
        "id": "96d2febd",
        "outputId": "ee8672d5-185f-46af-c340-47c958576dba"
      },
      "outputs": [
        {
          "name": "stdout",
          "output_type": "stream",
          "text": [
            "You must pay the standard rate of $1.5.\n"
          ]
        }
      ],
      "source": [
        "# elif\n",
        "\n",
        "age = int(input(\"How old are you? \"))\n",
        "if age < 16:\n",
        "    print(\"You are eligible for a child rate of 80p.\")\n",
        "elif age >=60:\n",
        "    print(\"You are eligible for OAP rate of $1.\")\n",
        "else:\n",
        "    print(\"You must pay the standard rate of $1.5.\")"
      ]
    },
    {
      "cell_type": "code",
      "execution_count": null,
      "id": "66a84412",
      "metadata": {
        "id": "66a84412",
        "outputId": "f268ee2f-a285-41c0-ee60-fa1af8ba527e"
      },
      "outputs": [
        {
          "name": "stdout",
          "output_type": "stream",
          "text": [
            "You did not type anything.\n"
          ]
        }
      ],
      "source": [
        "name = input(\"Please enter your name: \")\n",
        "\n",
        "if name: # checks the truth value of name by calling bool\n",
        "    print(f\"Your entered name: {name}\")\n",
        "else:\n",
        "    print(\"You did not type anything.\")"
      ]
    },
    {
      "cell_type": "markdown",
      "id": "beef2923",
      "metadata": {
        "id": "beef2923"
      },
      "source": [
        "### Exercises\n",
        "\n",
        "1) Try to approximate the behaviour of the `is` operator using `==`. Remember we have the `id` function for finding the memory address for a given value, and we can compare memory addresses to check for identity.\n",
        "\n",
        "2) Try to use the `is` operator or the `id` function to investigate the difference between this:\n",
        "\n",
        "    `numbers = [1, 2, 3, 4]`\n",
        "    `new_numbers = numbers + [5]`\n",
        "\n",
        "    And this:\n",
        "\n",
        "    `numbers = [1, 2, 3, 4]`\n",
        "    `numbers.append(5)`\n",
        "\n",
        "    Are `new_numbers` and `numbers` the same thing? What about numbers before and after we append `5`?\n",
        "\n",
        "3) Ask the user to enter a number. Tell the user whether the number is positive, negative, or zero.\n",
        "\n",
        "4) Write a program to determine whether an employee is owed any overtime. You should ask the user how many hours the employee worked this week, as well as the hourly wage for this employee."
      ]
    },
    {
      "cell_type": "code",
      "execution_count": null,
      "id": "6e1f0631",
      "metadata": {
        "id": "6e1f0631",
        "outputId": "c151ba06-3b01-45ed-c5cc-ac176862e481"
      },
      "outputs": [
        {
          "name": "stdout",
          "output_type": "stream",
          "text": [
            "Is list l1 equal to list l2? True\n",
            "Whether list l1 is list l2? False\n",
            "Is list l1 equal to list l3? True\n",
            "Whether list l1 is list l3? True\n"
          ]
        }
      ],
      "source": [
        "# 1\n",
        "l1 = [1, 2, 3]\n",
        "l2 = [1, 2, 3]\n",
        "l3 = l1\n",
        "\n",
        "print(f\"Is list l1 equal to list l2? {bool(l1 == l2)}\")\n",
        "print(f\"Whether list l1 is list l2? {bool(l1 is l2)}\")\n",
        "\n",
        "print(f\"Is list l1 equal to list l3? {bool(l1 == l3)}\")\n",
        "print(f\"Whether list l1 is list l3? {bool(l1 is l3)}\")"
      ]
    },
    {
      "cell_type": "code",
      "execution_count": null,
      "id": "777687cf",
      "metadata": {
        "id": "777687cf",
        "outputId": "de150b84-480a-4d4a-b97e-2ee3beb14f9e"
      },
      "outputs": [
        {
          "name": "stdout",
          "output_type": "stream",
          "text": [
            "Checking if numbers and new_numbers is same: 2719462779456 is 2719464026112 : False\n"
          ]
        }
      ],
      "source": [
        "# 2\n",
        "numbers = [1, 2, 3, 4]\n",
        "new_numbers = numbers + [5]\n",
        "print(f\"Checking if numbers and new_numbers is same: {id(numbers)} is {id(new_numbers)} : {bool(id(numbers) is id(new_numbers) )}\")"
      ]
    },
    {
      "cell_type": "code",
      "execution_count": null,
      "id": "11671159",
      "metadata": {
        "id": "11671159",
        "outputId": "a31946fc-0873-4fa4-8b22-4e35e574cfce"
      },
      "outputs": [
        {
          "name": "stdout",
          "output_type": "stream",
          "text": [
            "Checking if numbers and new_numbers2 is same: 2719470959168 is 2719470959168 : True\n"
          ]
        }
      ],
      "source": [
        "numbers = [1, 2, 3, 4]\n",
        "new_numbers2 = numbers\n",
        "numbers.append(5)\n",
        "print(f\"Checking if numbers and new_numbers2 is same: {id(numbers)} is {id(new_numbers2)} : {bool(numbers is new_numbers2)}\")"
      ]
    },
    {
      "cell_type": "code",
      "execution_count": null,
      "id": "6cdc3cf6",
      "metadata": {
        "id": "6cdc3cf6",
        "outputId": "36e55119-97aa-49c1-f074-a48b3ae82e6c"
      },
      "outputs": [
        {
          "name": "stdout",
          "output_type": "stream",
          "text": [
            "Positive\n"
          ]
        }
      ],
      "source": [
        "# 3\n",
        "num = int(input(\"Enter a number: \"))\n",
        "if num > 0:\n",
        "    print(\"Positive\")\n",
        "elif num < 0:\n",
        "    print(\"Negative\")\n",
        "else:\n",
        "    print(\"Zero\")"
      ]
    },
    {
      "cell_type": "code",
      "execution_count": null,
      "id": "aa9f7da3",
      "metadata": {
        "id": "aa9f7da3",
        "outputId": "e1e9b0bb-853e-46ee-efb5-e2e43dadeb0f"
      },
      "outputs": [
        {
          "name": "stdout",
          "output_type": "stream",
          "text": [
            "Udit Pathak worked 120.0 hours. Overtime owed is: $880000.00\n"
          ]
        }
      ],
      "source": [
        "# 4. we need to determine whether or not the employee worked more than 40 hours this week.\n",
        "# If they did, we need to pay them 110% of their hourly wage for any hours worked over the 40 hours.\n",
        "\n",
        "employee = input(\"Please enter your name: \")\n",
        "hourly_wage = float(input(\"Enter your hourly wage: \"))\n",
        "hours_worked = float(input(\"How many hours did your work this week: \"))\n",
        "\n",
        "if hours_worked > 40:\n",
        "    print(f\"{employee.title().strip()} worked {hours_worked} hours. Overtime owed is: ${((hourly_wage * 1.1)*(hours_worked - 40)):.2f}\")\n",
        "else:\n",
        "    print(f\"{employee.title().strip()} worked {hours_worked} hours. No overtime owed.\")"
      ]
    },
    {
      "cell_type": "code",
      "execution_count": null,
      "id": "ee3242f5",
      "metadata": {
        "id": "ee3242f5",
        "outputId": "ce992c82-4928-4dc8-83ba-e7324bf6a68d"
      },
      "outputs": [
        {
          "name": "stdout",
          "output_type": "stream",
          "text": [
            "Paras's regular pay is: 40000.00 and no overtime pay.\n"
          ]
        }
      ],
      "source": [
        "# 4. we need to determine whether or not the employee worked more than 40 hours this week.\n",
        "# If they did, we need to pay them 110% of their hourly wage for any hours worked over the 40 hours.\n",
        "\n",
        "employee = input(\"Please enter your name: \")\n",
        "hourly_wage = float(input(\"Enter your hourly wage: \"))\n",
        "hours_worked = float(input(\"How many hours did your work this week: \"))\n",
        "regular_pay = 40 * hourly_wage\n",
        "overtime_pay = (hours_worked - 40) * (hourly_wage * 1.1)\n",
        "\n",
        "if hours_worked > 40:\n",
        "    print(f\"{employee.title().strip()}'s regular pay is: {regular_pay:.2f} and overtime due is: {overtime_pay:.2f}\")\n",
        "\n",
        "else:\n",
        "    print(f\"{employee.title().strip()}'s regular pay is: {regular_pay:.2f} and no overtime pay.\")"
      ]
    },
    {
      "cell_type": "markdown",
      "id": "71fb983b",
      "metadata": {
        "id": "71fb983b"
      },
      "source": [
        "# Day 6\n",
        "\n",
        "### Loops"
      ]
    },
    {
      "cell_type": "code",
      "execution_count": null,
      "id": "5050ac87",
      "metadata": {
        "id": "5050ac87",
        "outputId": "1e139573-c06b-404c-d420-bb7f8e4649da"
      },
      "outputs": [
        {
          "name": "stdout",
          "output_type": "stream",
          "text": [
            "Eternal Sunshine of the Spotless Mind (2004), by Michel Gondry\n",
            "Memento (2000), by Christopher Nolan\n",
            "Requiem for a Dream (2000), by Darren Aronofsky\n"
          ]
        }
      ],
      "source": [
        "movies = [\n",
        "    (\n",
        "        \"Eternal Sunshine of the Spotless Mind\",\n",
        "        \"Michel Gondry\",\n",
        "        2004\n",
        "    ),\n",
        "    (\n",
        "        \"Memento\",\n",
        "        \"Christopher Nolan\",\n",
        "        2000\n",
        "    ),\n",
        "    (\n",
        "        \"Requiem for a Dream\",\n",
        "        \"Darren Aronofsky\",\n",
        "        2000\n",
        "    )\n",
        "]\n",
        "\n",
        "for movie in movies:\n",
        "      print(f\"{movie[0]} ({movie[2]}), by {movie[1]}\")"
      ]
    },
    {
      "cell_type": "code",
      "execution_count": null,
      "id": "c06fceaf",
      "metadata": {
        "id": "c06fceaf",
        "outputId": "716db042-61d3-4208-a0b5-10413a056d9b"
      },
      "outputs": [
        {
          "name": "stdout",
          "output_type": "stream",
          "text": [
            "Memento is in the movie library!\n"
          ]
        }
      ],
      "source": [
        "movies = [\n",
        "    (\n",
        "        \"Eternal Sunshine of the Spotless Mind\",\n",
        "        \"Michel Gondry\",\n",
        "        2004\n",
        "    ),\n",
        "    (\n",
        "        \"Memento\",\n",
        "        \"Christopher Nolan\",\n",
        "        2000\n",
        "    ),\n",
        "    (\n",
        "        \"Requiem for a Dream\",\n",
        "        \"Darren Aronofsky\",\n",
        "        2000\n",
        "    )\n",
        "]\n",
        "\n",
        "for movie in movies:\n",
        "      # Check the title of the current movie is Memento\n",
        "      if movie[0] == \"Memento\":\n",
        "            # If the title is Memento, inform the user that the movie exists and break the loop\n",
        "            print(\"Memento is in the movie library!\")\n",
        "            break\n"
      ]
    },
    {
      "cell_type": "code",
      "execution_count": null,
      "id": "b4c8b8b4",
      "metadata": {
        "id": "b4c8b8b4",
        "outputId": "7e9ea1a1-9bbf-4f65-bc35-cd918c0fac2c"
      },
      "outputs": [
        {
          "name": "stdout",
          "output_type": "stream",
          "text": [
            "range(10, 0, -1)\n"
          ]
        }
      ],
      "source": [
        "range(10)\n",
        "range(3, 10)\n",
        "range(0, 10, 2)   # 0, 2, 4, 6, 8\n",
        "range(10, 0, -1)  # 10, 9, 8, 7, 6, 5, 4, 3, 2, 1"
      ]
    },
    {
      "cell_type": "code",
      "execution_count": null,
      "id": "375ec9ef",
      "metadata": {
        "id": "375ec9ef"
      },
      "outputs": [],
      "source": [
        "# `range`` is an iterable, which means we can use it in for loops.\n",
        "# It also means we can convert it to a list or tuple if we want to.\n",
        "numbers = list(range(10))             # [0, 1, 2, 3, 4, 5, 6, 7, 8, 9]\n",
        "immutable_numbers = tuple(range(10))  # (0, 1, 2, 3, 4, 5, 6, 7, 8, 9)"
      ]
    },
    {
      "cell_type": "code",
      "execution_count": null,
      "id": "ffbc0bbf",
      "metadata": {
        "id": "ffbc0bbf",
        "outputId": "cc3e663b-6b6e-4813-de75-f194412bf8f5"
      },
      "outputs": [
        {
          "name": "stdout",
          "output_type": "stream",
          "text": [
            "2 * 1 = 2\n",
            "2 * 2 = 4\n",
            "2 * 3 = 6\n",
            "2 * 4 = 8\n",
            "2 * 5 = 10\n",
            "2 * 6 = 12\n",
            "2 * 7 = 14\n",
            "2 * 8 = 16\n",
            "2 * 9 = 18\n",
            "2 * 10 = 20\n"
          ]
        }
      ],
      "source": [
        "# Iterating over a raange\n",
        "for i in range(1,11):\n",
        "    print(f\"2 * {i} = {2*i}\")"
      ]
    },
    {
      "cell_type": "code",
      "execution_count": null,
      "id": "82dff25c",
      "metadata": {
        "id": "82dff25c"
      },
      "outputs": [],
      "source": [
        "# use `underscore` as the loop variable when we don't need to reference it inside the loop\n",
        "for _ in range(10):\n",
        "    print(\"Hello!\")\n"
      ]
    },
    {
      "cell_type": "markdown",
      "id": "af908fbc",
      "metadata": {
        "id": "af908fbc"
      },
      "source": [
        "### Exercises\n",
        "\n",
        "1) Below we've provided a list of tuples, where each tuple contains details about an employee of a shop: their name, the number of hours worked last week, and their hourly rate. Print how much each employee is due to be paid at the end of the week in a nice, readable format.\n",
        "\n",
        "```\n",
        "employees = [\n",
        "    (\"Rolf Smith\", 35, 8.75),\n",
        "    (\"Anne Pun\", 30, 12.50),\n",
        "    (\"Charlie Lee\", 50, 15.50),\n",
        "    (\"Bob Smith\", 20, 7.00)\n",
        "]\n",
        "```\n",
        "\n",
        "2) For the employees above, print out those who are earning an hourly wage above average.\n",
        "\n",
        "Hint: you can use a for loop and two variables to keep track of the total wage and the number of employees. Then, use the two variables to calculate the average. Finally, add another loop that goes through the employees list again and prints out only those who have an hourly wage above the calculated average."
      ]
    },
    {
      "cell_type": "code",
      "execution_count": null,
      "id": "4be795a2",
      "metadata": {
        "id": "4be795a2",
        "outputId": "f843a573-3fa5-44fd-e352-f01324ce08b0"
      },
      "outputs": [
        {
          "name": "stdout",
          "output_type": "stream",
          "text": [
            "Rolf Smith is due $306.25 for last week's work.\n",
            "Anne Pun is due $375.00 for last week's work.\n",
            "Charlie Lee is due $775.00 for last week's work.\n",
            "Bob Smith is due $140.00 for last week's work.\n"
          ]
        }
      ],
      "source": [
        "# 1\n",
        "employees = [\n",
        "    (\"Rolf Smith\", 35, 8.75),\n",
        "    (\"Anne Pun\", 30, 12.50),\n",
        "    (\"Charlie Lee\", 50, 15.50),\n",
        "    (\"Bob Smith\", 20, 7.00)\n",
        "]\n",
        "\n",
        "for i in employees:\n",
        "    wage_due = i[1] * i[2]\n",
        "    print(f\"{i[0]} is due ${wage_due:.2f} for last week's work.\")"
      ]
    },
    {
      "cell_type": "code",
      "execution_count": null,
      "id": "918b06a5",
      "metadata": {
        "id": "918b06a5",
        "outputId": "c9a22e5c-e80c-4342-e039-865ec6d84a57"
      },
      "outputs": [
        {
          "name": "stdout",
          "output_type": "stream",
          "text": [
            "We have a total of 4 employees and the average hourly wage is: 10.94\n",
            "Anne Pun's hourly wage is above average\n",
            "Charlie Lee's hourly wage is above average\n"
          ]
        }
      ],
      "source": [
        "# 2\n",
        "count = 0\n",
        "total_hourly_wage = 0\n",
        "for j in employees:\n",
        "    total_hourly_wage = j[2] + total_hourly_wage\n",
        "    count = count + 1\n",
        "\n",
        "avg_hourly_wage = total_hourly_wage / count\n",
        "print(f\"We have a total of {count} employees and the average hourly wage is: {avg_hourly_wage:.2f}\")\n",
        "\n",
        "for k in employees:\n",
        "    if k[2] > avg_hourly_wage:\n",
        "        print(f\"{k[0]}'s hourly wage is above average\")"
      ]
    },
    {
      "cell_type": "markdown",
      "id": "c826ebc4",
      "metadata": {
        "id": "c826ebc4"
      },
      "source": [
        "### Project - Fizz Buzz\n",
        "\n",
        "In case you're not familiar with the game, it goes like this:\n",
        "\n",
        "One player starts by saying the number 1.\n",
        "\n",
        "Each player then takes it in turns to say the next number, counting one at a time.\n",
        "\n",
        "If the number is divisible by 3, instead of saying the number, the player should say, \"Fizz\".\n",
        "\n",
        "If the number is divisible by 5, instead of saying the number, the player should say, \"Buzz\".\n",
        "\n",
        "If the number is divisible by 3 and 5, instead of saying the number, the player should say, \"Fizz Buzz\".\n",
        "\n",
        "If you make a mistake, you're usually eliminated from the game, and the game continues until there's only a single player remaining.\n",
        "\n",
        "#### Brief\n",
        "\n",
        "For our version, we're only going to have a single player, the computer, and it's going to play the first 100 rounds of Fizz Buzz all by itself. In other words, we need to print out the first 100 items in the sequence, starting from 1.\n",
        "\n",
        "In order to complete this exercise, you're going to need to use loops, and you can generate your list of numbers using range. You're also going to need conditionals, and you're going to need be able to check if something is divisible by 3 or 5."
      ]
    },
    {
      "cell_type": "code",
      "execution_count": null,
      "id": "b48eb271",
      "metadata": {
        "id": "b48eb271",
        "outputId": "6c84e43f-afd8-44e4-cf83-b4e45f01cca7"
      },
      "outputs": [
        {
          "name": "stdout",
          "output_type": "stream",
          "text": [
            "1\n",
            "2\n",
            "Fizz\n",
            "4\n",
            "Buzz\n",
            "Fizz\n",
            "7\n",
            "8\n",
            "Fizz\n",
            "Buzz\n",
            "11\n",
            "Fizz\n",
            "13\n",
            "14\n",
            "Fizz Buzz\n",
            "16\n",
            "17\n",
            "Fizz\n",
            "19\n",
            "Buzz\n",
            "Fizz\n",
            "22\n",
            "23\n",
            "Fizz\n",
            "Buzz\n",
            "26\n",
            "Fizz\n",
            "28\n",
            "29\n",
            "Fizz Buzz\n",
            "31\n",
            "32\n",
            "Fizz\n",
            "34\n",
            "Buzz\n",
            "Fizz\n",
            "37\n",
            "38\n",
            "Fizz\n",
            "Buzz\n",
            "41\n",
            "Fizz\n",
            "43\n",
            "44\n",
            "Fizz Buzz\n",
            "46\n",
            "47\n",
            "Fizz\n",
            "49\n",
            "Buzz\n",
            "Fizz\n",
            "52\n",
            "53\n",
            "Fizz\n",
            "Buzz\n",
            "56\n",
            "Fizz\n",
            "58\n",
            "59\n",
            "Fizz Buzz\n",
            "61\n",
            "62\n",
            "Fizz\n",
            "64\n",
            "Buzz\n",
            "Fizz\n",
            "67\n",
            "68\n",
            "Fizz\n",
            "Buzz\n",
            "71\n",
            "Fizz\n",
            "73\n",
            "74\n",
            "Fizz Buzz\n",
            "76\n",
            "77\n",
            "Fizz\n",
            "79\n",
            "Buzz\n",
            "Fizz\n",
            "82\n",
            "83\n",
            "Fizz\n",
            "Buzz\n",
            "86\n",
            "Fizz\n",
            "88\n",
            "89\n",
            "Fizz Buzz\n",
            "91\n",
            "92\n",
            "Fizz\n",
            "94\n",
            "Buzz\n",
            "Fizz\n",
            "97\n",
            "98\n",
            "Fizz\n",
            "Buzz\n"
          ]
        }
      ],
      "source": [
        "for i in range(1,101):\n",
        "    if (i % 3 == 0):\n",
        "        if (i % 5 == 0):\n",
        "            print(\"Fizz Buzz\")\n",
        "        else:\n",
        "            print(\"Fizz\")\n",
        "    elif (i % 5 == 0):\n",
        "        print(\"Buzz\")\n",
        "    else:\n",
        "        print(i)"
      ]
    },
    {
      "cell_type": "markdown",
      "id": "fc0c97cd",
      "metadata": {
        "id": "fc0c97cd"
      },
      "source": [
        "# Day 7: split, join, and Slices\n",
        "\n",
        "### Converting tuples and lists to strings"
      ]
    },
    {
      "cell_type": "code",
      "execution_count": null,
      "id": "084f3071",
      "metadata": {
        "id": "084f3071",
        "outputId": "2ee6ae20-2467-4113-a9ba-f4177df3b653"
      },
      "outputs": [
        {
          "name": "stdout",
          "output_type": "stream",
          "text": [
            "[1, 2, 3, 4, 5]\n"
          ]
        }
      ],
      "source": [
        "numbers = [1, 2, 3, 4, 5]\n",
        "numbers = str(numbers)\n",
        "print(numbers)"
      ]
    },
    {
      "cell_type": "code",
      "execution_count": null,
      "id": "285a7aac",
      "metadata": {
        "id": "285a7aac",
        "outputId": "ddb39872-9e17-4c19-8533-100459d33743"
      },
      "outputs": [
        {
          "name": "stdout",
          "output_type": "stream",
          "text": [
            "Dinesh, Udit, Urvija\n"
          ]
        }
      ],
      "source": [
        "# We call join on a string, and that string is what we want to place between the items in the collection we want to glue together.\n",
        "\n",
        "authors = [\"Dinesh\", \"Udit\", \"Urvija\"]\n",
        "authors = \", \".join(authors)\n",
        "\n",
        "print(authors)\n"
      ]
    },
    {
      "cell_type": "code",
      "execution_count": null,
      "id": "50d73587",
      "metadata": {
        "id": "50d73587",
        "outputId": "dbc0880a-fa9f-4536-cf88-6cf8ea8206c2"
      },
      "outputs": [
        {
          "name": "stdout",
          "output_type": "stream",
          "text": [
            "1,2,3,4,5,33,6,5,\n",
            "['1', '2', '3', '4', '5', '33', '6', '5', '']\n"
          ]
        }
      ],
      "source": [
        "num_in = input(\"Enter a series of number seperated by a comma: \")\n",
        "num_in_list = num_in.split(\",\")\n",
        "print(num_in)\n",
        "print(num_in_list)"
      ]
    },
    {
      "cell_type": "code",
      "execution_count": null,
      "id": "bef993e9",
      "metadata": {
        "id": "bef993e9",
        "outputId": "ead0ec82-f905-44d0-ce22-8738cd87f526"
      },
      "outputs": [
        {
          "name": "stdout",
          "output_type": "stream",
          "text": [
            "('1', '2', '2', '304')\n"
          ]
        }
      ],
      "source": [
        "# What we get back from split is a list,\n",
        "# but we can always create another type of collection by passing the result to tuple.\n",
        "\n",
        "user_numbers = input(\"Please enter 5 numbers separated by dashes: \") # 1-2-3-4-5\n",
        "numbers_tuple = tuple(user_numbers.split(\"-\"))\n",
        "\n",
        "print(numbers_tuple) # ['1', '2', '3', '4', '5']"
      ]
    },
    {
      "cell_type": "code",
      "execution_count": null,
      "id": "37d1ff53",
      "metadata": {
        "id": "37d1ff53",
        "outputId": "bd74d22b-80b2-4d63-bbf9-fc61becbcdda"
      },
      "outputs": [
        {
          "name": "stdout",
          "output_type": "stream",
          "text": [
            "['1', '2', '3', '4', '5']\n"
          ]
        }
      ],
      "source": [
        "# Stripping through spaces in the numbers in input\n",
        "\n",
        "user_numbers = input(\"Please enter 5 numbers separated by commas: \") # 1, 2, 3, 4, 5\n",
        "user_numbers = user_numbers.split(\",\")\n",
        "\n",
        "numbers_list = []\n",
        "\n",
        "for number in user_numbers:\n",
        "    numbers_list.append(number.strip())\n",
        "\n",
        "print(numbers_list) # ['1', '2', '3', '4', '5']\n"
      ]
    },
    {
      "cell_type": "markdown",
      "id": "d9f26296",
      "metadata": {
        "id": "d9f26296"
      },
      "source": [
        "If we don’t specify a separator sequence for split, it’s going to split based on any length of whitespace. This is quite handy, because we know that whatever we get back, we’re not going to have to bother stripping it."
      ]
    },
    {
      "cell_type": "code",
      "execution_count": null,
      "id": "22457831",
      "metadata": {
        "id": "22457831",
        "outputId": "f84b5bbd-3373-4d0a-b6be-5beae5b62d74"
      },
      "outputs": [
        {
          "name": "stdout",
          "output_type": "stream",
          "text": [
            "['P', 'y', 't', 'h', 'o', 'n']\n",
            "('P', 'y', 't', 'h', 'o', 'n')\n"
          ]
        }
      ],
      "source": [
        "# We don’t always need to call split.\n",
        "# If we just want to put every character as a different item in a list or tuple,\n",
        "# we can just pass the string to the list or tuple function instead:\n",
        "\n",
        "sample_str = \"Python\"\n",
        "print(list(sample_str))\n",
        "print(tuple(sample_str))"
      ]
    },
    {
      "cell_type": "code",
      "execution_count": null,
      "id": "cd67e7c8",
      "metadata": {
        "id": "cd67e7c8",
        "outputId": "05dea087-a2e0-4e93-fc47-e6585c09ba46"
      },
      "outputs": [
        {
          "name": "stdout",
          "output_type": "stream",
          "text": [
            "Super Special Mega Awesome Program\n",
            "By Phillip Best\n"
          ]
        }
      ],
      "source": [
        "# Newline character\n",
        "\n",
        "print(\"Super Special Mega Awesome Program\\nBy Phillip Best\")"
      ]
    },
    {
      "cell_type": "code",
      "execution_count": null,
      "id": "a125e975",
      "metadata": {
        "id": "a125e975",
        "outputId": "c338a8b7-3ed6-4e31-ce8f-bd5b6a83b0a0"
      },
      "outputs": [
        {
          "name": "stdout",
          "output_type": "stream",
          "text": [
            "From front: abcdefghijklm\n",
            "From middle: nopqrstuvwxyz\n",
            "From middle to last excluding last: nopqrstuvwxy\n",
            "Last char: z\n",
            "Upto last eight: abcdefghijklmnopqr\n",
            "13rd char to 1 st char in reverse: nmlkjihgfedc\n",
            "Reverse string: zyxwvutsrqponmlkjihgfedcba\n",
            "Middle char: mn\n"
          ]
        }
      ],
      "source": [
        "# Slicing\n",
        "original_string = \"abcdefghijklmnopqrstuvwxyz\"\n",
        "\n",
        "print(f\"From front: {original_string[0:13]}\")\n",
        "print(f\"From middle: {original_string[13:]}\")\n",
        "print(f\"From middle to last excluding last: {original_string[13:-1]}\")\n",
        "print(f\"Last char: {original_string[-1]}\")\n",
        "print(f\"Upto last eight: {original_string[0:-8]}\")\n",
        "print(f\"13rd char to 1 st char in reverse: {original_string[13:1:-1]}\")\n",
        "print(f\"Reverse string: {original_string[::-1]}\")\n",
        "print(f\"Middle char: {original_string[12:-12]}\")"
      ]
    },
    {
      "cell_type": "code",
      "execution_count": null,
      "id": "114e8d54",
      "metadata": {
        "id": "114e8d54",
        "outputId": "1a9bc0ab-00ef-41b2-a3fa-9c81e6e7e86e"
      },
      "outputs": [
        {
          "name": "stdout",
          "output_type": "stream",
          "text": [
            "length of string: 26\n"
          ]
        }
      ],
      "source": [
        "# The len() function\n",
        "alphabet = \"abcdefghijklmnopqrstuvwxyz\"\n",
        "\n",
        "print(f\"length of string: {len(alphabet)}\")"
      ]
    },
    {
      "cell_type": "markdown",
      "id": "69715a94",
      "metadata": {
        "id": "69715a94"
      },
      "source": [
        "### Exercises\n",
        "\n",
        "1) Ask the user to enter their given name and surname in response to a single prompt. Use split to extract the names, and then assign each name to a different variable. For this exercise, you can assume that the user has a single given name and a single surname.\n",
        "\n",
        "2) Print the list, `[1, 2, 3, 4, 5]`, in the format `1 | 2 | 3 | 4 | 5` using the `join` method. Remember that you can only join collections of strings, so you’re going to need to do some initial processing of the list of numbers.\n",
        "\n",
        "3) Below you’ll find a short list of quotes:\n",
        "\n",
        "```\n",
        " quotes = [\n",
        "    \"'What a waste my life would be without all the beautiful mistakes I've made.'\",\n",
        "    \"'A bend in the road is not the end of the road... Unless you fail to make the turn.'\",\n",
        "    \"'The very essence of romance is uncertainty.'\",\n",
        "    \"'We are not here to do what has already been done.'\"\n",
        " ]\n",
        "```\n",
        "\n",
        "Each quote is a string, but each string actually contains quote characters at the start and end. Using slicing, extract the text from each string, without these extra quote marks, and print each quote.\n",
        "\n",
        "You may also want to try a solution using strip.\n",
        "\n",
        "4) Ask the user to enter a word, and then print out the length of the word. You should account for any excess whitespace in the user’s input, so you’re going to have to process the string before you find its length.\n",
        "\n",
        "If you want to take this a little bit further, you an ask the user for a long piece of text. You can then tell them how many how many characters are in the text overall, and you can also provide them a word count."
      ]
    },
    {
      "cell_type": "code",
      "execution_count": null,
      "id": "824d27d6",
      "metadata": {
        "id": "824d27d6",
        "outputId": "3501ff41-57dc-4644-8ed2-f301ae8443cf"
      },
      "outputs": [
        {
          "name": "stdout",
          "output_type": "stream",
          "text": [
            "First name: Udit \n",
            "Last Name: Pathak \n"
          ]
        }
      ],
      "source": [
        "# 1\n",
        "username = input(\"Please input your given name and surname: \")\n",
        "firstname = username.split()[0]\n",
        "lastname = username.split()[1]\n",
        "print(f\"First name: {firstname} \\nLast Name: {lastname} \")"
      ]
    },
    {
      "cell_type": "code",
      "execution_count": null,
      "id": "fbeaad1f",
      "metadata": {
        "id": "fbeaad1f",
        "outputId": "dddc102f-d8cc-4a5e-ca98-4b67d43256d4"
      },
      "outputs": [
        {
          "name": "stdout",
          "output_type": "stream",
          "text": [
            "['1', '2', '3', '4', '5']\n",
            "1 | 2 | 3 | 4 | 5\n"
          ]
        }
      ],
      "source": [
        "# 2\n",
        "'''list1 = [1, 2, 3, 4, 5]\n",
        "string1 = (str(i) for i in list1)\n",
        "new_list1 = \" | \".join(string1)\n",
        "print(string1)\n",
        "print(new_list1) '''\n",
        "list1 = [1, 2, 3, 4, 5]\n",
        "list2 = []\n",
        "for i in range(0,len(list1)):\n",
        "    list2.append(str(list1[i]))\n",
        "print(list2)\n",
        "print(\" | \".join(list2))"
      ]
    },
    {
      "cell_type": "code",
      "execution_count": null,
      "id": "c8ccec5f",
      "metadata": {
        "id": "c8ccec5f",
        "outputId": "007ae053-1739-4650-9918-b104b8472d12"
      },
      "outputs": [
        {
          "name": "stdout",
          "output_type": "stream",
          "text": [
            "What a waste my life would be without all the beautiful mistakes I've made.\n",
            "A bend in the road is not the end of the road... Unless you fail to make the turn.\n",
            "The very essence of romance is uncertainty.\n",
            "We are not here to do what has already been done.\n"
          ]
        }
      ],
      "source": [
        "# 3\n",
        "quotes = [\n",
        "    \"'What a waste my life would be without all the beautiful mistakes I've made.'\",\n",
        "    \"'A bend in the road is not the end of the road... Unless you fail to make the turn.'\",\n",
        "    \"'The very essence of romance is uncertainty.'\",\n",
        "    \"'We are not here to do what has already been done.'\"\n",
        " ]\n",
        "for quote in quotes:\n",
        "    print(quote[1:-1])"
      ]
    },
    {
      "cell_type": "code",
      "execution_count": null,
      "id": "cda22457",
      "metadata": {
        "id": "cda22457",
        "outputId": "e7d5e1aa-9768-4ab5-fae6-03b6cb584eb8"
      },
      "outputs": [
        {
          "name": "stdout",
          "output_type": "stream",
          "text": [
            "stupiderstedt\n",
            "13\n"
          ]
        }
      ],
      "source": [
        "# 4\n",
        "word = input(\"Enter word: \")\n",
        "word_length = 0\n",
        "for w in word:\n",
        "    if w != ' ':\n",
        "        word_length += 1\n",
        "    else:\n",
        "        pass\n",
        "print(word)\n",
        "print(word_length)"
      ]
    },
    {
      "cell_type": "code",
      "execution_count": null,
      "id": "91d00d9f",
      "metadata": {
        "id": "91d00d9f"
      },
      "outputs": [],
      "source": [
        "# 4\n",
        "sentence = input(\"Please enter a sentence for word count and character count: \")\n",
        "stripped = sentence.strip()\n",
        "word_count = 0\n",
        "for c in range(1,(len(stripped)-1)):\n",
        "    if (stripped[c] == \" \") & (stripped[c-1].isalpha()):\n",
        "        print(f\"loop: {c}\")\n",
        "        word_count += 1\n",
        "        print(f\"Word counter: {word_count}\")\n",
        "    elif (stripped[c] == \",\") & (stripped[c-1].isalpha()):\n",
        "        print(f\"loop: {c}\")\n",
        "        word_count += 1\n",
        "        print(f\"Word counter: {word_count}\")\n",
        "    elif (stripped[c] == \".\") & (stripped[c-1].isalpha()):\n",
        "        print(f\"loop: {c}\")\n",
        "        word_count += 1\n",
        "        print(f\"Word counter: {word_count}\")\n",
        "    else:\n",
        "        pass\n",
        "# print(sentence[-1])\n",
        "print(f\"length of string: {len(sentence)}\")\n",
        "print(f\"Word count: {(word_count)}\")"
      ]
    },
    {
      "cell_type": "code",
      "execution_count": null,
      "id": "566410c2",
      "metadata": {
        "id": "566410c2"
      },
      "outputs": [],
      "source": [
        "# 4\n",
        "sentence = input(\"Please enter a sentence for word count and character count: \")\n",
        "stripped = sentence.strip()\n",
        "word_count = 0\n",
        "for c in range(1,(len(stripped))):\n",
        "    if ((stripped[c] == \" \") | (stripped[c] == \".\") | (stripped[c] == \",\") | (stripped[c] == \":\") | (stripped[c] == \"-\") | (stripped[c] == \"_\")):\n",
        "        if (stripped[c-1].isalpha()):\n",
        "            print(f\"loop: {c}\")\n",
        "            word_count += 1\n",
        "            print(f\"Word counter: {word_count}\")\n",
        "    else:\n",
        "        pass\n",
        "print(sentence)\n",
        "print(sentence[(len(stripped))-1])\n",
        "print(f\"length of string: {len(sentence)}\")\n",
        "print(f\"Word count: {(word_count)}\")"
      ]
    },
    {
      "cell_type": "markdown",
      "id": "9033f4e6",
      "metadata": {
        "id": "9033f4e6"
      },
      "source": [
        "### The Brief:\n",
        "\n",
        "For this project, your program should do the following:\n",
        "\n",
        "1. Calculate the average budget of all movies in the data set.\n",
        "2. Print out every movie that has a budget higher than the average you calculated. You should also print out how much higher than the average the movie's budget was.\n",
        "3. Print out how many movies spent more than the average you calculated.\n",
        "\n",
        "If you want a little extra challenge, allow users to add more movies to the data set before running the calculations."
      ]
    },
    {
      "cell_type": "code",
      "execution_count": null,
      "id": "b359a600",
      "metadata": {
        "id": "b359a600",
        "outputId": "34bc83d6-ea4c-4886-e135-c87258202884"
      },
      "outputs": [
        {
          "name": "stdout",
          "output_type": "stream",
          "text": [
            "Your entered:  \n",
            "Moving to calculations. \n",
            "Average budget: 190500000.0\n",
            "Pirates of the Caribbean: On Stranger Tides\n",
            "Avengers: Age of Ultron\n",
            "Avengers: Endgame\n",
            "Incredibles 2\n",
            "Number of movies that spent more than the average: 4\n"
          ]
        }
      ],
      "source": [
        "# Project\n",
        "movies = [\n",
        "    (\"Eternal Sunshine of the Spotless Mind\", 20000000),\n",
        "    (\"Memento\", 9000000),\n",
        "    (\"Requiem for a Dream\", 4500000),\n",
        "    (\"Pirates of the Caribbean: On Stranger Tides\", 379000000),\n",
        "    (\"Avengers: Age of Ultron\", 365000000),\n",
        "    (\"Avengers: Endgame\", 356000000),\n",
        "    (\"Incredibles 2\", 200000000)\n",
        "]\n",
        "\n",
        "movie_input_decision = input(\"Do you want to add more movies to the existing list? Yes or No :: \")\n",
        "if (movie_input_decision == \"Yes\") | (movie_input_decision == \"yes\"):\n",
        "    print(f\"\\nYour entered: Yes\")\n",
        "    new_movie_count = int(input(\"\\nHow many movies do you want to add? \"))\n",
        "    for _ in range(new_movie_count):\n",
        "        new_movie_name = input(\"\\nEnter the name of your movie: \")\n",
        "        new_movie_budget = int(input(\"\\nEnter the budget of your movie: \"))\n",
        "        new_movie = (new_movie_name, new_movie_budget)\n",
        "        movies.append(new_movie)\n",
        "    print(f\"\\nMoving to calculations: \")\n",
        "else:\n",
        "    print(f\"\\nYour entered: {movie_input_decision} \\nMoving to calculations. \")\n",
        "\n",
        "print(f\"\\nNew movie list is:\\n{movies}\")\n",
        "budget_total = 0\n",
        "for movie in movies:\n",
        "    budget_total += movie[1]\n",
        "\n",
        "avg_budget = budget_total/(len(movies))\n",
        "print(f\"\\nAverage budget: {avg_budget}\")\n",
        "\n",
        "counter = 0\n",
        "for m in movies:\n",
        "    if m[1] > avg_budget:\n",
        "        print(m[0])\n",
        "        counter += 1\n",
        "\n",
        "print(f\"Number of movies that spent more than the average: {counter}\")"
      ]
    },
    {
      "cell_type": "markdown",
      "id": "476073c5",
      "metadata": {
        "id": "476073c5"
      },
      "source": [
        "# Day 8\n",
        "\n",
        "### While loops\n",
        "\n",
        "`for` loops are great for two kinds of repeated actions:\n",
        "\n",
        "1. When we want to do something for each item in some group.\n",
        "\n",
        "2. When we want to do something a set number of times.\n",
        "\n",
        "There are, however, other kinds of repetition we might want to perform. For example, what if we want to perform an action as many times as needed until some condition is met? What about if we want to perform some action over and over again forever?\n",
        "\n",
        "For this kind of repeated action, we can use a `while` loop instead."
      ]
    },
    {
      "cell_type": "code",
      "execution_count": null,
      "id": "cf733bf3",
      "metadata": {
        "id": "cf733bf3",
        "outputId": "3143cafa-e55d-4143-8a30-4c663a45d12d"
      },
      "outputs": [
        {
          "name": "stdout",
          "output_type": "stream",
          "text": [
            "Your number was at least 10.\n"
          ]
        }
      ],
      "source": [
        "# For example, we can write a while loop which is going to run until the user enters a value of 10 or higher.\n",
        "user_number = input(\"Please enter a number: \")\n",
        "\n",
        "while int(user_number) < 10:\n",
        "    print(\"Your number was less than 10.\")\n",
        "    user_number = input(\"Please select another number: \")\n",
        "\n",
        "print(\"Your number was at least 10.\")"
      ]
    },
    {
      "cell_type": "code",
      "execution_count": null,
      "id": "d4fe8f41",
      "metadata": {
        "id": "d4fe8f41",
        "outputId": "614f30bc-c49b-4f8a-8e1e-f6c5b6d0f840"
      },
      "outputs": [
        {
          "name": "stdout",
          "output_type": "stream",
          "text": [
            "You selected option 'b'!\n",
            "You selected option 'a'!\n",
            "You selected option 'c'!\n",
            "You selected option 'q'! Quitting the menu!\n"
          ]
        }
      ],
      "source": [
        "while True:\n",
        "    selected_option = input(\"Please enter 'a', 'b', or 'c', or enter 'q' to quit: \")\n",
        "\n",
        "    if selected_option == \"a\":\n",
        "        print(\"You selected option 'a'!\")\n",
        "    elif selected_option == \"b\":\n",
        "        print(\"You selected option 'b'!\")\n",
        "    elif selected_option == \"c\":\n",
        "        print(\"You selected option 'c'!\")\n",
        "    elif selected_option == \"q\":\n",
        "        print(\"You selected option 'q'! Quitting the menu!\")\n",
        "        break\n",
        "    else:\n",
        "        print(\"You selected an invalid option.\")\n"
      ]
    },
    {
      "cell_type": "code",
      "execution_count": null,
      "id": "2cab1ed4",
      "metadata": {
        "id": "2cab1ed4",
        "outputId": "09028773-99e9-4cdd-9250-4688629eee0c"
      },
      "outputs": [
        {
          "name": "stdout",
          "output_type": "stream",
          "text": [
            "12 is not prime!\n"
          ]
        }
      ],
      "source": [
        "# For example, let's write a loop to determine whether or not a number is prime.\n",
        "# A prime number is a number divisible only by itself and 1.\n",
        "# For example, 2, 3, 5, 7, 11, and 13 are prime numbers.\n",
        "\n",
        "# Get a number to test from the user\n",
        "dividend = int(input(\"Please enter a number: \"))\n",
        "\n",
        "# Grab numbers one at a time from the range sequence\n",
        "for divisor in range(2, dividend):\n",
        "    # If user's number is divisible by the curent divisor, break the loop\n",
        "    if dividend % divisor == 0:\n",
        "        print(f\"{dividend} is not prime!\")\n",
        "        break\n",
        "else:\n",
        "    # This line only runs if no divisors produced integer results\n",
        "    print(f\"{dividend} is prime!\")"
      ]
    },
    {
      "cell_type": "code",
      "execution_count": null,
      "id": "5c614d07",
      "metadata": {
        "id": "5c614d07",
        "outputId": "6ae65a74-711a-4d06-adef-ed5ffbe1a548"
      },
      "outputs": [
        {
          "name": "stdout",
          "output_type": "stream",
          "text": [
            "21 is not prime!\n"
          ]
        }
      ],
      "source": [
        "# Get a number to test from the user, and set the initial divisor to 2\n",
        "dividend = int(input(\"Please enter a number: \"))\n",
        "divisor = 2\n",
        "\n",
        "# Keep looping until the divisor equals the number we're testing\n",
        "while divisor < dividend:\n",
        "    # If user's number is divisible by the curent divisor, break the loop\n",
        "    if dividend % divisor == 0:\n",
        "        print(f\"{dividend} is not prime!\")\n",
        "        break\n",
        "\n",
        "    # Increment the divisor for the next iteration\n",
        "    divisor = divisor + 1\n",
        "else:\n",
        "    # This line only runs if no divisors produced integer results\n",
        "    print(f\"{dividend} is prime!\")\n"
      ]
    },
    {
      "cell_type": "markdown",
      "id": "885ca292",
      "metadata": {
        "id": "885ca292"
      },
      "source": [
        "### Exercises\n",
        "Congratulations on completing the first week!\n",
        "\n",
        "Hopefully this wasn't too difficult, but if you're having trouble with some of the concepts, the exercises below should help solidify everything. If you get stuck, we're always around to help on our Discord server, so feel free to drop by and ask any questions.\n",
        "\n",
        "1) Write a short guessing game program using a while loop. The user should be prompted to guess a number between 1 and 100, and you should tell them whether their guess was too high or too low after each guess. The loop should keeping running until the user guesses the number correctly.\n",
        "\n",
        "2) Use a loop and the continue keyword to print out every character in the string \"Python\", except the \"o\".\n",
        "\n",
        "Remember that strings are collections, and they are iterable, so you can iterate over the string, which will yield one character at a time.\n",
        "\n",
        "3) Using one of the examples from earlier—or a solution entirely of your own—create a program that prints out every prime number between 1 and 100."
      ]
    },
    {
      "cell_type": "code",
      "execution_count": null,
      "id": "5de18aaa",
      "metadata": {
        "id": "5de18aaa",
        "outputId": "f7956c2d-7f12-4093-c3fa-3344c7d98181"
      },
      "outputs": [
        {
          "name": "stdout",
          "output_type": "stream",
          "text": [
            "82\n",
            "Guess is lower.\n",
            "Guess is lower.\n",
            "Guess is lower.\n",
            "Guess is higher.\n",
            "Guess is lower.\n",
            "Guess is higher.\n",
            "Your guesses correctly!\n"
          ]
        }
      ],
      "source": [
        "# 1 Guessing Game\n",
        "import random\n",
        "\n",
        "random_number = random.randint(1,100)\n",
        "print(random_number)\n",
        "while True:\n",
        "    guess = int(input(\"Guess a number between 1 and 100: \"))\n",
        "    if guess > random_number:\n",
        "        print(\"Guess is higher.\")\n",
        "    elif guess < random_number:\n",
        "        print(\"Guess is lower.\")\n",
        "    else:\n",
        "        print(\"Your guesses correctly!\")\n",
        "        break\n"
      ]
    },
    {
      "cell_type": "code",
      "execution_count": null,
      "id": "bf7355af",
      "metadata": {
        "id": "bf7355af",
        "outputId": "1be4876a-268f-4b33-cb6d-05b002a794a5"
      },
      "outputs": [
        {
          "name": "stdout",
          "output_type": "stream",
          "text": [
            "P y t h n "
          ]
        }
      ],
      "source": [
        "# 2\n",
        "for c in \"Python\":\n",
        "    if c != 'o':\n",
        "        print(c, end=\" \")\n",
        "    else:\n",
        "        continue"
      ]
    },
    {
      "cell_type": "code",
      "execution_count": null,
      "id": "761ace2a",
      "metadata": {
        "id": "761ace2a",
        "outputId": "c286e957-cfec-4a7e-9804-5213fb59b7cf"
      },
      "outputs": [
        {
          "name": "stdout",
          "output_type": "stream",
          "text": [
            "2 3 5 7 11 13 17 19 23 29 31 37 41 43 47 53 59 61 67 71 73 79 83 89 97 "
          ]
        }
      ],
      "source": [
        "# 3\n",
        "\n",
        "for num in range(2,100):\n",
        "    is_prime = True\n",
        "    for i in range(2,int(num**0.5) + 1):\n",
        "        if num % i == 0:\n",
        "            is_prime = False\n",
        "            break\n",
        "    if is_prime:\n",
        "        print(num, end=' ')"
      ]
    },
    {
      "cell_type": "markdown",
      "id": "66a37515",
      "metadata": {
        "id": "66a37515"
      },
      "source": [
        "# Day 8\n",
        "\n",
        "### Unpacking, Enumeration, and the zip Function"
      ]
    },
    {
      "cell_type": "code",
      "execution_count": null,
      "id": "4df6cb7e",
      "metadata": {
        "id": "4df6cb7e"
      },
      "outputs": [],
      "source": [
        "# I have a movie record, which is a tuple, and it contains the movie title, the director's name, and the year of release.\n",
        "# What I would like to do, is assign this tuple's values to three variables: title, director, and year.\n",
        "movie = (\"12 Angry Men\", \"Sidney Lumet\", 1957)\n",
        "\n",
        "title = movie[0]\n",
        "director = movie[1]\n",
        "year = movie[2]"
      ]
    },
    {
      "cell_type": "code",
      "execution_count": null,
      "id": "adbe5b3a",
      "metadata": {
        "id": "adbe5b3a"
      },
      "outputs": [],
      "source": [
        "movie = (\"12 Angry Men\", \"Sidney Lumet\", 1957)\n",
        "\n",
        "title, director, year = movie"
      ]
    },
    {
      "cell_type": "markdown",
      "id": "fc1d998c",
      "metadata": {
        "id": "fc1d998c"
      },
      "source": [
        "#### Unpacking in for loops"
      ]
    },
    {
      "cell_type": "code",
      "execution_count": null,
      "id": "a16c2324",
      "metadata": {
        "id": "a16c2324",
        "outputId": "a74ce0ca-f0a9-455b-b63d-47adc89382bb"
      },
      "outputs": [
        {
          "name": "stdout",
          "output_type": "stream",
          "text": [
            "Eternal Sunshine of the Spotless Mind (2004), by Michel Gondry\n",
            "Memento (2000), by Christopher Nolan\n",
            "Requiem for a Dream (2000), by Darren Aronofsky\n"
          ]
        }
      ],
      "source": [
        "movies = [\n",
        "    (\n",
        "        \"Eternal Sunshine of the Spotless Mind\",\n",
        "        \"Michel Gondry\",\n",
        "        2004\n",
        "    ),\n",
        "    (\n",
        "        \"Memento\",\n",
        "        \"Christopher Nolan\",\n",
        "        2000\n",
        "    ),\n",
        "    (\n",
        "        \"Requiem for a Dream\",\n",
        "        \"Darren Aronofsky\",\n",
        "        2000\n",
        "    )\n",
        "]\n",
        "\n",
        "for title, director, year in movies:\n",
        "    print(f\"{title} ({year}), by {director}\")\n"
      ]
    },
    {
      "cell_type": "markdown",
      "id": "b0ab938e",
      "metadata": {
        "id": "b0ab938e"
      },
      "source": [
        "#### Enumeration"
      ]
    },
    {
      "cell_type": "code",
      "execution_count": null,
      "id": "41645b5c",
      "metadata": {
        "id": "41645b5c"
      },
      "outputs": [],
      "source": [
        "'''\n",
        "I want an output like this\n",
        "1. Eternal Sunshine of the Spotless Mind (2004), by Michel Gondry\n",
        "2. Memento (2000), by Christopher Nolan\n",
        "3. Requiem for a Dream (2000), by Darren Aronofsky\n",
        "'''\n",
        "\n",
        "# 1 method\n",
        "counter = 1\n",
        "\n",
        "for title, director, year in movies:\n",
        "    print(f\"{counter}. {title} ({year}), by {director}\")\n",
        "    counter += 1\n"
      ]
    },
    {
      "cell_type": "markdown",
      "id": "7cf9e984",
      "metadata": {
        "id": "7cf9e984"
      },
      "source": [
        "`enumerate` is a built in function that generates a counter alongside the values in an iterable. What we end up with is a series of tuples, where the first item in each tuple is the counter, and the second value is the original item from the iterable."
      ]
    },
    {
      "cell_type": "code",
      "execution_count": null,
      "id": "2c78cf2a",
      "metadata": {
        "id": "2c78cf2a",
        "outputId": "2e374c96-5258-499d-ef77-046a563529ac"
      },
      "outputs": [
        {
          "name": "stdout",
          "output_type": "stream",
          "text": [
            "0. Harry\n",
            "1. Rachel\n",
            "2. Brian\n"
          ]
        }
      ],
      "source": [
        "names = [\"Harry\", \"Rachel\", \"Brian\"]\n",
        "\n",
        "for counter, name in enumerate(names):\n",
        "    print(f\"{counter}. {name}\")"
      ]
    },
    {
      "cell_type": "code",
      "execution_count": null,
      "id": "3745dbcd",
      "metadata": {
        "id": "3745dbcd",
        "outputId": "90c5ce3d-340a-490a-fe4c-4d693b7627c7"
      },
      "outputs": [
        {
          "name": "stdout",
          "output_type": "stream",
          "text": [
            "1. Harry\n",
            "2. Rachel\n",
            "3. Brian\n"
          ]
        }
      ],
      "source": [
        "names = [\"Harry\", \"Rachel\", \"Brian\"]\n",
        "\n",
        "for counter, name in enumerate(names, start=1):\n",
        "    print(f\"{counter}. {name}\")"
      ]
    },
    {
      "cell_type": "code",
      "execution_count": null,
      "id": "95376073",
      "metadata": {
        "id": "95376073",
        "outputId": "4211d7ae-5d2e-496c-8b51-f4fdc41d7fc0"
      },
      "outputs": [
        {
          "name": "stdout",
          "output_type": "stream",
          "text": [
            "1. Eternal Sunshine of the Spotless Mind (2004), by Michel Gondry\n",
            "2. Memento (2000), by Christopher Nolan\n",
            "3. Requiem for a Dream (2000), by Darren Aronofsky\n"
          ]
        }
      ],
      "source": [
        "# movies = [...]\n",
        "\n",
        "for counter, movie in enumerate(movies, start=1):\n",
        "    print(f\"{counter}. {movie[0]} ({movie[2]}), by {movie[1]}\")"
      ]
    },
    {
      "cell_type": "code",
      "execution_count": null,
      "id": "ef115744",
      "metadata": {
        "id": "ef115744",
        "outputId": "af64ab76-ba4e-4f83-a41e-d47cb839cdb4"
      },
      "outputs": [
        {
          "name": "stdout",
          "output_type": "stream",
          "text": [
            "1. Eternal Sunshine of the Spotless Mind (2004), by Michel Gondry\n",
            "2. Memento (2000), by Christopher Nolan\n",
            "3. Requiem for a Dream (2000), by Darren Aronofsky\n"
          ]
        }
      ],
      "source": [
        "# movies = [...]\n",
        "\n",
        "for counter, (title, director, year) in enumerate(movies, start=1):\n",
        "    print(f\"{counter}. {title} ({year}), by {director}\")"
      ]
    },
    {
      "cell_type": "markdown",
      "id": "7ac22a38",
      "metadata": {
        "id": "7ac22a38"
      },
      "source": [
        "#### The `zip` function\n",
        "\n",
        "zip is an extremely powerful and versatile function used to combined two or more iterables into a single iterable."
      ]
    },
    {
      "cell_type": "code",
      "execution_count": null,
      "id": "3fb71442",
      "metadata": {
        "id": "3fb71442"
      },
      "outputs": [],
      "source": [
        "pet_owners = [\"Paul\", \"Andrea\", \"Marta\"]\n",
        "pets = [\"Fluffy\", \"Bubbles\", \"Captain Catsworth\"]\n",
        "\n",
        "# zip will allow us to turn this into a new iterable which contains the following:\n",
        "# (\"Paul\", \"Fluffy\"), (\"Andrea\", \"Bubbles\"), (\"Marta\", \"Captain Catsworth\")"
      ]
    },
    {
      "cell_type": "code",
      "execution_count": null,
      "id": "d5118abc",
      "metadata": {
        "id": "d5118abc",
        "outputId": "b26b145c-b827-4dca-d0f3-9548cba77293"
      },
      "outputs": [
        {
          "name": "stdout",
          "output_type": "stream",
          "text": [
            "[('Paul', 'Fluffy'), ('Andrea', 'Bubbles'), ('Marta', 'Captain Catsworth')]\n"
          ]
        }
      ],
      "source": [
        "pet_owners = [\"Paul\", \"Andrea\", \"Marta\"]\n",
        "pets = [\"Fluffy\", \"Bubbles\", \"Captain Catsworth\"]\n",
        "\n",
        "pets_and_owners = zip(pet_owners, pets)\n",
        "print(list(pets_and_owners))"
      ]
    },
    {
      "cell_type": "code",
      "execution_count": null,
      "id": "903cb93e",
      "metadata": {
        "id": "903cb93e",
        "outputId": "3a5e5d23-f1c8-43a5-f10a-5ee1ac4344d8"
      },
      "outputs": [
        {
          "name": "stdout",
          "output_type": "stream",
          "text": [
            "Paul owns Fluffy.\n",
            "Andrea owns Bubbles.\n",
            "Marta owns Captain Catsworth.\n"
          ]
        }
      ],
      "source": [
        "# Using zip in loops\n",
        "\n",
        "pet_owners = [\"Paul\", \"Andrea\", \"Marta\"]\n",
        "pets = [\"Fluffy\", \"Bubbles\", \"Captain Catsworth\"]\n",
        "\n",
        "for owner, pet in zip(pet_owners, pets):\n",
        "    print(f\"{owner} owns {pet}.\")\n"
      ]
    },
    {
      "cell_type": "markdown",
      "id": "ee784bb7",
      "metadata": {
        "id": "ee784bb7"
      },
      "source": [
        "### Exericses\n",
        "\n",
        "1) Below is some simple data about characters from BoJack Horseman:\n",
        "\n",
        "```\n",
        "main_characters = [\n",
        "    (\"BoJack Horseman\", \"Will Arnett\", \"Horse\"),\n",
        "    (\"Princess Carolyn\", \"Amy Sedaris\", \"Cat\"),\n",
        "    (\"Diane Nguyen\", \"Alison Brie\", \"Human\"),\n",
        "    (\"Mr. Peanutbutter\", \"Paul F. Tompkins\", \"Dog\"),\n",
        "    (\"Todd Chavez\", \"Aaron Paul\", \"Human\")\n",
        "]\n",
        "```\n",
        "\n",
        "The data contains the character name, the voice actor or actress who plays them, and the species of the character.\n",
        "\n",
        "Write a for loop that uses destructuring so that you can print each tuple in the following format:\n",
        "\n",
        "`BoJack Horseman is a horse voiced by Will Arnet.`\n",
        "\n",
        "Note that you're going to have to change the species information to lowercase when you print it. If you need a reminder on how to do this, we covered it in day 3 of the first week.\n",
        "\n",
        "2) Unpack the following tuple into 4 variables:\n",
        "\n",
        "`(\"John Smith\", 11743, (\"Computer Science\", \"Mathematics\"))`\n",
        "\n",
        "The data represents a student's name, their student id number, and their major and minor disciplines in that order.\n",
        "\n",
        "3) Investigate what happens when you try to zip two iterables of different lengths. For example, try to zip a list containing three items, and a tuples containing four items."
      ]
    },
    {
      "cell_type": "code",
      "execution_count": null,
      "id": "f3b138d1",
      "metadata": {
        "id": "f3b138d1",
        "outputId": "2b63aaf9-9cf8-422e-a869-36699b8f5dc6"
      },
      "outputs": [
        {
          "name": "stdout",
          "output_type": "stream",
          "text": [
            "BoJack Horseman is a horse voiced by Will Arnett\n",
            "Princess Carolyn is a cat voiced by Amy Sedaris\n",
            "Diane Nguyen is a human voiced by Alison Brie\n",
            "Mr. Peanutbutter is a dog voiced by Paul F. Tompkins\n",
            "Todd Chavez is a human voiced by Aaron Paul\n"
          ]
        }
      ],
      "source": [
        "# 1\n",
        "main_characters = [\n",
        "    (\"BoJack Horseman\", \"Will Arnett\", \"Horse\"),\n",
        "    (\"Princess Carolyn\", \"Amy Sedaris\", \"Cat\"),\n",
        "    (\"Diane Nguyen\", \"Alison Brie\", \"Human\"),\n",
        "    (\"Mr. Peanutbutter\", \"Paul F. Tompkins\", \"Dog\"),\n",
        "    (\"Todd Chavez\", \"Aaron Paul\", \"Human\")\n",
        "]\n",
        "for name, actor, species in main_characters:\n",
        "    print(f\"{name} is a {species.lower()} voiced by {actor}\")"
      ]
    },
    {
      "cell_type": "code",
      "execution_count": null,
      "id": "340002a5",
      "metadata": {
        "id": "340002a5",
        "outputId": "b353e2ab-a1df-4e2e-ca03-e6661649b550"
      },
      "outputs": [
        {
          "name": "stdout",
          "output_type": "stream",
          "text": [
            "John Smith, 11743, Computer Science, Mathematics\n"
          ]
        }
      ],
      "source": [
        "# 2\n",
        "info = (\"John Smith\", 11743, (\"Computer Science\", \"Mathematics\"))\n",
        "name, id, (major, minor) = info\n",
        "print(f\"{name}, {id}, {major}, {minor}\")"
      ]
    },
    {
      "cell_type": "code",
      "execution_count": null,
      "id": "15fcc3d8",
      "metadata": {
        "id": "15fcc3d8",
        "outputId": "82a63955-12d3-4b20-cf9d-f3b66af85d9d"
      },
      "outputs": [
        {
          "name": "stdout",
          "output_type": "stream",
          "text": [
            "[(1, 'a'), (2, 'b'), (3, 'c'), (4, 'd')]\n"
          ]
        }
      ],
      "source": [
        "# 3\n",
        "# Investigate what happens when you try to zip two iterables of different lengths.\n",
        "# For example, try to zip a list containing three items, and a tuples containing four items.\n",
        "l1 = [1,2,3,4,5]\n",
        "t1 = ('a','b','c','d')\n",
        "print(list(zip(l1,t1)))\n"
      ]
    },
    {
      "cell_type": "markdown",
      "id": "c5e691f9",
      "metadata": {
        "id": "c5e691f9"
      },
      "source": [
        "### Project\n",
        "\n",
        "#### The brief\n",
        "The program you write for this project should do the following:\n",
        "\n",
        "1) It should be able to accept a card number from the user. For this project, you can assume that the number will be entered as a single string of characters (i.e. there won't be any spaces between the numbers). However, you should be able to accept a card number with spaces at the start or end of the string.\n",
        "\n",
        "If you want to challenge yourself, you should try to be more versatile with regards to the format that you accept card numbers in.\n",
        "\n",
        "You may want to turn the user's input into a list of numbers, as that will make it easier to work with.\n",
        "\n",
        "2) The program should validate that card number using the Luhn algorithm described above. You should implement this algorithm yourself.\n",
        "\n",
        "After removing the checking digit and reversing the card number, you'll need a for loop to go over the credit card numbers. As you go through each digit, you must find a way to determine whether a digit is in an odd or an even position. Remember you can check the model solution if you get stuck!\n",
        "\n",
        "3) Once the validation is complete, the program should inform the user whether or not the card number is valid by printing a string to the console.\n",
        "\n",
        "When you need to get to the step where you reverse the numbers you could use the reversed function, which will accept any sequence type:\n",
        "\n",
        "```\n",
        "language = \"Python\"\n",
        "numbers = [1, 2, 3, 4, 5]\n",
        "letters = (\"a\", \"b\", \"c\", \"d\", \"e\")\n",
        "\n",
        "language = reversed(language)    # 'nohtyP'\n",
        "numbers = reversed(numbers)      # [5, 4, 3, 2, 1]\n",
        "letters = reversed(letters)      # ('e', 'd', 'c', 'b', 'a')\n",
        "```\n",
        "\n",
        "reversed will give us back a lazy type (like range), so we can't directly print it; however, it is iterable. We can therefore use the result in a for loop, for example.\n",
        "\n",
        "If our numbers are in a list, we can use the reverse method. This directly modifies the original list:\n",
        "```\n",
        "numbers = [1, 2, 3, 4, 5]\n",
        "numbers.reverse()\n",
        "\n",
        "print(numbers)  # [5, 4, 3, 2, 1]\n",
        "```\n",
        "You can use whichever technique you prefer.\n",
        "\n",
        "When testing your solution, you can use your own card number, or you can find valid card numbers online that are used for testing payment methods. For example, Stripe has a range of test card numbers you can use."
      ]
    },
    {
      "cell_type": "code",
      "execution_count": null,
      "id": "1c4e4966",
      "metadata": {
        "id": "1c4e4966",
        "outputId": "db7d6910-6dcc-4316-8bd3-a9d132f9833e"
      },
      "outputs": [
        {
          "name": "stdout",
          "output_type": "stream",
          "text": [
            "Entered CC number is: 5241810407029925\n",
            "CC number to list: ['5', '2', '4', '1', '8', '1', '0', '4', '0', '7', '0', '2', '9', '9', '2', '5']\n",
            "1. Remove the rightmost digit from the card number: 5\n",
            "2. Reverse the order of the remaining digits: ['2', '9', '9', '2', '0', '7', '0', '4', '0', '1', '8', '1', '4', '2', '5']\n",
            "0. doubled digit: 4\n",
            "List double appended: [4]\n",
            "1. List double appended odd indices: [4, 9]\n",
            "2. doubled digit: 18\n",
            "2i. doubled digit minus 9: 9\n",
            "List minus 9 appended: [4, 9, 9]\n",
            "3. List double appended odd indices: [4, 9, 9, 2]\n",
            "4. doubled digit: 0\n",
            "List double appended: [4, 9, 9, 2, 0]\n",
            "5. List double appended odd indices: [4, 9, 9, 2, 0, 7]\n",
            "6. doubled digit: 0\n",
            "List double appended: [4, 9, 9, 2, 0, 7, 0]\n",
            "7. List double appended odd indices: [4, 9, 9, 2, 0, 7, 0, 4]\n",
            "8. doubled digit: 0\n",
            "List double appended: [4, 9, 9, 2, 0, 7, 0, 4, 0]\n",
            "9. List double appended odd indices: [4, 9, 9, 2, 0, 7, 0, 4, 0, 1]\n",
            "10. doubled digit: 16\n",
            "10i. doubled digit minus 9: 7\n",
            "List minus 9 appended: [4, 9, 9, 2, 0, 7, 0, 4, 0, 1, 7]\n",
            "11. List double appended odd indices: [4, 9, 9, 2, 0, 7, 0, 4, 0, 1, 7, 1]\n",
            "12. doubled digit: 8\n",
            "List double appended: [4, 9, 9, 2, 0, 7, 0, 4, 0, 1, 7, 1, 8]\n",
            "13. List double appended odd indices: [4, 9, 9, 2, 0, 7, 0, 4, 0, 1, 7, 1, 8, 2]\n",
            "14. doubled digit: 10\n",
            "14i. doubled digit minus 9: 1\n",
            "List minus 9 appended: [4, 9, 9, 2, 0, 7, 0, 4, 0, 1, 7, 1, 8, 2, 1]\n",
            "Sum of all digits: 55\n",
            "Sum of all digits plus checked digit: 60\n",
            "Valid Card Number\n"
          ]
        }
      ],
      "source": [
        "# accept a credit card number\n",
        "cc_number = input(\"Enter a credit card number: \")\n",
        "print(f\"Entered CC number is: {cc_number}\")\n",
        "num_list = list(cc_number)\n",
        "print(f\"Credit Card number converted to list: {num_list}\\n\")\n",
        "\n",
        "# Luhn algorithm\n",
        "# 1. Remove the rightmost digit from the card number.\n",
        "# This number is called the checking digit, and it will be excluded from most of our calculations.\n",
        "checking_digit = int(num_list.pop())\n",
        "print(f\"1. Removed the rightmost digit from the card number: {checking_digit}\\n\")\n",
        "\n",
        "# 2. Reverse the order of the remaining digits.\n",
        "reversed_num = num_list[::-1]\n",
        "print(f\"2. Reverse the order of the remaining digits: {reversed_num}\")\n",
        "\n",
        "# 3. Take the digits at each of the even indices (0, 2, 4, 6, etc.) and double them.\n",
        "# If any of the results are greater than 9, subtract 9 from those numbers.\n",
        "doubled = []\n",
        "for counter, digit in enumerate(reversed_num):\n",
        "    if counter % 2 == 0:\n",
        "        double = int(digit) * 2\n",
        "        print(f\"Doubled the digit at Index {counter}: {double}\")\n",
        "        if double > 9:\n",
        "            minus_nine = double - 9\n",
        "            print(f\"Since doubled digit is greater than 9 subtracted 9 from it: {minus_nine}\")\n",
        "            doubled.append(minus_nine)\n",
        "            print(f\"Final number appended to list: {doubled}\")\n",
        "        else:\n",
        "            doubled.append(double)\n",
        "            print(f\"Doubled number less than 9, directly appended to list: {doubled}\")\n",
        "    else:\n",
        "        doubled.append(int(digit))\n",
        "        print(f\"List appended at odd Index {counter}: {doubled}\")\n",
        "\n",
        "# 4. Add together all of the results and add the checking digit.\n",
        "sum = 0\n",
        "for i in doubled:\n",
        "    sum = sum + int(i)\n",
        "print(f\"Sum of all digits: {sum}\")\n",
        "sum = sum + checking_digit\n",
        "print(f\"Sum of all digits plus checked digit: {sum}\")\n",
        "\n",
        "\n",
        "#5 . If the result is divisible by 10, the number is a valid card number. If it's not, the card number is not valid.\n",
        "if sum % 10 == 0:\n",
        "    print(\"Valid Card Number\")"
      ]
    },
    {
      "cell_type": "markdown",
      "id": "59c1eb94",
      "metadata": {
        "id": "59c1eb94"
      },
      "source": [
        "# Day 10\n",
        "\n",
        "### Dictionaries\n",
        "\n",
        "Dictionaries are Python's version of something called an associative array, and it works a little differently to the things like lists, strings, and tuples.\n",
        "\n",
        "`In a single dictionary, each key must be unique, but different dictionaries can have the same keys as each other.`"
      ]
    },
    {
      "cell_type": "code",
      "execution_count": null,
      "id": "9d4e9998",
      "metadata": {
        "id": "9d4e9998"
      },
      "outputs": [],
      "source": [
        "# Let's say we're creating a dictionary for a student, and we want to start out with a key and value representing their name:\n",
        "\n",
        "student = {\"name\" : \"Udit Pathak\"}"
      ]
    },
    {
      "cell_type": "code",
      "execution_count": null,
      "id": "8d01879c",
      "metadata": {
        "id": "8d01879c",
        "outputId": "1231e599-e386-4213-8fc6-a8a56d869633"
      },
      "outputs": [
        {
          "name": "stdout",
          "output_type": "stream",
          "text": [
            "[99, 95, 97, 92, 100]\n",
            "[99, 95, 97, 92, 100]\n",
            "[]\n"
          ]
        }
      ],
      "source": [
        "# If we want to add multiple keys and values, we have to separate each key value pair using commas.\n",
        "# For example, let's add a list of grades for this student alongside their name:\n",
        "\n",
        "student = {\n",
        "    \"name\" : \"Udit Pathak\",\n",
        "    \"grades\" : [99, 95, 97, 92, 100]\n",
        "}\n",
        "\n",
        "print(student[\"grades\"])\n",
        "\n",
        "# OR\n",
        "\n",
        "print(student.get(\"grades\"))\n",
        "\n",
        "# If we like, we can specify a different default value by passing in a second value to get.\n",
        "# For example, we can tell it we want an empty list if there isn't a \"grade\" key:\n",
        "\n",
        "print(student.get(\"grade\", []))"
      ]
    },
    {
      "cell_type": "markdown",
      "id": "259a81d7",
      "metadata": {
        "id": "259a81d7"
      },
      "source": [
        "#### Modifying a dictionary\n",
        "\n",
        "There are three ways we can modify an existing dictionary.\n",
        "\n",
        "1. We can add new key value pairs;\n",
        "2. we can modify the values of existing keys;\n",
        "3. or we can remove a key value pair."
      ]
    },
    {
      "cell_type": "code",
      "execution_count": null,
      "id": "e61039f4",
      "metadata": {
        "id": "e61039f4"
      },
      "outputs": [],
      "source": [
        "# adding items to a dictionary\n",
        "student[\"age\"] = 17"
      ]
    },
    {
      "cell_type": "code",
      "execution_count": null,
      "id": "6cf5b0eb",
      "metadata": {
        "id": "6cf5b0eb",
        "outputId": "a3239ae1-6a1f-4a02-9930-b98f697e808b"
      },
      "outputs": [
        {
          "name": "stdout",
          "output_type": "stream",
          "text": [
            "{'name': 'Udit Pathak', 'grades': [99, 95, 97, 92, 100], 'age': 17}\n"
          ]
        }
      ],
      "source": [
        "print(student)"
      ]
    },
    {
      "cell_type": "code",
      "execution_count": null,
      "id": "c2205f15",
      "metadata": {
        "id": "c2205f15"
      },
      "outputs": [],
      "source": [
        "movie = {\n",
        "    \"title\": \"Avengers: Endgame\",\n",
        "    \"directors\": [\"Anthony Russo\", \"Joe Russo\"],\n",
        "    \"year\": 2019\n",
        "}"
      ]
    },
    {
      "cell_type": "code",
      "execution_count": null,
      "id": "216f343d",
      "metadata": {
        "id": "216f343d"
      },
      "outputs": [],
      "source": [
        "meta_info = {\n",
        "    \"runtime\": 181,\n",
        "    \"budget\": \"$356 million\",\n",
        "    \"earnings\": \"$2.798 billion\",\n",
        "    \"producer\": \"Kevin Feige\"\n",
        "}\n"
      ]
    },
    {
      "cell_type": "code",
      "execution_count": null,
      "id": "1c3c1786",
      "metadata": {
        "id": "1c3c1786"
      },
      "outputs": [],
      "source": [
        "movie.update(meta_info)"
      ]
    },
    {
      "cell_type": "code",
      "execution_count": null,
      "id": "8340c808",
      "metadata": {
        "id": "8340c808",
        "outputId": "2ed9997d-5e5d-458e-8a16-65e7ba8024da"
      },
      "outputs": [
        {
          "name": "stdout",
          "output_type": "stream",
          "text": [
            "{'name': 'Udit Pathak', 'grades': [99, 95, 97, 92, 100], 'age': 17}\n",
            "{'name': 'Udit Pathak', 'grades': [99, 95, 97, 92, 100], 'age': 18}\n"
          ]
        }
      ],
      "source": [
        "# Modifying existing dictionary\n",
        "\n",
        "print(student)\n",
        "\n",
        "student[\"age\"] = 18\n",
        "\n",
        "print(student)"
      ]
    },
    {
      "cell_type": "code",
      "execution_count": null,
      "id": "9dfdb8d2",
      "metadata": {
        "id": "9dfdb8d2",
        "outputId": "e46752f7-f391-4a39-b6e4-7e2a612dd5e8"
      },
      "outputs": [
        {
          "name": "stdout",
          "output_type": "stream",
          "text": [
            "{'title': 'Avengers: Endgame', 'directors': ['Anthony Russo', 'Joe Russo'], 'year': 2019, 'runtime': 181, 'budget': '$356 million', 'earnings': '$2.798 billion', 'producer': 'Kevin Feige'}\n",
            "{'title': 'Avengers: Endgame', 'directors': ['Anthony Russo', 'Joe Russo'], 'year': 2019, 'budget': '$356 million', 'earnings': '$2.798 billion', 'producer': 'Kevin Feige'}\n"
          ]
        }
      ],
      "source": [
        "# deleting items\n",
        "print(movie)\n",
        "del movie[\"runtime\"]\n",
        "print(movie)"
      ]
    },
    {
      "cell_type": "code",
      "execution_count": null,
      "id": "531b7458",
      "metadata": {
        "id": "531b7458",
        "outputId": "b8c69722-5467-42a8-a8a8-0b8c65664275"
      },
      "outputs": [
        {
          "name": "stdout",
          "output_type": "stream",
          "text": [
            "{'title': 'Avengers: Endgame', 'directors': ['Anthony Russo', 'Joe Russo'], 'year': 2019, 'budget': '$356 million', 'earnings': '$2.798 billion', 'producer': 'Kevin Feige'}\n",
            "2019\n",
            "{'title': 'Avengers: Endgame', 'directors': ['Anthony Russo', 'Joe Russo'], 'budget': '$356 million', 'earnings': '$2.798 billion', 'producer': 'Kevin Feige'}\n"
          ]
        }
      ],
      "source": [
        "print(movie)\n",
        "print(movie.pop(\"year\"))\n",
        "print(movie)"
      ]
    },
    {
      "cell_type": "code",
      "execution_count": null,
      "id": "97a9377f",
      "metadata": {
        "id": "97a9377f",
        "outputId": "17ce7a3c-1fc1-469a-b5a2-b78ded7e9c02"
      },
      "outputs": [
        {
          "name": "stdout",
          "output_type": "stream",
          "text": [
            "title\n",
            "directors\n",
            "budget\n",
            "earnings\n",
            "producer\n",
            "Avengers: Endgame\n",
            "['Anthony Russo', 'Joe Russo']\n",
            "$356 million\n",
            "$2.798 billion\n",
            "Kevin Feige\n",
            "title : Avengers: Endgame\n",
            "directors : ['Anthony Russo', 'Joe Russo']\n",
            "budget : $356 million\n",
            "earnings : $2.798 billion\n",
            "producer : Kevin Feige\n"
          ]
        }
      ],
      "source": [
        "# iterating over dictionaries\n",
        "# One thing you need to be aware of when iterating over dictionaries is that by default, we only get the keys\n",
        "for attribute in movie:\n",
        "    print(attribute)\n",
        "\n",
        "for value in movie.values():\n",
        "    print(value)\n",
        "\n",
        "# for both key and value we can use item method\n",
        "for key, value in movie.items():\n",
        "    print(f\"{key} : {value}\")"
      ]
    },
    {
      "cell_type": "markdown",
      "id": "72313116",
      "metadata": {
        "id": "72313116"
      },
      "source": [
        "### Exercises\n",
        "\n",
        "1) Below is a tuple describing an album:\n",
        "```\n",
        " (\n",
        "    \"The Dark Side of the Moon\",\n",
        "    \"Pink Floyd\",\n",
        "    1973,\n",
        "    (\n",
        "        \"Speak to Me\",\n",
        "        \"Breathe\",\n",
        "        \"On the Run\",\n",
        "        \"Time\",\n",
        "        \"The Great Gig in the Sky\",\n",
        "        \"Money\",\n",
        "        \"Us and Them\",\n",
        "        \"Any Colour You Like\",\n",
        "        \"Brain Damage\",\n",
        "        \"Eclipse\"\n",
        "    )\n",
        " )\n",
        "```\n",
        "Inside the tuple we have the album name, the artist (in this case, the band), the year of release, and then another tuple containing the track list.\n",
        "\n",
        "Convert this outer tuple to a dictionary with four keys.\n",
        "\n",
        "2) Iterate over the keys and values of the dictionary you create in exercise 1. For each key and value, you should print the name of the key, and then the value alongside it.\n",
        "\n",
        "3) Delete the track list and year of release from the dictionary you created. Once you've done this, add a new key to the dictionary to store the date of release. The date of release for The Dark Side of the Moon was March 1st, 1973.\n",
        "\n",
        "If you use a different album for the exercises, update the date accordingly.\n",
        "\n",
        "4) Try to retrieve one of the values you deleted from the dictionary. This should give you a `KeyError`. Once you've tried this, repeat the step using the `get` method to prevent the exception being raised."
      ]
    },
    {
      "cell_type": "code",
      "execution_count": null,
      "id": "8725f704",
      "metadata": {
        "id": "8725f704"
      },
      "outputs": [],
      "source": [
        "# 1\n",
        "album_tuple =  (\n",
        "    \"The Dark Side of the Moon\",\n",
        "    \"Pink Floyd\",\n",
        "    1973,\n",
        "    (\n",
        "        \"Speak to Me\",\n",
        "        \"Breathe\",\n",
        "        \"On the Run\",\n",
        "        \"Time\",\n",
        "        \"The Great Gig in the Sky\",\n",
        "        \"Money\",\n",
        "        \"Us and Them\",\n",
        "        \"Any Colour You Like\",\n",
        "        \"Brain Damage\",\n",
        "        \"Eclipse\"\n",
        "    )\n",
        " )\n",
        "\n",
        "name, artist, year, tracks = album_tuple\n",
        "album_dict = {}\n",
        "album_dict[\"name\"] = name\n",
        "album_dict[\"artist\"] = artist\n",
        "album_dict[\"year\"] = year\n",
        "album_dict[\"tracks\"] = tracks\n"
      ]
    },
    {
      "cell_type": "code",
      "execution_count": null,
      "id": "c0c14b57",
      "metadata": {
        "id": "c0c14b57",
        "outputId": "62f18ae0-fd13-4ed1-c2ed-47895afe0da3"
      },
      "outputs": [
        {
          "name": "stdout",
          "output_type": "stream",
          "text": [
            "name : The Dark Side of the Moon\n",
            "artist : Pink Floyd\n",
            "year : 1973\n",
            "tracks : ('Speak to Me', 'Breathe', 'On the Run', 'Time', 'The Great Gig in the Sky', 'Money', 'Us and Them', 'Any Colour You Like', 'Brain Damage', 'Eclipse')\n"
          ]
        }
      ],
      "source": [
        "# 2\n",
        "for key, value in album_dict.items():\n",
        "    print(f\"{key} : {value}\")"
      ]
    },
    {
      "cell_type": "code",
      "execution_count": null,
      "id": "6105e4ab",
      "metadata": {
        "id": "6105e4ab",
        "outputId": "07066561-3fc4-45af-e861-bd31afbd03b1"
      },
      "outputs": [
        {
          "name": "stdout",
          "output_type": "stream",
          "text": [
            "name : The Dark Side of the Moon\n",
            "\n",
            "\n",
            "artist : Pink Floyd\n",
            "\n",
            "\n",
            "name : The Dark Side of the Moon\n",
            "artist : Pink Floyd\n",
            "date : March 1st, 1973\n"
          ]
        }
      ],
      "source": [
        "# 3\n",
        "album_dict.pop(\"year\")\n",
        "album_dict.pop(\"tracks\")\n",
        "for key, value in album_dict.items():\n",
        "    print(f\"{key} : {value}\")\n",
        "\n",
        "\n",
        "album_dict[\"date\"] = \"March 1st, 1973\"\n",
        "for key, value in album_dict.items():\n",
        "    print(f\"{key} : {value}\")\n"
      ]
    },
    {
      "cell_type": "code",
      "execution_count": null,
      "id": "92bf61e0",
      "metadata": {
        "id": "92bf61e0"
      },
      "outputs": [],
      "source": [
        "# 4\n",
        "print(album_dict[\"year\"]) # will raise a KeyError: 'year' exception"
      ]
    },
    {
      "cell_type": "code",
      "execution_count": null,
      "id": "7f6b672e",
      "metadata": {
        "id": "7f6b672e",
        "outputId": "88bca97f-7bfc-4107-8096-7e6833883c3d"
      },
      "outputs": [
        {
          "name": "stdout",
          "output_type": "stream",
          "text": [
            "[]\n"
          ]
        }
      ],
      "source": [
        "# 4\n",
        "print(album_dict.get(\"year\", []))"
      ]
    },
    {
      "cell_type": "markdown",
      "source": [
        "# Day 11\n",
        "### Sets"
      ],
      "metadata": {
        "id": "-1k1xQfwTQTJ"
      },
      "id": "-1k1xQfwTQTJ"
    },
    {
      "cell_type": "code",
      "execution_count": null,
      "id": "869424ab",
      "metadata": {
        "id": "869424ab"
      },
      "outputs": [],
      "source": []
    },
    {
      "cell_type": "code",
      "execution_count": null,
      "id": "5da5b648",
      "metadata": {
        "id": "5da5b648"
      },
      "outputs": [],
      "source": []
    },
    {
      "cell_type": "code",
      "execution_count": null,
      "id": "59a97d5a",
      "metadata": {
        "id": "59a97d5a"
      },
      "outputs": [],
      "source": []
    },
    {
      "cell_type": "code",
      "execution_count": null,
      "id": "9a238182",
      "metadata": {
        "id": "9a238182"
      },
      "outputs": [],
      "source": []
    },
    {
      "cell_type": "code",
      "execution_count": null,
      "id": "518899bf",
      "metadata": {
        "id": "518899bf"
      },
      "outputs": [],
      "source": []
    },
    {
      "cell_type": "code",
      "execution_count": null,
      "id": "098561be",
      "metadata": {
        "id": "098561be"
      },
      "outputs": [],
      "source": []
    },
    {
      "cell_type": "code",
      "execution_count": null,
      "id": "a130f1ec",
      "metadata": {
        "id": "a130f1ec"
      },
      "outputs": [],
      "source": []
    },
    {
      "cell_type": "code",
      "execution_count": null,
      "id": "942d704f",
      "metadata": {
        "id": "942d704f"
      },
      "outputs": [],
      "source": []
    },
    {
      "cell_type": "code",
      "execution_count": null,
      "id": "4049230a",
      "metadata": {
        "id": "4049230a"
      },
      "outputs": [],
      "source": []
    },
    {
      "cell_type": "code",
      "execution_count": null,
      "id": "3d5e5e1e",
      "metadata": {
        "id": "3d5e5e1e"
      },
      "outputs": [],
      "source": []
    },
    {
      "cell_type": "code",
      "execution_count": null,
      "id": "0c37521f",
      "metadata": {
        "id": "0c37521f"
      },
      "outputs": [],
      "source": []
    },
    {
      "cell_type": "code",
      "execution_count": null,
      "id": "8211aca5",
      "metadata": {
        "id": "8211aca5"
      },
      "outputs": [],
      "source": []
    },
    {
      "cell_type": "code",
      "execution_count": null,
      "id": "507b320d",
      "metadata": {
        "id": "507b320d"
      },
      "outputs": [],
      "source": []
    },
    {
      "cell_type": "code",
      "execution_count": null,
      "id": "aa77a17d",
      "metadata": {
        "id": "aa77a17d"
      },
      "outputs": [],
      "source": []
    },
    {
      "cell_type": "code",
      "execution_count": null,
      "id": "7c7bf9c3",
      "metadata": {
        "id": "7c7bf9c3"
      },
      "outputs": [],
      "source": []
    },
    {
      "cell_type": "code",
      "execution_count": null,
      "id": "1386a0b7",
      "metadata": {
        "id": "1386a0b7"
      },
      "outputs": [],
      "source": []
    },
    {
      "cell_type": "code",
      "execution_count": null,
      "id": "1cc0ae75",
      "metadata": {
        "id": "1cc0ae75"
      },
      "outputs": [],
      "source": []
    },
    {
      "cell_type": "code",
      "execution_count": null,
      "id": "ae39b56b",
      "metadata": {
        "id": "ae39b56b"
      },
      "outputs": [],
      "source": []
    },
    {
      "cell_type": "code",
      "execution_count": null,
      "id": "92f658e0",
      "metadata": {
        "id": "92f658e0"
      },
      "outputs": [],
      "source": []
    }
  ],
  "metadata": {
    "kernelspec": {
      "display_name": "Python 3",
      "language": "python",
      "name": "python3"
    },
    "language_info": {
      "codemirror_mode": {
        "name": "ipython",
        "version": 3
      },
      "file_extension": ".py",
      "mimetype": "text/x-python",
      "name": "python",
      "nbconvert_exporter": "python",
      "pygments_lexer": "ipython3",
      "version": "3.13.6"
    },
    "colab": {
      "provenance": []
    }
  },
  "nbformat": 4,
  "nbformat_minor": 5
}