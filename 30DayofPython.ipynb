{
 "cells": [
  {
   "cell_type": "markdown",
   "id": "b9062156",
   "metadata": {},
   "source": [
    "# Day 1"
   ]
  },
  {
   "cell_type": "markdown",
   "id": "c68ff747",
   "metadata": {},
   "source": [
    "### The `print` function"
   ]
  },
  {
   "cell_type": "code",
   "execution_count": 3,
   "id": "957382e2-d365-4399-944d-374413f4110e",
   "metadata": {},
   "outputs": [
    {
     "name": "stdout",
     "output_type": "stream",
     "text": [
      "4.0\n",
      "4\n",
      "-21\n",
      "21.21\n"
     ]
    }
   ],
   "source": [
    "print(4.0)\n",
    "print(4)\n",
    "print(-21)\n",
    "print(21.21)"
   ]
  },
  {
   "cell_type": "markdown",
   "id": "91107290",
   "metadata": {},
   "source": [
    "### Expressions\n",
    "As it happens, every piece of code we’ve written so far is an expression, and there are many different types of expression in Python.\n",
    "\n",
    "For example, all the integers we've written are expressions. When Python sees each integer, it can use the value they represent.\n",
    "\n",
    "We're also about to see some simple arithmetic operations like 5 + 7, and those operations are expressions too. In the case of 5 + 7, when Python sees that, it evaluates the expression to another integer: 12.\n",
    "\n",
    "When we write print(), that is also a type of expression called a *function call expression.*\n",
    "\n",
    "Does that mean that print() has a value?\n",
    "\n",
    "Yes, it does.\n",
    "\n",
    "### Arithmetic Operators"
   ]
  },
  {
   "cell_type": "code",
   "execution_count": 6,
   "id": "6952060e",
   "metadata": {},
   "outputs": [
    {
     "name": "stdout",
     "output_type": "stream",
     "text": [
      "3\n",
      "14.4\n",
      "6.0\n"
     ]
    }
   ],
   "source": [
    "print(1 + 2)\n",
    "print(3.4 + 11)\n",
    "print(2.0 * 3)"
   ]
  },
  {
   "cell_type": "markdown",
   "id": "8af4ba07",
   "metadata": {},
   "source": [
    "### Exercises\n",
    "Now that we’ve been through the material for this post, here are a few exercises so that you can practice:\n",
    "\n",
    "1. Print your age to the console.\n",
    "2. Calculate and print the number of days, weeks, and months in 27 years. Don’t worry about leap years!\n",
    "3. Calculate and print the area of a circle with a radius of 5 units. You can be as accurate as you like with the value of pi."
   ]
  },
  {
   "cell_type": "code",
   "execution_count": 7,
   "id": "b699b311",
   "metadata": {},
   "outputs": [
    {
     "name": "stdout",
     "output_type": "stream",
     "text": [
      "33\n"
     ]
    }
   ],
   "source": [
    "print(33)"
   ]
  },
  {
   "cell_type": "code",
   "execution_count": 10,
   "id": "6ae84c67",
   "metadata": {},
   "outputs": [
    {
     "name": "stdout",
     "output_type": "stream",
     "text": [
      "9855\n",
      "1404\n",
      "324\n"
     ]
    }
   ],
   "source": [
    "# Calculate and print the number of days, weeks, and months in 27 years. Don’t worry about leap years!\n",
    "print(27 * 365)\n",
    "print(27 * 52)\n",
    "print(27 * 12)"
   ]
  },
  {
   "cell_type": "code",
   "execution_count": 1,
   "id": "b15f4b28",
   "metadata": {},
   "outputs": [
    {
     "name": "stdout",
     "output_type": "stream",
     "text": [
      "78.57142857142857\n",
      "78.57142857142857\n"
     ]
    }
   ],
   "source": [
    "# Calculate and print the area of a circle with a radius of 5 units. You can be as accurate as you like with the value of pi.\n",
    "print((22/7) * 5 * 5)\n",
    "\n",
    "print((22/7) * pow(5,2))"
   ]
  },
  {
   "cell_type": "markdown",
   "id": "cae2c7d2",
   "metadata": {},
   "source": [
    "# Day 2\n",
    "\n",
    "### String Basics"
   ]
  },
  {
   "cell_type": "code",
   "execution_count": 3,
   "id": "8878dcb6",
   "metadata": {},
   "outputs": [
    {
     "name": "stdout",
     "output_type": "stream",
     "text": [
      "Hello, world!\n"
     ]
    }
   ],
   "source": [
    "print(\"Hello, world!\")"
   ]
  },
  {
   "cell_type": "code",
   "execution_count": 4,
   "id": "0415fdc0",
   "metadata": {},
   "outputs": [],
   "source": [
    "name = \"Udit Pathak\"\n",
    "age = 32"
   ]
  },
  {
   "cell_type": "code",
   "execution_count": 6,
   "id": "c15dee94",
   "metadata": {},
   "outputs": [
    {
     "ename": "NameError",
     "evalue": "name 'GivenName' is not defined",
     "output_type": "error",
     "traceback": [
      "\u001b[31m---------------------------------------------------------------------------\u001b[39m",
      "\u001b[31mNameError\u001b[39m                                 Traceback (most recent call last)",
      "\u001b[36mCell\u001b[39m\u001b[36m \u001b[39m\u001b[32mIn[6]\u001b[39m\u001b[32m, line 1\u001b[39m\n\u001b[32m----> \u001b[39m\u001b[32m1\u001b[39m \u001b[43mGivenName\u001b[49m\n",
      "\u001b[31mNameError\u001b[39m: name 'GivenName' is not defined"
     ]
    }
   ],
   "source": [
    "GivenName"
   ]
  },
  {
   "cell_type": "markdown",
   "id": "f03d642b",
   "metadata": {},
   "source": [
    "### Getting values from the user"
   ]
  },
  {
   "cell_type": "code",
   "execution_count": 9,
   "id": "c2c62229",
   "metadata": {},
   "outputs": [],
   "source": [
    "name = input(\"Please enter your name: \")"
   ]
  },
  {
   "cell_type": "markdown",
   "id": "88294b58",
   "metadata": {},
   "source": [
    "### Exercises\n",
    "Now that we’ve covered how to use strings, variables, and the input function, it’s time to practice with some exercises.\n",
    "\n",
    "1. Ask the user for their name and age, assign theses values to two variables, and then print them.\n",
    "2. Investigate what happens when you try to assign a value to a variable that you’ve already defined. Try printing the variable before and after you reuse the name.\n",
    "3. Below you’ll find some code with a number of errors. Try to go through the program line by line and fix the issues in the code. I’d encourage you to try running the program while you’re working on it, as reading the error messages is great practice for debugging your own programs.\n",
    "\n",
    "```\n",
    "{\n",
    "    hourly_wage = input(\"Please enter your hourly wage: ')\n",
    "\n",
    "    prnt(\"Hourly wage: \")\n",
    "    print(hourlywage)\n",
    "    print(\"Hours worked: \")\n",
    "    print(hours_worked)\n",
    "\n",
    "    hours_worked = input(\"How many hours did you work this week? \")\n",
    "\n",
    "}\n",
    "```"
   ]
  },
  {
   "cell_type": "code",
   "execution_count": 10,
   "id": "c801fc0f",
   "metadata": {},
   "outputs": [],
   "source": [
    "# Ask the user for their name and age, assign theses values to two variables, and then print them.\n",
    "name = input(\"Enter your name: \")\n",
    "age = input(\"Enter your age: \")"
   ]
  },
  {
   "cell_type": "code",
   "execution_count": 11,
   "id": "beca1074",
   "metadata": {},
   "outputs": [
    {
     "name": "stdout",
     "output_type": "stream",
     "text": [
      "Udit, 32\n"
     ]
    }
   ],
   "source": [
    "print(name + ', ' + age)"
   ]
  },
  {
   "cell_type": "code",
   "execution_count": 13,
   "id": "7cdf7ac4",
   "metadata": {},
   "outputs": [
    {
     "name": "stdout",
     "output_type": "stream",
     "text": [
      "45\n"
     ]
    }
   ],
   "source": [
    "# Investigate what happens when you try to assign a value to a variable that you’ve already defined. Try printing the variable before and after you reuse the name.\n",
    "age = 45\n",
    "print(age)"
   ]
  },
  {
   "cell_type": "code",
   "execution_count": null,
   "id": "82a1ada6",
   "metadata": {},
   "outputs": [],
   "source": [
    "'''\n",
    "Below you’ll find some code with a number of errors. Try to go through the program line by line and fix the issues in the code. I’d encourage you to try running the program while you’re working on it, as reading the error messages is great practice for debugging your own programs.\n",
    "hourly_wage = input(\"Please enter your hourly wage: ')\n",
    "\n",
    "print(\"Hourly wage: \")\n",
    "print(hourlywage)\n",
    "print(\"Hours worked: \")\n",
    "print(hours_worked)\n",
    "\n",
    "hours_worked = input(\"How many hours did you work this week? \")\n",
    "'''\n",
    "\n"
   ]
  },
  {
   "cell_type": "code",
   "execution_count": 14,
   "id": "01d03188",
   "metadata": {},
   "outputs": [
    {
     "ename": "SyntaxError",
     "evalue": "unterminated string literal (detected at line 1) (1149776034.py, line 1)",
     "output_type": "error",
     "traceback": [
      "  \u001b[36mCell\u001b[39m\u001b[36m \u001b[39m\u001b[32mIn[14]\u001b[39m\u001b[32m, line 1\u001b[39m\n\u001b[31m    \u001b[39m\u001b[31mhourly_wage = input(\"Please enter your hourly wage: ')\u001b[39m\n                        ^\n\u001b[31mSyntaxError\u001b[39m\u001b[31m:\u001b[39m unterminated string literal (detected at line 1)\n"
     ]
    }
   ],
   "source": [
    "hourly_wage = input(\"Please enter your hourly wage: ')"
   ]
  },
  {
   "cell_type": "code",
   "execution_count": 15,
   "id": "3cc173b8",
   "metadata": {},
   "outputs": [
    {
     "ename": "NameError",
     "evalue": "name 'prnt' is not defined",
     "output_type": "error",
     "traceback": [
      "\u001b[31m---------------------------------------------------------------------------\u001b[39m",
      "\u001b[31mNameError\u001b[39m                                 Traceback (most recent call last)",
      "\u001b[36mCell\u001b[39m\u001b[36m \u001b[39m\u001b[32mIn[15]\u001b[39m\u001b[32m, line 1\u001b[39m\n\u001b[32m----> \u001b[39m\u001b[32m1\u001b[39m \u001b[43mprnt\u001b[49m(\u001b[33m\"\u001b[39m\u001b[33mHourly wage: \u001b[39m\u001b[33m\"\u001b[39m)\n",
      "\u001b[31mNameError\u001b[39m: name 'prnt' is not defined"
     ]
    }
   ],
   "source": [
    "prnt(\"Hourly wage: \")"
   ]
  },
  {
   "cell_type": "code",
   "execution_count": 16,
   "id": "52c94c7d",
   "metadata": {},
   "outputs": [
    {
     "ename": "NameError",
     "evalue": "name 'hourlywage' is not defined",
     "output_type": "error",
     "traceback": [
      "\u001b[31m---------------------------------------------------------------------------\u001b[39m",
      "\u001b[31mNameError\u001b[39m                                 Traceback (most recent call last)",
      "\u001b[36mCell\u001b[39m\u001b[36m \u001b[39m\u001b[32mIn[16]\u001b[39m\u001b[32m, line 1\u001b[39m\n\u001b[32m----> \u001b[39m\u001b[32m1\u001b[39m \u001b[38;5;28mprint\u001b[39m(\u001b[43mhourlywage\u001b[49m)\n",
      "\u001b[31mNameError\u001b[39m: name 'hourlywage' is not defined"
     ]
    }
   ],
   "source": [
    "print(hourlywage)"
   ]
  },
  {
   "cell_type": "code",
   "execution_count": 17,
   "id": "dbffc178",
   "metadata": {},
   "outputs": [
    {
     "name": "stdout",
     "output_type": "stream",
     "text": [
      "Hours worked: \n"
     ]
    }
   ],
   "source": [
    "print(\"Hours worked: \")\n"
   ]
  },
  {
   "cell_type": "code",
   "execution_count": 18,
   "id": "e383bed1",
   "metadata": {},
   "outputs": [],
   "source": [
    "hours_worked = input(\"How many hours did you work this week? \")"
   ]
  },
  {
   "cell_type": "markdown",
   "id": "24eaef16",
   "metadata": {},
   "source": [
    "# Day 3\n",
    "\n",
    "### String Concatenation"
   ]
  },
  {
   "cell_type": "code",
   "execution_count": 20,
   "id": "3161bc7c",
   "metadata": {},
   "outputs": [
    {
     "name": "stdout",
     "output_type": "stream",
     "text": [
      "Hourly wage: 10000\n",
      "Hours worked: 100\n"
     ]
    }
   ],
   "source": [
    "hourly_wage = input(\"Please enter your hourly wage: \")\n",
    "hours_worked = input(\"How many hours did you work this week? \")\n",
    "\n",
    "print(\"Hourly wage: \" + hourly_wage)\n",
    "print(\"Hours worked: \" + hours_worked)"
   ]
  },
  {
   "cell_type": "markdown",
   "id": "40a45197",
   "metadata": {},
   "source": [
    "### Converting strings, integers, and floats"
   ]
  },
  {
   "cell_type": "code",
   "execution_count": 22,
   "id": "0f60b3e2",
   "metadata": {},
   "outputs": [
    {
     "name": "stdout",
     "output_type": "stream",
     "text": [
      "32\n"
     ]
    }
   ],
   "source": [
    "age = str(32)\n",
    "print(age)"
   ]
  },
  {
   "cell_type": "code",
   "execution_count": 24,
   "id": "410563a5",
   "metadata": {},
   "outputs": [
    {
     "name": "stdout",
     "output_type": "stream",
     "text": [
      "28\n"
     ]
    }
   ],
   "source": [
    "age = int(\"28\")\n",
    "print(age)"
   ]
  },
  {
   "cell_type": "code",
   "execution_count": 25,
   "id": "1245f983",
   "metadata": {},
   "outputs": [
    {
     "ename": "ValueError",
     "evalue": "invalid literal for int() with base 10: '118.25'",
     "output_type": "error",
     "traceback": [
      "\u001b[31m---------------------------------------------------------------------------\u001b[39m",
      "\u001b[31mValueError\u001b[39m                                Traceback (most recent call last)",
      "\u001b[36mCell\u001b[39m\u001b[36m \u001b[39m\u001b[32mIn[25]\u001b[39m\u001b[32m, line 1\u001b[39m\n\u001b[32m----> \u001b[39m\u001b[32m1\u001b[39m hourly_wage = \u001b[38;5;28;43mint\u001b[39;49m\u001b[43m(\u001b[49m\u001b[33;43m\"\u001b[39;49m\u001b[33;43m118.25\u001b[39;49m\u001b[33;43m\"\u001b[39;49m\u001b[43m)\u001b[49m\n",
      "\u001b[31mValueError\u001b[39m: invalid literal for int() with base 10: '118.25'"
     ]
    }
   ],
   "source": [
    "hourly_wage = int(\"118.25\")"
   ]
  },
  {
   "cell_type": "code",
   "execution_count": 26,
   "id": "32ebabf9",
   "metadata": {},
   "outputs": [
    {
     "name": "stdout",
     "output_type": "stream",
     "text": [
      "118.19\n"
     ]
    }
   ],
   "source": [
    "# Instead of int, we’d need to call float here instead:\n",
    "hourly_wage = float(\"118.19\")\n",
    "print(hourly_wage)"
   ]
  },
  {
   "cell_type": "markdown",
   "id": "d72110a3",
   "metadata": {},
   "source": [
    "### String interpolation with the `format` method"
   ]
  },
  {
   "cell_type": "code",
   "execution_count": 27,
   "id": "e4f80a44",
   "metadata": {},
   "outputs": [
    {
     "data": {
      "text/plain": [
       "'{} is {} years old'"
      ]
     },
     "execution_count": 27,
     "metadata": {},
     "output_type": "execute_result"
    }
   ],
   "source": [
    "# When using the format method, the placeholders for our values are curly braces, which look like this: {}. \n",
    "# For example, let’s say we want to write a string like:\n",
    "\n",
    "\"John is 24 years old.\"\n",
    "\"{} is {} years old\""
   ]
  },
  {
   "cell_type": "code",
   "execution_count": 28,
   "id": "c0b699d5",
   "metadata": {},
   "outputs": [
    {
     "data": {
      "text/plain": [
       "'John is 24 years old'"
      ]
     },
     "execution_count": 28,
     "metadata": {},
     "output_type": "execute_result"
    }
   ],
   "source": [
    "\"{} is {} years old\".format(\"John\", 24)"
   ]
  },
  {
   "cell_type": "code",
   "execution_count": 29,
   "id": "4cb5b0a2",
   "metadata": {},
   "outputs": [
    {
     "data": {
      "text/plain": [
       "'John is 24 years old, and John works as a web developer'"
      ]
     },
     "execution_count": 29,
     "metadata": {},
     "output_type": "execute_result"
    }
   ],
   "source": [
    "\"John is 24 years old, and John works as a web developer\""
   ]
  },
  {
   "cell_type": "code",
   "execution_count": 30,
   "id": "8fe4ac36",
   "metadata": {},
   "outputs": [
    {
     "name": "stdout",
     "output_type": "stream",
     "text": [
      "John is 24 years old, and John works as a web developer.\n"
     ]
    }
   ],
   "source": [
    "output = \"{} is {} years old, and {} works as a {}.\"\n",
    "print(output.format(\"John\", 24, \"John\", \"web developer\"))"
   ]
  },
  {
   "cell_type": "code",
   "execution_count": 33,
   "id": "0f2029ea",
   "metadata": {},
   "outputs": [
    {
     "name": "stdout",
     "output_type": "stream",
     "text": [
      "John is 24 years old, and John works as a web developer.\n",
      "John is 24 years old, and John works as a web developer.\n",
      "John is 24 years old, and John works as a web developer.\n",
      "John is 24 years old, and John works as a web developer.\n"
     ]
    }
   ],
   "source": [
    "name = \"John\"\n",
    "age = 24\n",
    "position = \"web developer\"\n",
    "output = \"{} is {} years old, and {} works as a {}.\"\n",
    "print(output.format(\"John\", 24, \"John\", \"web developer\")) # method 1\n",
    "\n",
    "print(output.format(name, age, name, position)) # method 2\n",
    "\n",
    "output = \"{0} is {1} years old, and {0} works as a {2}.\"\n",
    "print(output.format(\"John\", 24, \"web developer\")) # method3\n",
    "\n",
    "output = \"{name} is {age} years old, and {name} works as a {position}.\"\n",
    "print(output.format(name = \"John\", age = 24, position = \"web developer\")) # method4"
   ]
  },
  {
   "cell_type": "markdown",
   "id": "64ab410d",
   "metadata": {},
   "source": [
    "### String interpolation with f-strings"
   ]
  },
  {
   "cell_type": "code",
   "execution_count": null,
   "id": "b54b935c",
   "metadata": {},
   "outputs": [
    {
     "data": {
      "text/plain": [
       "'John is 24 years old!'"
      ]
     },
     "execution_count": 38,
     "metadata": {},
     "output_type": "execute_result"
    }
   ],
   "source": [
    "name = \"John\"\n",
    "age = 24\n",
    "\"{} is {} years old!\".format(name, age)"
   ]
  },
  {
   "cell_type": "code",
   "execution_count": null,
   "id": "af0d882c",
   "metadata": {},
   "outputs": [
    {
     "data": {
      "text/plain": [
       "'John is 24 years old!'"
      ]
     },
     "execution_count": 39,
     "metadata": {},
     "output_type": "execute_result"
    }
   ],
   "source": [
    "# using f-strings\n",
    "f\"{name} is {age} years old!\" # also an expression"
   ]
  },
  {
   "cell_type": "code",
   "execution_count": 40,
   "id": "3c75f87a",
   "metadata": {},
   "outputs": [
    {
     "name": "stdout",
     "output_type": "stream",
     "text": [
      "John is 288 months old!\n"
     ]
    }
   ],
   "source": [
    "print(f\"{name} is {age * 12} months old!\")"
   ]
  },
  {
   "cell_type": "markdown",
   "id": "99549f77",
   "metadata": {},
   "source": [
    "### Basic String Processing"
   ]
  },
  {
   "cell_type": "code",
   "execution_count": 50,
   "id": "cafa3772",
   "metadata": {},
   "outputs": [
    {
     "name": "stdout",
     "output_type": "stream",
     "text": [
      "Hello world!!\n",
      "hello world!!\n",
      "HELLO WORLD!!\n",
      "Hello World!!\n",
      "Hello world!!\n",
      "Hello world!!\n",
      "Hello world!!\n",
      "Hello world!!\n",
      "Hello world!!\n",
      "Hello world!!\n",
      "Hello world!!\n"
     ]
    }
   ],
   "source": [
    "print(\"Hello world!!\".capitalize())\n",
    "print(\"Hello world!!\".lower())\n",
    "print(\"Hello world!!\".upper())\n",
    "print(\"Hello world!!\".title())\n",
    "print(\"Hello world!!   \".strip())\n",
    "print(\"Hello world!!\")\n",
    "print(\"Hello world!!\")\n",
    "print(\"Hello world!!\")\n",
    "print(\"Hello world!!\")\n",
    "print(\"Hello world!!\")\n",
    "print(\"Hello world!!\")"
   ]
  },
  {
   "cell_type": "markdown",
   "id": "4b7e6f60",
   "metadata": {},
   "source": [
    "### Exercises\n",
    "1. Using the variable below, print `\"Hello, world!\".`\n",
    "\n",
    "`greeting = \"Hello, world\"`\n",
    "\n",
    "You can add the missing exclamation mark using string concatenation, format, or f-strings. The choice is yours.\n",
    "\n",
    "2. Ask the user for their name, and then greet the user, using their name as part of the greeting. The name should be in title case, and shouldn't be surrounded by any excess white space.\n",
    "\n",
    "For example, if the user enters `\"lewis \"`, your output should be something like this:\n",
    "\n",
    "`Hello, Lewis!`\n",
    "\n",
    "3. Concatenate the string `\"I am \"` and the integer `29` to produce a string which reads \n",
    "\n",
    "`\"I am 29\".`\n",
    "\n",
    "Remember that we can only concatenate strings to other strings, so you will have to convert the integer to a string before you can perform the concatenation.\n",
    "\n",
    "4. Format and print the information below using string interpolation:\n",
    "\n",
    "`title = \"Joker\"`\n",
    "\n",
    "`director = \"Todd Phillips\"`\n",
    "\n",
    "`release_year = 2019`\n",
    "\n",
    "The output should look like this:\n",
    "\n",
    "`Joker (2019), directed by Todd Phillips`\n",
    "\n",
    "You can add the missing exclamation mark using string concatenation, format, or f-strings. The choice is yours.\n",
    "\n",
    "https://teclado.com/30-days-of-python/python-30-day-3-string-formatting/"
   ]
  },
  {
   "cell_type": "code",
   "execution_count": 53,
   "id": "ada98a9c",
   "metadata": {},
   "outputs": [
    {
     "name": "stdout",
     "output_type": "stream",
     "text": [
      "Hello, world!\n"
     ]
    }
   ],
   "source": [
    "# 1\n",
    "greeting = \"Hello, world\"\n",
    "print(f\"{greeting}!\")"
   ]
  },
  {
   "cell_type": "code",
   "execution_count": 54,
   "id": "4a03d64e",
   "metadata": {},
   "outputs": [
    {
     "name": "stdout",
     "output_type": "stream",
     "text": [
      "Hello, Udit Pathak Kumar Shashwat!\n"
     ]
    }
   ],
   "source": [
    "# 2\n",
    "name = input(\"Please enter your name: \")\n",
    "print(f\"Hello, {name.strip().title()}!\")"
   ]
  },
  {
   "cell_type": "code",
   "execution_count": 57,
   "id": "16592d53",
   "metadata": {},
   "outputs": [
    {
     "name": "stdout",
     "output_type": "stream",
     "text": [
      "I am 29.\n"
     ]
    }
   ],
   "source": [
    "# 3\n",
    "print(f\"I am {str(29)}.\")"
   ]
  },
  {
   "cell_type": "code",
   "execution_count": 59,
   "id": "e432b74a",
   "metadata": {},
   "outputs": [
    {
     "name": "stdout",
     "output_type": "stream",
     "text": [
      "Joker (2019), directed by Todd Phillips\n"
     ]
    }
   ],
   "source": [
    "# 4\n",
    "title = \"Joker\"\n",
    "director = \"Todd Phillips\"\n",
    "release_year = 2019\n",
    "\n",
    "print(f\"{title} ({release_year}), directed by {director}\") # Joker (2019), directed by Todd Phillips"
   ]
  },
  {
   "cell_type": "markdown",
   "id": "66ac1613",
   "metadata": {},
   "source": [
    "### A Simple Earnings Calculator\n",
    "#### The brief\n",
    "Our application should work as follows:\n",
    "\n",
    "The user should be given three prompts where they'll be asked to provide different information about an employee. \n",
    "\n",
    "One prompt should ask for the employee's name, another should ask for their hourly wage, and the final one should ask how many hours the employee worked this week.\n",
    "\n",
    "The employee name should be processed to ensure that it's in a particular format. \n",
    "All employee names should be stripped of any excess white space, and should be in title case. \n",
    "\n",
    "This means that each word is capitalised with all other letters being lowercase. For example, if the employer accidentally has caps lock on and they write `\"rEGINA gEORGE\"`, the name will still be correctly stored as `\"Regina George\"`.\n",
    "\n",
    "The employee's total earnings for the week should be calculated by multiplying the hours worked by their hourly wage.\n",
    "\n",
    "Remember that any user input we receive is going to be a string. While we can multiply strings, it won't quite do what you want in this case. It's also worth keeping in mind that the employee's wage, or the numbers of hours they worked, might not be a whole number.\n",
    "\n",
    "After processing the employee's name and calculating their earnings for the week, the program should output this information as a single string. For example, output like this would be appropriate:\n",
    "\n",
    "`Regina George earned $800 this week.`"
   ]
  },
  {
   "cell_type": "code",
   "execution_count": 65,
   "id": "7218b6f2",
   "metadata": {},
   "outputs": [
    {
     "name": "stdout",
     "output_type": "stream",
     "text": [
      "Udit earned $50000.00 this week.\n"
     ]
    }
   ],
   "source": [
    "employee_name = input(\"Please enter your name: \")\n",
    "hourly_wages = input(\"Please enter your wages per hour? \")\n",
    "worked_hours = input(\"Please enter how many hours you worked: \")\n",
    "\n",
    "print(f\"{employee_name.strip().title()} earned ${(float(hourly_wages)*float(worked_hours)):.2f} this week.\")"
   ]
  },
  {
   "cell_type": "markdown",
   "id": "d06be751",
   "metadata": {},
   "source": [
    "# Day 4\n",
    "\n",
    "### Basic Python Collections\n",
    "\n",
    "#### List"
   ]
  },
  {
   "cell_type": "code",
   "execution_count": 87,
   "id": "54c7a7fb",
   "metadata": {},
   "outputs": [],
   "source": [
    "names = [\"Ayush\", \"Udit\", \"Urvija\", \"Suryansh\", \"Dinesh\"]"
   ]
  },
  {
   "cell_type": "code",
   "execution_count": 88,
   "id": "3bb4dc7d",
   "metadata": {},
   "outputs": [],
   "source": [
    "movies = [\n",
    "    \"Saiyaara\",\n",
    "    \"Tu Jhooti Main Makkar\",\n",
    "    \"Ye Saali Zindagi\",\n",
    "    \"The Secret Life of Jajantaram Mamantaram\"\n",
    "]"
   ]
  },
  {
   "cell_type": "code",
   "execution_count": 89,
   "id": "09f00152",
   "metadata": {},
   "outputs": [],
   "source": [
    "ayushi_details = [\n",
    "    \"Shukla Pathak\", \n",
    "    \"Udit Pathak\", \n",
    "    29, \n",
    "    \"Vendor Consultant\", \n",
    "    [\n",
    "        \"Singing\", \n",
    "        \"Daancing\", \n",
    "        \"Cooking\"\n",
    "        ]\n",
    "]"
   ]
  },
  {
   "cell_type": "code",
   "execution_count": 90,
   "id": "4c589ce5",
   "metadata": {},
   "outputs": [
    {
     "name": "stdout",
     "output_type": "stream",
     "text": [
      "['Shukla Pathak', 'Udit Pathak', 29, 'Vendor Consultant', ['Singing', 'Daancing', 'Cooking']]\n",
      "Ayush Shukla Pathak\n",
      "Dinesh\n"
     ]
    }
   ],
   "source": [
    "print(ayushi_details)\n",
    "\n",
    "print(names[0], ayushi_details[0])\n",
    "\n",
    "print(names[-1])"
   ]
  },
  {
   "cell_type": "code",
   "execution_count": 91,
   "id": "543ce4f8",
   "metadata": {},
   "outputs": [],
   "source": [
    "names.append(\"Kuttu\")\n"
   ]
  },
  {
   "cell_type": "code",
   "execution_count": 92,
   "id": "f8f8dbe1",
   "metadata": {},
   "outputs": [
    {
     "name": "stdout",
     "output_type": "stream",
     "text": [
      "['Ayush', 'Udit', 'Urvija', 'Suryansh', 'Dinesh', 'Kuttu']\n"
     ]
    }
   ],
   "source": [
    "print(names)"
   ]
  },
  {
   "cell_type": "code",
   "execution_count": 93,
   "id": "74f013e4",
   "metadata": {},
   "outputs": [],
   "source": [
    "names = names + [\"Muttu\"]"
   ]
  },
  {
   "cell_type": "code",
   "execution_count": 94,
   "id": "59d56a64",
   "metadata": {},
   "outputs": [
    {
     "name": "stdout",
     "output_type": "stream",
     "text": [
      "['Ayush', 'Udit', 'Urvija', 'Suryansh', 'Dinesh', 'Kuttu', 'Muttu']\n"
     ]
    }
   ],
   "source": [
    "print(names)"
   ]
  },
  {
   "cell_type": "code",
   "execution_count": 95,
   "id": "08f6c44c",
   "metadata": {},
   "outputs": [
    {
     "name": "stdout",
     "output_type": "stream",
     "text": [
      "[1, 2, 3, 4, 5]\n"
     ]
    }
   ],
   "source": [
    "num = [1, 2, 4, 5]\n",
    "num.insert(2, 3)\n",
    "print(num)"
   ]
  },
  {
   "cell_type": "code",
   "execution_count": 97,
   "id": "f4f10195",
   "metadata": {},
   "outputs": [
    {
     "name": "stdout",
     "output_type": "stream",
     "text": [
      "['Ayush', 'Udit', 'Urvija', 'Suryansh', 'Dinesh', 'Muttu']\n"
     ]
    }
   ],
   "source": [
    "names.remove(\"Kuttu\")\n",
    "print(names)"
   ]
  },
  {
   "cell_type": "code",
   "execution_count": 98,
   "id": "926c4cef",
   "metadata": {},
   "outputs": [
    {
     "name": "stdout",
     "output_type": "stream",
     "text": [
      "['Ayush', 'Udit', 'Urvija', 'Suryansh', 'Dinesh']\n"
     ]
    }
   ],
   "source": [
    "del names[-1]\n",
    "print(names)"
   ]
  },
  {
   "cell_type": "code",
   "execution_count": 99,
   "id": "4347d925",
   "metadata": {},
   "outputs": [
    {
     "name": "stdout",
     "output_type": "stream",
     "text": [
      "['Ayush', 'Udit', 'Urvija', 'Suryansh']\n"
     ]
    }
   ],
   "source": [
    "names.pop()\n",
    "print(names)"
   ]
  },
  {
   "cell_type": "code",
   "execution_count": 100,
   "id": "9ebe59e7",
   "metadata": {},
   "outputs": [
    {
     "name": "stdout",
     "output_type": "stream",
     "text": [
      "Suryansh\n",
      "['Ayush', 'Udit', 'Urvija']\n"
     ]
    }
   ],
   "source": [
    "last_name = names.pop()\n",
    "print(last_name)\n",
    "print(names)"
   ]
  },
  {
   "cell_type": "markdown",
   "id": "d964e670",
   "metadata": {},
   "source": [
    "#### Tuple"
   ]
  },
  {
   "cell_type": "code",
   "execution_count": null,
   "id": "7b2308c8",
   "metadata": {},
   "outputs": [],
   "source": [
    "# 3 tuples in a list where each tuple has two items\n",
    "movies = [\n",
    "    (\"Saiyaara\", 2025),\n",
    "    (\"Maalik\", 2025),\n",
    "    (\"Mela\", 2000)\n",
    "]"
   ]
  },
  {
   "cell_type": "code",
   "execution_count": 103,
   "id": "0265712a",
   "metadata": {},
   "outputs": [
    {
     "name": "stdout",
     "output_type": "stream",
     "text": [
      "('Saiyaara', 2025)\n",
      "Saiyaara\n"
     ]
    }
   ],
   "source": [
    "# access\n",
    "print(movies[0])\n",
    "print(movies[0][0])"
   ]
  },
  {
   "cell_type": "markdown",
   "id": "1ebf549b",
   "metadata": {},
   "source": [
    "### Exercises\n",
    "\n",
    "1. Create a `movies` list containing a single tuple. The tuple should contain a movie title, the director’s name, the release year of the movie, and the movie’s budget.\n",
    "\n",
    "2. Use the `input` function to gather information about another movie. You need a title, director’s name, release year, and budget.\n",
    "\n",
    "3. Create a new tuple from the values you gathered using `input`. Make sure they’re in the same order as the tuple you wrote in the `movies` list.\n",
    "\n",
    "4. Use an **f-string** to print the movie name and release year by accessing your new movie tuple.\n",
    "\n",
    "5. Add the new movie tuple to the `movies` collection using `append`.\n",
    "\n",
    "6. Print both movies in the `movies` collection.\n",
    "\n",
    "7. Remove the first movie from `movies`. Use any method you like."
   ]
  },
  {
   "cell_type": "code",
   "execution_count": null,
   "id": "d7bdfbf9",
   "metadata": {},
   "outputs": [
    {
     "name": "stdout",
     "output_type": "stream",
     "text": [
      "1. List of movies created: [('Saiyaara', 'Mohit Suri', 2025, '50 Crores')]\n",
      "\n",
      "2. New movie input done\n",
      "\n",
      "3. New movie Tuple: new_movie: ('Ppagla', 'Udit Pathak', '2.15', '250000 Crore')\n",
      "\n",
      "Ppagla, 2.15\n",
      "\n",
      "4. printed movie name and release year\n",
      "\n",
      "5. List of movies updated: [('Saiyaara', 'Mohit Suri', 2025, '50 Crores'), ('Ppagla', 'Udit Pathak', '2.15', '250000 Crore')]\n",
      "\n",
      "Saiyaara, \n",
      "Ppagla\n",
      "\n",
      "6. Movie names printed\n",
      "\n",
      "7. List of movies after deletion: [('Ppagla', 'Udit Pathak', '2.15', '250000 Crore')]\n",
      "\n"
     ]
    }
   ],
   "source": [
    "# 1\n",
    "movies = [\n",
    "    (\n",
    "        \"Saiyaara\", \n",
    "        \"Mohit Suri\", \n",
    "        2025, \n",
    "        \"50 Crores\"\n",
    "    )\n",
    "]\n",
    "print(f\"1. List of movies created: {movies}\\n\")\n",
    "\n",
    "# 2\n",
    "movie_name = input(\"Enter name of a movie:\")\n",
    "movie_director_name = input(\"Enter director's name for the movie:\")\n",
    "movie_release_year = input(\"Enter release year of the movie:\")\n",
    "movie_budget = input(\"Enter budget of movie:\")\n",
    "print(f\"2. New movie input done\\n\")\n",
    "\n",
    "# 3\n",
    "new_movie = (movie_name, movie_director_name, movie_release_year, movie_budget)\n",
    "print(f\"3. New movie Tuple: new_movie: {new_movie}\\n\")\n",
    "\n",
    "# 4\n",
    "print(f\"{new_movie[0]}, {new_movie[2]}\\n\")\n",
    "print(\"4. printed movie name and release year\\n\")\n",
    "\n",
    "# 5\n",
    "movies.append(new_movie)\n",
    "print(f\"5. List of movies updated: {movies}\\n\")\n",
    "\n",
    "# 6\n",
    "print(f\"{movies[0][0]}, \\n{movies[1][0]}\\n\")\n",
    "print(f\"6. Movie names printed\\n\")\n",
    "\n",
    "# 7\n",
    "del movies[0] # or movies.pop(0) ro movies.remove(movies[0])\n",
    "\n",
    "print(f\"7. List of movies after deletion: {movies}\\n\")\n"
   ]
  },
  {
   "cell_type": "markdown",
   "id": "1bf4ceff",
   "metadata": {},
   "source": [
    "# Day 5\n",
    "\n",
    "### Conditionals & Booleans"
   ]
  },
  {
   "cell_type": "code",
   "execution_count": null,
   "id": "e99a9f95",
   "metadata": {},
   "outputs": [],
   "source": []
  },
  {
   "cell_type": "code",
   "execution_count": null,
   "id": "e8ccaea1",
   "metadata": {},
   "outputs": [],
   "source": []
  },
  {
   "cell_type": "code",
   "execution_count": null,
   "id": "71b6300b",
   "metadata": {},
   "outputs": [],
   "source": []
  },
  {
   "cell_type": "code",
   "execution_count": null,
   "id": "cf0264d7",
   "metadata": {},
   "outputs": [],
   "source": []
  },
  {
   "cell_type": "code",
   "execution_count": null,
   "id": "4ac64fe6",
   "metadata": {},
   "outputs": [],
   "source": []
  },
  {
   "cell_type": "code",
   "execution_count": null,
   "id": "32052b81",
   "metadata": {},
   "outputs": [],
   "source": []
  },
  {
   "cell_type": "code",
   "execution_count": null,
   "id": "ca1976dc",
   "metadata": {},
   "outputs": [],
   "source": []
  },
  {
   "cell_type": "code",
   "execution_count": null,
   "id": "bb17abcf",
   "metadata": {},
   "outputs": [],
   "source": []
  },
  {
   "cell_type": "code",
   "execution_count": null,
   "id": "46c5e1aa",
   "metadata": {},
   "outputs": [],
   "source": []
  },
  {
   "cell_type": "code",
   "execution_count": null,
   "id": "96d2febd",
   "metadata": {},
   "outputs": [],
   "source": []
  },
  {
   "cell_type": "code",
   "execution_count": null,
   "id": "66a84412",
   "metadata": {},
   "outputs": [],
   "source": []
  },
  {
   "cell_type": "code",
   "execution_count": null,
   "id": "6e1f0631",
   "metadata": {},
   "outputs": [],
   "source": []
  },
  {
   "cell_type": "code",
   "execution_count": null,
   "id": "777687cf",
   "metadata": {},
   "outputs": [],
   "source": []
  },
  {
   "cell_type": "code",
   "execution_count": null,
   "id": "11671159",
   "metadata": {},
   "outputs": [],
   "source": []
  },
  {
   "cell_type": "code",
   "execution_count": null,
   "id": "8340c808",
   "metadata": {},
   "outputs": [],
   "source": []
  }
 ],
 "metadata": {
  "kernelspec": {
   "display_name": "Python 3",
   "language": "python",
   "name": "python3"
  },
  "language_info": {
   "codemirror_mode": {
    "name": "ipython",
    "version": 3
   },
   "file_extension": ".py",
   "mimetype": "text/x-python",
   "name": "python",
   "nbconvert_exporter": "python",
   "pygments_lexer": "ipython3",
   "version": "3.13.6"
  }
 },
 "nbformat": 4,
 "nbformat_minor": 5
}
