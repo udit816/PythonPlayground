{
 "cells": [
  {
   "cell_type": "markdown",
   "id": "b9062156",
   "metadata": {},
   "source": [
    "# Day 1"
   ]
  },
  {
   "cell_type": "markdown",
   "id": "c68ff747",
   "metadata": {},
   "source": [
    "### The `print` function"
   ]
  },
  {
   "cell_type": "code",
   "execution_count": 3,
   "id": "957382e2-d365-4399-944d-374413f4110e",
   "metadata": {},
   "outputs": [
    {
     "name": "stdout",
     "output_type": "stream",
     "text": [
      "4.0\n",
      "4\n",
      "-21\n",
      "21.21\n"
     ]
    }
   ],
   "source": [
    "print(4.0)\n",
    "print(4)\n",
    "print(-21)\n",
    "print(21.21)"
   ]
  },
  {
   "cell_type": "markdown",
   "id": "91107290",
   "metadata": {},
   "source": [
    "### Expressions\n",
    "As it happens, every piece of code we’ve written so far is an expression, and there are many different types of expression in Python.\n",
    "\n",
    "For example, all the integers we've written are expressions. When Python sees each integer, it can use the value they represent.\n",
    "\n",
    "We're also about to see some simple arithmetic operations like 5 + 7, and those operations are expressions too. In the case of 5 + 7, when Python sees that, it evaluates the expression to another integer: 12.\n",
    "\n",
    "When we write print(), that is also a type of expression called a *function call expression.*\n",
    "\n",
    "Does that mean that print() has a value?\n",
    "\n",
    "Yes, it does.\n",
    "\n",
    "### Arithmetic Operators"
   ]
  },
  {
   "cell_type": "code",
   "execution_count": 6,
   "id": "6952060e",
   "metadata": {},
   "outputs": [
    {
     "name": "stdout",
     "output_type": "stream",
     "text": [
      "3\n",
      "14.4\n",
      "6.0\n"
     ]
    }
   ],
   "source": [
    "print(1 + 2)\n",
    "print(3.4 + 11)\n",
    "print(2.0 * 3)"
   ]
  },
  {
   "cell_type": "markdown",
   "id": "8af4ba07",
   "metadata": {},
   "source": [
    "### Exercises\n",
    "Now that we’ve been through the material for this post, here are a few exercises so that you can practice:\n",
    "\n",
    "1. Print your age to the console.\n",
    "2. Calculate and print the number of days, weeks, and months in 27 years. Don’t worry about leap years!\n",
    "3. Calculate and print the area of a circle with a radius of 5 units. You can be as accurate as you like with the value of pi."
   ]
  },
  {
   "cell_type": "code",
   "execution_count": 7,
   "id": "b699b311",
   "metadata": {},
   "outputs": [
    {
     "name": "stdout",
     "output_type": "stream",
     "text": [
      "33\n"
     ]
    }
   ],
   "source": [
    "print(33)"
   ]
  },
  {
   "cell_type": "code",
   "execution_count": 10,
   "id": "6ae84c67",
   "metadata": {},
   "outputs": [
    {
     "name": "stdout",
     "output_type": "stream",
     "text": [
      "9855\n",
      "1404\n",
      "324\n"
     ]
    }
   ],
   "source": [
    "# Calculate and print the number of days, weeks, and months in 27 years. Don’t worry about leap years!\n",
    "print(27 * 365)\n",
    "print(27 * 52)\n",
    "print(27 * 12)"
   ]
  },
  {
   "cell_type": "code",
   "execution_count": 1,
   "id": "b15f4b28",
   "metadata": {},
   "outputs": [
    {
     "name": "stdout",
     "output_type": "stream",
     "text": [
      "78.57142857142857\n",
      "78.57142857142857\n"
     ]
    }
   ],
   "source": [
    "# Calculate and print the area of a circle with a radius of 5 units. You can be as accurate as you like with the value of pi.\n",
    "print((22/7) * 5 * 5)\n",
    "\n",
    "print((22/7) * pow(5,2))"
   ]
  },
  {
   "cell_type": "markdown",
   "id": "cae2c7d2",
   "metadata": {},
   "source": [
    "# Day 2\n",
    "\n",
    "### String Basics"
   ]
  },
  {
   "cell_type": "code",
   "execution_count": 3,
   "id": "8878dcb6",
   "metadata": {},
   "outputs": [
    {
     "name": "stdout",
     "output_type": "stream",
     "text": [
      "Hello, world!\n"
     ]
    }
   ],
   "source": [
    "print(\"Hello, world!\")"
   ]
  },
  {
   "cell_type": "code",
   "execution_count": 4,
   "id": "0415fdc0",
   "metadata": {},
   "outputs": [],
   "source": [
    "name = \"Udit Pathak\"\n",
    "age = 32"
   ]
  },
  {
   "cell_type": "code",
   "execution_count": 6,
   "id": "c15dee94",
   "metadata": {},
   "outputs": [
    {
     "ename": "NameError",
     "evalue": "name 'GivenName' is not defined",
     "output_type": "error",
     "traceback": [
      "\u001b[31m---------------------------------------------------------------------------\u001b[39m",
      "\u001b[31mNameError\u001b[39m                                 Traceback (most recent call last)",
      "\u001b[36mCell\u001b[39m\u001b[36m \u001b[39m\u001b[32mIn[6]\u001b[39m\u001b[32m, line 1\u001b[39m\n\u001b[32m----> \u001b[39m\u001b[32m1\u001b[39m \u001b[43mGivenName\u001b[49m\n",
      "\u001b[31mNameError\u001b[39m: name 'GivenName' is not defined"
     ]
    }
   ],
   "source": [
    "GivenName"
   ]
  },
  {
   "cell_type": "markdown",
   "id": "f03d642b",
   "metadata": {},
   "source": [
    "### Getting values from the user"
   ]
  },
  {
   "cell_type": "code",
   "execution_count": 9,
   "id": "c2c62229",
   "metadata": {},
   "outputs": [],
   "source": [
    "name = input(\"Please enter your name: \")"
   ]
  },
  {
   "cell_type": "markdown",
   "id": "88294b58",
   "metadata": {},
   "source": [
    "### Exercises\n",
    "Now that we’ve covered how to use strings, variables, and the input function, it’s time to practice with some exercises.\n",
    "\n",
    "1. Ask the user for their name and age, assign theses values to two variables, and then print them.\n",
    "2. Investigate what happens when you try to assign a value to a variable that you’ve already defined. Try printing the variable before and after you reuse the name.\n",
    "3. Below you’ll find some code with a number of errors. Try to go through the program line by line and fix the issues in the code. I’d encourage you to try running the program while you’re working on it, as reading the error messages is great practice for debugging your own programs.\n",
    "\n",
    "```\n",
    "{\n",
    "    hourly_wage = input(\"Please enter your hourly wage: ')\n",
    "\n",
    "    prnt(\"Hourly wage: \")\n",
    "    print(hourlywage)\n",
    "    print(\"Hours worked: \")\n",
    "    print(hours_worked)\n",
    "\n",
    "    hours_worked = input(\"How many hours did you work this week? \")\n",
    "\n",
    "}\n",
    "```"
   ]
  },
  {
   "cell_type": "code",
   "execution_count": 10,
   "id": "c801fc0f",
   "metadata": {},
   "outputs": [],
   "source": [
    "# Ask the user for their name and age, assign theses values to two variables, and then print them.\n",
    "name = input(\"Enter your name: \")\n",
    "age = input(\"Enter your age: \")"
   ]
  },
  {
   "cell_type": "code",
   "execution_count": 11,
   "id": "beca1074",
   "metadata": {},
   "outputs": [
    {
     "name": "stdout",
     "output_type": "stream",
     "text": [
      "Udit, 32\n"
     ]
    }
   ],
   "source": [
    "print(name + ', ' + age)"
   ]
  },
  {
   "cell_type": "code",
   "execution_count": 13,
   "id": "7cdf7ac4",
   "metadata": {},
   "outputs": [
    {
     "name": "stdout",
     "output_type": "stream",
     "text": [
      "45\n"
     ]
    }
   ],
   "source": [
    "# Investigate what happens when you try to assign a value to a variable that you’ve already defined. Try printing the variable before and after you reuse the name.\n",
    "age = 45\n",
    "print(age)"
   ]
  },
  {
   "cell_type": "code",
   "execution_count": null,
   "id": "82a1ada6",
   "metadata": {},
   "outputs": [],
   "source": [
    "'''\n",
    "Below you’ll find some code with a number of errors. Try to go through the program line by line and fix the issues in the code. I’d encourage you to try running the program while you’re working on it, as reading the error messages is great practice for debugging your own programs.\n",
    "hourly_wage = input(\"Please enter your hourly wage: ')\n",
    "\n",
    "print(\"Hourly wage: \")\n",
    "print(hourlywage)\n",
    "print(\"Hours worked: \")\n",
    "print(hours_worked)\n",
    "\n",
    "hours_worked = input(\"How many hours did you work this week? \")\n",
    "'''\n",
    "\n"
   ]
  },
  {
   "cell_type": "code",
   "execution_count": 14,
   "id": "01d03188",
   "metadata": {},
   "outputs": [
    {
     "ename": "SyntaxError",
     "evalue": "unterminated string literal (detected at line 1) (1149776034.py, line 1)",
     "output_type": "error",
     "traceback": [
      "  \u001b[36mCell\u001b[39m\u001b[36m \u001b[39m\u001b[32mIn[14]\u001b[39m\u001b[32m, line 1\u001b[39m\n\u001b[31m    \u001b[39m\u001b[31mhourly_wage = input(\"Please enter your hourly wage: ')\u001b[39m\n                        ^\n\u001b[31mSyntaxError\u001b[39m\u001b[31m:\u001b[39m unterminated string literal (detected at line 1)\n"
     ]
    }
   ],
   "source": [
    "hourly_wage = input(\"Please enter your hourly wage: ')"
   ]
  },
  {
   "cell_type": "code",
   "execution_count": 15,
   "id": "3cc173b8",
   "metadata": {},
   "outputs": [
    {
     "ename": "NameError",
     "evalue": "name 'prnt' is not defined",
     "output_type": "error",
     "traceback": [
      "\u001b[31m---------------------------------------------------------------------------\u001b[39m",
      "\u001b[31mNameError\u001b[39m                                 Traceback (most recent call last)",
      "\u001b[36mCell\u001b[39m\u001b[36m \u001b[39m\u001b[32mIn[15]\u001b[39m\u001b[32m, line 1\u001b[39m\n\u001b[32m----> \u001b[39m\u001b[32m1\u001b[39m \u001b[43mprnt\u001b[49m(\u001b[33m\"\u001b[39m\u001b[33mHourly wage: \u001b[39m\u001b[33m\"\u001b[39m)\n",
      "\u001b[31mNameError\u001b[39m: name 'prnt' is not defined"
     ]
    }
   ],
   "source": [
    "prnt(\"Hourly wage: \")"
   ]
  },
  {
   "cell_type": "code",
   "execution_count": 16,
   "id": "52c94c7d",
   "metadata": {},
   "outputs": [
    {
     "ename": "NameError",
     "evalue": "name 'hourlywage' is not defined",
     "output_type": "error",
     "traceback": [
      "\u001b[31m---------------------------------------------------------------------------\u001b[39m",
      "\u001b[31mNameError\u001b[39m                                 Traceback (most recent call last)",
      "\u001b[36mCell\u001b[39m\u001b[36m \u001b[39m\u001b[32mIn[16]\u001b[39m\u001b[32m, line 1\u001b[39m\n\u001b[32m----> \u001b[39m\u001b[32m1\u001b[39m \u001b[38;5;28mprint\u001b[39m(\u001b[43mhourlywage\u001b[49m)\n",
      "\u001b[31mNameError\u001b[39m: name 'hourlywage' is not defined"
     ]
    }
   ],
   "source": [
    "print(hourlywage)"
   ]
  },
  {
   "cell_type": "code",
   "execution_count": 17,
   "id": "dbffc178",
   "metadata": {},
   "outputs": [
    {
     "name": "stdout",
     "output_type": "stream",
     "text": [
      "Hours worked: \n"
     ]
    }
   ],
   "source": [
    "print(\"Hours worked: \")\n"
   ]
  },
  {
   "cell_type": "code",
   "execution_count": 18,
   "id": "e383bed1",
   "metadata": {},
   "outputs": [],
   "source": [
    "hours_worked = input(\"How many hours did you work this week? \")"
   ]
  },
  {
   "cell_type": "markdown",
   "id": "24eaef16",
   "metadata": {},
   "source": [
    "# Day 3\n",
    "\n",
    "### String Concatenation"
   ]
  },
  {
   "cell_type": "code",
   "execution_count": 20,
   "id": "3161bc7c",
   "metadata": {},
   "outputs": [
    {
     "name": "stdout",
     "output_type": "stream",
     "text": [
      "Hourly wage: 10000\n",
      "Hours worked: 100\n"
     ]
    }
   ],
   "source": [
    "hourly_wage = input(\"Please enter your hourly wage: \")\n",
    "hours_worked = input(\"How many hours did you work this week? \")\n",
    "\n",
    "print(\"Hourly wage: \" + hourly_wage)\n",
    "print(\"Hours worked: \" + hours_worked)"
   ]
  },
  {
   "cell_type": "markdown",
   "id": "40a45197",
   "metadata": {},
   "source": [
    "### Converting strings, integers, and floats"
   ]
  },
  {
   "cell_type": "code",
   "execution_count": 22,
   "id": "0f60b3e2",
   "metadata": {},
   "outputs": [
    {
     "name": "stdout",
     "output_type": "stream",
     "text": [
      "32\n"
     ]
    }
   ],
   "source": [
    "age = str(32)\n",
    "print(age)"
   ]
  },
  {
   "cell_type": "code",
   "execution_count": 24,
   "id": "410563a5",
   "metadata": {},
   "outputs": [
    {
     "name": "stdout",
     "output_type": "stream",
     "text": [
      "28\n"
     ]
    }
   ],
   "source": [
    "age = int(\"28\")\n",
    "print(age)"
   ]
  },
  {
   "cell_type": "code",
   "execution_count": 25,
   "id": "1245f983",
   "metadata": {},
   "outputs": [
    {
     "ename": "ValueError",
     "evalue": "invalid literal for int() with base 10: '118.25'",
     "output_type": "error",
     "traceback": [
      "\u001b[31m---------------------------------------------------------------------------\u001b[39m",
      "\u001b[31mValueError\u001b[39m                                Traceback (most recent call last)",
      "\u001b[36mCell\u001b[39m\u001b[36m \u001b[39m\u001b[32mIn[25]\u001b[39m\u001b[32m, line 1\u001b[39m\n\u001b[32m----> \u001b[39m\u001b[32m1\u001b[39m hourly_wage = \u001b[38;5;28;43mint\u001b[39;49m\u001b[43m(\u001b[49m\u001b[33;43m\"\u001b[39;49m\u001b[33;43m118.25\u001b[39;49m\u001b[33;43m\"\u001b[39;49m\u001b[43m)\u001b[49m\n",
      "\u001b[31mValueError\u001b[39m: invalid literal for int() with base 10: '118.25'"
     ]
    }
   ],
   "source": [
    "hourly_wage = int(\"118.25\")"
   ]
  },
  {
   "cell_type": "code",
   "execution_count": 26,
   "id": "32ebabf9",
   "metadata": {},
   "outputs": [
    {
     "name": "stdout",
     "output_type": "stream",
     "text": [
      "118.19\n"
     ]
    }
   ],
   "source": [
    "# Instead of int, we’d need to call float here instead:\n",
    "hourly_wage = float(\"118.19\")\n",
    "print(hourly_wage)"
   ]
  },
  {
   "cell_type": "markdown",
   "id": "d72110a3",
   "metadata": {},
   "source": [
    "### String interpolation with the `format` method"
   ]
  },
  {
   "cell_type": "code",
   "execution_count": 27,
   "id": "e4f80a44",
   "metadata": {},
   "outputs": [
    {
     "data": {
      "text/plain": [
       "'{} is {} years old'"
      ]
     },
     "execution_count": 27,
     "metadata": {},
     "output_type": "execute_result"
    }
   ],
   "source": [
    "# When using the format method, the placeholders for our values are curly braces, which look like this: {}. \n",
    "# For example, let’s say we want to write a string like:\n",
    "\n",
    "\"John is 24 years old.\"\n",
    "\"{} is {} years old\""
   ]
  },
  {
   "cell_type": "code",
   "execution_count": 28,
   "id": "c0b699d5",
   "metadata": {},
   "outputs": [
    {
     "data": {
      "text/plain": [
       "'John is 24 years old'"
      ]
     },
     "execution_count": 28,
     "metadata": {},
     "output_type": "execute_result"
    }
   ],
   "source": [
    "\"{} is {} years old\".format(\"John\", 24)"
   ]
  },
  {
   "cell_type": "code",
   "execution_count": 29,
   "id": "4cb5b0a2",
   "metadata": {},
   "outputs": [
    {
     "data": {
      "text/plain": [
       "'John is 24 years old, and John works as a web developer'"
      ]
     },
     "execution_count": 29,
     "metadata": {},
     "output_type": "execute_result"
    }
   ],
   "source": [
    "\"John is 24 years old, and John works as a web developer\""
   ]
  },
  {
   "cell_type": "code",
   "execution_count": 30,
   "id": "8fe4ac36",
   "metadata": {},
   "outputs": [
    {
     "name": "stdout",
     "output_type": "stream",
     "text": [
      "John is 24 years old, and John works as a web developer.\n"
     ]
    }
   ],
   "source": [
    "output = \"{} is {} years old, and {} works as a {}.\"\n",
    "print(output.format(\"John\", 24, \"John\", \"web developer\"))"
   ]
  },
  {
   "cell_type": "code",
   "execution_count": 33,
   "id": "0f2029ea",
   "metadata": {},
   "outputs": [
    {
     "name": "stdout",
     "output_type": "stream",
     "text": [
      "John is 24 years old, and John works as a web developer.\n",
      "John is 24 years old, and John works as a web developer.\n",
      "John is 24 years old, and John works as a web developer.\n",
      "John is 24 years old, and John works as a web developer.\n"
     ]
    }
   ],
   "source": [
    "name = \"John\"\n",
    "age = 24\n",
    "position = \"web developer\"\n",
    "output = \"{} is {} years old, and {} works as a {}.\"\n",
    "print(output.format(\"John\", 24, \"John\", \"web developer\")) # method 1\n",
    "\n",
    "print(output.format(name, age, name, position)) # method 2\n",
    "\n",
    "output = \"{0} is {1} years old, and {0} works as a {2}.\"\n",
    "print(output.format(\"John\", 24, \"web developer\")) # method3\n",
    "\n",
    "output = \"{name} is {age} years old, and {name} works as a {position}.\"\n",
    "print(output.format(name = \"John\", age = 24, position = \"web developer\")) # method4"
   ]
  },
  {
   "cell_type": "markdown",
   "id": "64ab410d",
   "metadata": {},
   "source": [
    "### String interpolation with f-strings"
   ]
  },
  {
   "cell_type": "code",
   "execution_count": null,
   "id": "b54b935c",
   "metadata": {},
   "outputs": [
    {
     "data": {
      "text/plain": [
       "'John is 24 years old!'"
      ]
     },
     "execution_count": 38,
     "metadata": {},
     "output_type": "execute_result"
    }
   ],
   "source": [
    "name = \"John\"\n",
    "age = 24\n",
    "\"{} is {} years old!\".format(name, age)"
   ]
  },
  {
   "cell_type": "code",
   "execution_count": null,
   "id": "af0d882c",
   "metadata": {},
   "outputs": [
    {
     "data": {
      "text/plain": [
       "'John is 24 years old!'"
      ]
     },
     "execution_count": 39,
     "metadata": {},
     "output_type": "execute_result"
    }
   ],
   "source": [
    "# using f-strings\n",
    "f\"{name} is {age} years old!\" # also an expression"
   ]
  },
  {
   "cell_type": "code",
   "execution_count": 40,
   "id": "3c75f87a",
   "metadata": {},
   "outputs": [
    {
     "name": "stdout",
     "output_type": "stream",
     "text": [
      "John is 288 months old!\n"
     ]
    }
   ],
   "source": [
    "print(f\"{name} is {age * 12} months old!\")"
   ]
  },
  {
   "cell_type": "markdown",
   "id": "99549f77",
   "metadata": {},
   "source": [
    "### Basic String Processing"
   ]
  },
  {
   "cell_type": "code",
   "execution_count": 50,
   "id": "cafa3772",
   "metadata": {},
   "outputs": [
    {
     "name": "stdout",
     "output_type": "stream",
     "text": [
      "Hello world!!\n",
      "hello world!!\n",
      "HELLO WORLD!!\n",
      "Hello World!!\n",
      "Hello world!!\n",
      "Hello world!!\n",
      "Hello world!!\n",
      "Hello world!!\n",
      "Hello world!!\n",
      "Hello world!!\n",
      "Hello world!!\n"
     ]
    }
   ],
   "source": [
    "print(\"Hello world!!\".capitalize())\n",
    "print(\"Hello world!!\".lower())\n",
    "print(\"Hello world!!\".upper())\n",
    "print(\"Hello world!!\".title())\n",
    "print(\"Hello world!!   \".strip())\n",
    "print(\"Hello world!!\")\n",
    "print(\"Hello world!!\")\n",
    "print(\"Hello world!!\")\n",
    "print(\"Hello world!!\")\n",
    "print(\"Hello world!!\")\n",
    "print(\"Hello world!!\")"
   ]
  },
  {
   "cell_type": "markdown",
   "id": "4b7e6f60",
   "metadata": {},
   "source": [
    "### Exercises\n",
    "1. Using the variable below, print `\"Hello, world!\".`\n",
    "\n",
    "`greeting = \"Hello, world\"`\n",
    "\n",
    "You can add the missing exclamation mark using string concatenation, format, or f-strings. The choice is yours.\n",
    "\n",
    "2. Ask the user for their name, and then greet the user, using their name as part of the greeting. The name should be in title case, and shouldn't be surrounded by any excess white space.\n",
    "\n",
    "For example, if the user enters `\"lewis \"`, your output should be something like this:\n",
    "\n",
    "`Hello, Lewis!`\n",
    "\n",
    "3. Concatenate the string `\"I am \"` and the integer `29` to produce a string which reads \n",
    "\n",
    "`\"I am 29\".`\n",
    "\n",
    "Remember that we can only concatenate strings to other strings, so you will have to convert the integer to a string before you can perform the concatenation.\n",
    "\n",
    "4. Format and print the information below using string interpolation:\n",
    "\n",
    "`title = \"Joker\"`\n",
    "\n",
    "`director = \"Todd Phillips\"`\n",
    "\n",
    "`release_year = 2019`\n",
    "\n",
    "The output should look like this:\n",
    "\n",
    "`Joker (2019), directed by Todd Phillips`\n",
    "\n",
    "You can add the missing exclamation mark using string concatenation, format, or f-strings. The choice is yours.\n",
    "\n",
    "https://teclado.com/30-days-of-python/python-30-day-3-string-formatting/"
   ]
  },
  {
   "cell_type": "code",
   "execution_count": 53,
   "id": "ada98a9c",
   "metadata": {},
   "outputs": [
    {
     "name": "stdout",
     "output_type": "stream",
     "text": [
      "Hello, world!\n"
     ]
    }
   ],
   "source": [
    "# 1\n",
    "greeting = \"Hello, world\"\n",
    "print(f\"{greeting}!\")"
   ]
  },
  {
   "cell_type": "code",
   "execution_count": 54,
   "id": "4a03d64e",
   "metadata": {},
   "outputs": [
    {
     "name": "stdout",
     "output_type": "stream",
     "text": [
      "Hello, Udit Pathak Kumar Shashwat!\n"
     ]
    }
   ],
   "source": [
    "# 2\n",
    "name = input(\"Please enter your name: \")\n",
    "print(f\"Hello, {name.strip().title()}!\")"
   ]
  },
  {
   "cell_type": "code",
   "execution_count": 57,
   "id": "16592d53",
   "metadata": {},
   "outputs": [
    {
     "name": "stdout",
     "output_type": "stream",
     "text": [
      "I am 29.\n"
     ]
    }
   ],
   "source": [
    "# 3\n",
    "print(f\"I am {str(29)}.\")"
   ]
  },
  {
   "cell_type": "code",
   "execution_count": 59,
   "id": "e432b74a",
   "metadata": {},
   "outputs": [
    {
     "name": "stdout",
     "output_type": "stream",
     "text": [
      "Joker (2019), directed by Todd Phillips\n"
     ]
    }
   ],
   "source": [
    "# 4\n",
    "title = \"Joker\"\n",
    "director = \"Todd Phillips\"\n",
    "release_year = 2019\n",
    "\n",
    "print(f\"{title} ({release_year}), directed by {director}\") # Joker (2019), directed by Todd Phillips"
   ]
  },
  {
   "cell_type": "markdown",
   "id": "66ac1613",
   "metadata": {},
   "source": [
    "### A Simple Earnings Calculator\n",
    "#### The brief\n",
    "Our application should work as follows:\n",
    "\n",
    "The user should be given three prompts where they'll be asked to provide different information about an employee. \n",
    "\n",
    "One prompt should ask for the employee's name, another should ask for their hourly wage, and the final one should ask how many hours the employee worked this week.\n",
    "\n",
    "The employee name should be processed to ensure that it's in a particular format. \n",
    "All employee names should be stripped of any excess white space, and should be in title case. \n",
    "\n",
    "This means that each word is capitalised with all other letters being lowercase. For example, if the employer accidentally has caps lock on and they write `\"rEGINA gEORGE\"`, the name will still be correctly stored as `\"Regina George\"`.\n",
    "\n",
    "The employee's total earnings for the week should be calculated by multiplying the hours worked by their hourly wage.\n",
    "\n",
    "Remember that any user input we receive is going to be a string. While we can multiply strings, it won't quite do what you want in this case. It's also worth keeping in mind that the employee's wage, or the numbers of hours they worked, might not be a whole number.\n",
    "\n",
    "After processing the employee's name and calculating their earnings for the week, the program should output this information as a single string. For example, output like this would be appropriate:\n",
    "\n",
    "`Regina George earned $800 this week.`"
   ]
  },
  {
   "cell_type": "code",
   "execution_count": 65,
   "id": "7218b6f2",
   "metadata": {},
   "outputs": [
    {
     "name": "stdout",
     "output_type": "stream",
     "text": [
      "Udit earned $50000.00 this week.\n"
     ]
    }
   ],
   "source": [
    "employee_name = input(\"Please enter your name: \")\n",
    "hourly_wages = input(\"Please enter your wages per hour? \")\n",
    "worked_hours = input(\"Please enter how many hours you worked: \")\n",
    "\n",
    "print(f\"{employee_name.strip().title()} earned ${(float(hourly_wages)*float(worked_hours)):.2f} this week.\")"
   ]
  },
  {
   "cell_type": "markdown",
   "id": "d06be751",
   "metadata": {},
   "source": [
    "# Day 4\n",
    "\n",
    "### Basic Python Collections\n",
    "\n",
    "#### List"
   ]
  },
  {
   "cell_type": "code",
   "execution_count": 87,
   "id": "54c7a7fb",
   "metadata": {},
   "outputs": [],
   "source": [
    "names = [\"Ayush\", \"Udit\", \"Urvija\", \"Suryansh\", \"Dinesh\"]"
   ]
  },
  {
   "cell_type": "code",
   "execution_count": 88,
   "id": "3bb4dc7d",
   "metadata": {},
   "outputs": [],
   "source": [
    "movies = [\n",
    "    \"Saiyaara\",\n",
    "    \"Tu Jhooti Main Makkar\",\n",
    "    \"Ye Saali Zindagi\",\n",
    "    \"The Secret Life of Jajantaram Mamantaram\"\n",
    "]"
   ]
  },
  {
   "cell_type": "code",
   "execution_count": 89,
   "id": "09f00152",
   "metadata": {},
   "outputs": [],
   "source": [
    "ayushi_details = [\n",
    "    \"Shukla Pathak\", \n",
    "    \"Udit Pathak\", \n",
    "    29, \n",
    "    \"Vendor Consultant\", \n",
    "    [\n",
    "        \"Singing\", \n",
    "        \"Daancing\", \n",
    "        \"Cooking\"\n",
    "        ]\n",
    "]"
   ]
  },
  {
   "cell_type": "code",
   "execution_count": 90,
   "id": "4c589ce5",
   "metadata": {},
   "outputs": [
    {
     "name": "stdout",
     "output_type": "stream",
     "text": [
      "['Shukla Pathak', 'Udit Pathak', 29, 'Vendor Consultant', ['Singing', 'Daancing', 'Cooking']]\n",
      "Ayush Shukla Pathak\n",
      "Dinesh\n"
     ]
    }
   ],
   "source": [
    "print(ayushi_details)\n",
    "\n",
    "print(names[0], ayushi_details[0])\n",
    "\n",
    "print(names[-1])"
   ]
  },
  {
   "cell_type": "code",
   "execution_count": 91,
   "id": "543ce4f8",
   "metadata": {},
   "outputs": [],
   "source": [
    "names.append(\"Kuttu\")\n"
   ]
  },
  {
   "cell_type": "code",
   "execution_count": 92,
   "id": "f8f8dbe1",
   "metadata": {},
   "outputs": [
    {
     "name": "stdout",
     "output_type": "stream",
     "text": [
      "['Ayush', 'Udit', 'Urvija', 'Suryansh', 'Dinesh', 'Kuttu']\n"
     ]
    }
   ],
   "source": [
    "print(names)"
   ]
  },
  {
   "cell_type": "code",
   "execution_count": 93,
   "id": "74f013e4",
   "metadata": {},
   "outputs": [],
   "source": [
    "names = names + [\"Muttu\"]"
   ]
  },
  {
   "cell_type": "code",
   "execution_count": 94,
   "id": "59d56a64",
   "metadata": {},
   "outputs": [
    {
     "name": "stdout",
     "output_type": "stream",
     "text": [
      "['Ayush', 'Udit', 'Urvija', 'Suryansh', 'Dinesh', 'Kuttu', 'Muttu']\n"
     ]
    }
   ],
   "source": [
    "print(names)"
   ]
  },
  {
   "cell_type": "code",
   "execution_count": 95,
   "id": "08f6c44c",
   "metadata": {},
   "outputs": [
    {
     "name": "stdout",
     "output_type": "stream",
     "text": [
      "[1, 2, 3, 4, 5]\n"
     ]
    }
   ],
   "source": [
    "num = [1, 2, 4, 5]\n",
    "num.insert(2, 3)\n",
    "print(num)"
   ]
  },
  {
   "cell_type": "code",
   "execution_count": 97,
   "id": "f4f10195",
   "metadata": {},
   "outputs": [
    {
     "name": "stdout",
     "output_type": "stream",
     "text": [
      "['Ayush', 'Udit', 'Urvija', 'Suryansh', 'Dinesh', 'Muttu']\n"
     ]
    }
   ],
   "source": [
    "names.remove(\"Kuttu\")\n",
    "print(names)"
   ]
  },
  {
   "cell_type": "code",
   "execution_count": 98,
   "id": "926c4cef",
   "metadata": {},
   "outputs": [
    {
     "name": "stdout",
     "output_type": "stream",
     "text": [
      "['Ayush', 'Udit', 'Urvija', 'Suryansh', 'Dinesh']\n"
     ]
    }
   ],
   "source": [
    "del names[-1]\n",
    "print(names)"
   ]
  },
  {
   "cell_type": "code",
   "execution_count": 99,
   "id": "4347d925",
   "metadata": {},
   "outputs": [
    {
     "name": "stdout",
     "output_type": "stream",
     "text": [
      "['Ayush', 'Udit', 'Urvija', 'Suryansh']\n"
     ]
    }
   ],
   "source": [
    "names.pop()\n",
    "print(names)"
   ]
  },
  {
   "cell_type": "code",
   "execution_count": 100,
   "id": "9ebe59e7",
   "metadata": {},
   "outputs": [
    {
     "name": "stdout",
     "output_type": "stream",
     "text": [
      "Suryansh\n",
      "['Ayush', 'Udit', 'Urvija']\n"
     ]
    }
   ],
   "source": [
    "last_name = names.pop()\n",
    "print(last_name)\n",
    "print(names)"
   ]
  },
  {
   "cell_type": "markdown",
   "id": "d964e670",
   "metadata": {},
   "source": [
    "#### Tuple"
   ]
  },
  {
   "cell_type": "code",
   "execution_count": null,
   "id": "7b2308c8",
   "metadata": {},
   "outputs": [],
   "source": [
    "# 3 tuples in a list where each tuple has two items\n",
    "movies = [\n",
    "    (\"Saiyaara\", 2025),\n",
    "    (\"Maalik\", 2025),\n",
    "    (\"Mela\", 2000)\n",
    "]"
   ]
  },
  {
   "cell_type": "code",
   "execution_count": 103,
   "id": "0265712a",
   "metadata": {},
   "outputs": [
    {
     "name": "stdout",
     "output_type": "stream",
     "text": [
      "('Saiyaara', 2025)\n",
      "Saiyaara\n"
     ]
    }
   ],
   "source": [
    "# access\n",
    "print(movies[0])\n",
    "print(movies[0][0])"
   ]
  },
  {
   "cell_type": "markdown",
   "id": "1ebf549b",
   "metadata": {},
   "source": [
    "### Exercises\n",
    "\n",
    "1. Create a `movies` list containing a single tuple. The tuple should contain a movie title, the director’s name, the release year of the movie, and the movie’s budget.\n",
    "\n",
    "2. Use the `input` function to gather information about another movie. You need a title, director’s name, release year, and budget.\n",
    "\n",
    "3. Create a new tuple from the values you gathered using `input`. Make sure they’re in the same order as the tuple you wrote in the `movies` list.\n",
    "\n",
    "4. Use an **f-string** to print the movie name and release year by accessing your new movie tuple.\n",
    "\n",
    "5. Add the new movie tuple to the `movies` collection using `append`.\n",
    "\n",
    "6. Print both movies in the `movies` collection.\n",
    "\n",
    "7. Remove the first movie from `movies`. Use any method you like."
   ]
  },
  {
   "cell_type": "code",
   "execution_count": null,
   "id": "d7bdfbf9",
   "metadata": {},
   "outputs": [
    {
     "name": "stdout",
     "output_type": "stream",
     "text": [
      "1. List of movies created: [('Saiyaara', 'Mohit Suri', 2025, '50 Crores')]\n",
      "\n",
      "2. New movie input done\n",
      "\n",
      "3. New movie Tuple: new_movie: ('Ppagla', 'Udit Pathak', '2.15', '250000 Crore')\n",
      "\n",
      "Ppagla, 2.15\n",
      "\n",
      "4. printed movie name and release year\n",
      "\n",
      "5. List of movies updated: [('Saiyaara', 'Mohit Suri', 2025, '50 Crores'), ('Ppagla', 'Udit Pathak', '2.15', '250000 Crore')]\n",
      "\n",
      "Saiyaara, \n",
      "Ppagla\n",
      "\n",
      "6. Movie names printed\n",
      "\n",
      "7. List of movies after deletion: [('Ppagla', 'Udit Pathak', '2.15', '250000 Crore')]\n",
      "\n"
     ]
    }
   ],
   "source": [
    "# 1\n",
    "movies = [\n",
    "    (\n",
    "        \"Saiyaara\", \n",
    "        \"Mohit Suri\", \n",
    "        2025, \n",
    "        \"50 Crores\"\n",
    "    )\n",
    "]\n",
    "print(f\"1. List of movies created: {movies}\\n\")\n",
    "\n",
    "# 2\n",
    "movie_name = input(\"Enter name of a movie:\")\n",
    "movie_director_name = input(\"Enter director's name for the movie:\")\n",
    "movie_release_year = input(\"Enter release year of the movie:\")\n",
    "movie_budget = input(\"Enter budget of movie:\")\n",
    "print(f\"2. New movie input done\\n\")\n",
    "\n",
    "# 3\n",
    "new_movie = (movie_name, movie_director_name, movie_release_year, movie_budget)\n",
    "print(f\"3. New movie Tuple: new_movie: {new_movie}\\n\")\n",
    "\n",
    "# 4\n",
    "print(f\"{new_movie[0]}, {new_movie[2]}\\n\")\n",
    "print(\"4. printed movie name and release year\\n\")\n",
    "\n",
    "# 5\n",
    "movies.append(new_movie)\n",
    "print(f\"5. List of movies updated: {movies}\\n\")\n",
    "\n",
    "# 6\n",
    "print(f\"{movies[0][0]}, \\n{movies[1][0]}\\n\")\n",
    "print(f\"6. Movie names printed\\n\")\n",
    "\n",
    "# 7\n",
    "del movies[0] # or movies.pop(0) ro movies.remove(movies[0])\n",
    "\n",
    "print(f\"7. List of movies after deletion: {movies}\\n\")\n"
   ]
  },
  {
   "cell_type": "markdown",
   "id": "1bf4ceff",
   "metadata": {},
   "source": [
    "# Day 5\n",
    "\n",
    "### Conditionals & Booleans"
   ]
  },
  {
   "cell_type": "code",
   "execution_count": 2,
   "id": "e99a9f95",
   "metadata": {},
   "outputs": [
    {
     "name": "stdout",
     "output_type": "stream",
     "text": [
      "False\n",
      "True\n",
      "True\n",
      "False\n",
      "False\n"
     ]
    }
   ],
   "source": [
    "print(bool(0))\n",
    "print(bool(1))\n",
    "print(bool(\"Udit\"))\n",
    "print(bool([]))\n",
    "print(bool(''))"
   ]
  },
  {
   "cell_type": "code",
   "execution_count": 3,
   "id": "e8ccaea1",
   "metadata": {},
   "outputs": [
    {
     "name": "stdout",
     "output_type": "stream",
     "text": [
      "False\n",
      "True\n",
      "True\n",
      "False\n",
      "True\n"
     ]
    }
   ],
   "source": [
    "print(bool(5 > 10))\n",
    "print(bool(5 >= 5))\n",
    "print(bool(-2 > -100))\n",
    "print(bool(\"A\" > \"a\"))\n",
    "print(bool(5.0 > 3.25))"
   ]
  },
  {
   "cell_type": "code",
   "execution_count": 4,
   "id": "71b6300b",
   "metadata": {},
   "outputs": [
    {
     "name": "stdout",
     "output_type": "stream",
     "text": [
      "False\n",
      "True\n",
      "True\n",
      "False\n",
      "True\n"
     ]
    }
   ],
   "source": [
    "print(0 == \"0\")                # False\n",
    "print(0 == 0)                  # True\n",
    "print(7 == 7.0)                # True\n",
    "print(\"Hello\" == \"Hello!\")     # False\n",
    "print([1, 2, 3] == [1, 2, 3])  # True"
   ]
  },
  {
   "cell_type": "code",
   "execution_count": 5,
   "id": "cf0264d7",
   "metadata": {},
   "outputs": [
    {
     "name": "stdout",
     "output_type": "stream",
     "text": [
      "True\n",
      "False\n",
      "True\n"
     ]
    }
   ],
   "source": [
    "print(0 != \"0\")         # True\n",
    "print(0 != 0)           # False\n",
    "print(\"Hello\" != \"Hi\")  # True"
   ]
  },
  {
   "cell_type": "code",
   "execution_count": 6,
   "id": "4ac64fe6",
   "metadata": {},
   "outputs": [
    {
     "name": "stdout",
     "output_type": "stream",
     "text": [
      "True\n",
      "False\n"
     ]
    }
   ],
   "source": [
    "a = [1, 2, 3]\n",
    "b = [1, 2, 3]\n",
    "\n",
    "print(a == b)  # True\n",
    "print(a is b)  # False"
   ]
  },
  {
   "cell_type": "code",
   "execution_count": 7,
   "id": "32052b81",
   "metadata": {},
   "outputs": [
    {
     "name": "stdout",
     "output_type": "stream",
     "text": [
      "2719462468224\n",
      "2719463952640\n",
      "True\n",
      "False\n"
     ]
    }
   ],
   "source": [
    "a = [1, 2, 3]\n",
    "b = [1, 2, 3]\n",
    "\n",
    "print(id(a))  # 139806639351360\n",
    "print(id(b))  # 139806638418944\n",
    "\n",
    "print(a == b)  # True\n",
    "print(a is b)  # False\n"
   ]
  },
  {
   "cell_type": "code",
   "execution_count": 8,
   "id": "ca1976dc",
   "metadata": {},
   "outputs": [
    {
     "name": "stdout",
     "output_type": "stream",
     "text": [
      "2719463791104\n",
      "2719463791104\n",
      "True\n",
      "True\n"
     ]
    }
   ],
   "source": [
    "a = [1, 2, 3]\n",
    "b = a\n",
    "\n",
    "print(id(a))  # 139685763327296\n",
    "print(id(b))  # 139685763327296\n",
    "\n",
    "print(a == b)  # True\n",
    "print(a is b)  # True\n"
   ]
  },
  {
   "cell_type": "code",
   "execution_count": null,
   "id": "bb17abcf",
   "metadata": {},
   "outputs": [],
   "source": [
    "# Comparison operators are always lower priority than arithmetic operators.\n",
    "# For example, if we write an expression like this:\n",
    "5 + 4 < 3 * 2\n",
    "(5 + 4) < (3 * 2)\n",
    "9 < 6  # False"
   ]
  },
  {
   "cell_type": "markdown",
   "id": "2ce6d336",
   "metadata": {},
   "source": [
    "### Conditional Statements"
   ]
  },
  {
   "cell_type": "code",
   "execution_count": 13,
   "id": "46c5e1aa",
   "metadata": {},
   "outputs": [],
   "source": [
    "age = int(input(\"How old are you? \"))\n",
    "if age < 18:\n",
    "    print(\"Sorry, we can't serve you\")\n",
    "else:\n",
    "    chosen_drink = input(\"What can I get for you? \")"
   ]
  },
  {
   "cell_type": "code",
   "execution_count": 14,
   "id": "96d2febd",
   "metadata": {},
   "outputs": [
    {
     "name": "stdout",
     "output_type": "stream",
     "text": [
      "You must pay the standard rate of $1.5.\n"
     ]
    }
   ],
   "source": [
    "# elif\n",
    "\n",
    "age = int(input(\"How old are you? \"))\n",
    "if age < 16:\n",
    "    print(\"You are eligible for a child rate of 80p.\")\n",
    "elif age >=60:\n",
    "    print(\"You are eligible for OAP rate of $1.\")\n",
    "else:\n",
    "    print(\"You must pay the standard rate of $1.5.\")"
   ]
  },
  {
   "cell_type": "code",
   "execution_count": 16,
   "id": "66a84412",
   "metadata": {},
   "outputs": [
    {
     "name": "stdout",
     "output_type": "stream",
     "text": [
      "You did not type anything.\n"
     ]
    }
   ],
   "source": [
    "name = input(\"Please enter your name: \")\n",
    "\n",
    "if name: # checks the truth value of name by calling bool\n",
    "    print(f\"Your entered name: {name}\")\n",
    "else:\n",
    "    print(\"You did not type anything.\")"
   ]
  },
  {
   "cell_type": "markdown",
   "id": "beef2923",
   "metadata": {},
   "source": [
    "### Exercises\n",
    "\n",
    "1) Try to approximate the behaviour of the `is` operator using `==`. Remember we have the `id` function for finding the memory address for a given value, and we can compare memory addresses to check for identity.\n",
    "\n",
    "2) Try to use the `is` operator or the `id` function to investigate the difference between this:\n",
    "\n",
    "    `numbers = [1, 2, 3, 4]`\n",
    "    `new_numbers = numbers + [5]`\n",
    "\n",
    "    And this:\n",
    "\n",
    "    `numbers = [1, 2, 3, 4]`\n",
    "    `numbers.append(5)`\n",
    "\n",
    "    Are `new_numbers` and `numbers` the same thing? What about numbers before and after we append `5`?\n",
    "\n",
    "3) Ask the user to enter a number. Tell the user whether the number is positive, negative, or zero.\n",
    "\n",
    "4) Write a program to determine whether an employee is owed any overtime. You should ask the user how many hours the employee worked this week, as well as the hourly wage for this employee."
   ]
  },
  {
   "cell_type": "code",
   "execution_count": 17,
   "id": "6e1f0631",
   "metadata": {},
   "outputs": [
    {
     "name": "stdout",
     "output_type": "stream",
     "text": [
      "Is list l1 equal to list l2? True\n",
      "Whether list l1 is list l2? False\n",
      "Is list l1 equal to list l3? True\n",
      "Whether list l1 is list l3? True\n"
     ]
    }
   ],
   "source": [
    "# 1\n",
    "l1 = [1, 2, 3]\n",
    "l2 = [1, 2, 3]\n",
    "l3 = l1\n",
    "\n",
    "print(f\"Is list l1 equal to list l2? {bool(l1 == l2)}\")\n",
    "print(f\"Whether list l1 is list l2? {bool(l1 is l2)}\")\n",
    "\n",
    "print(f\"Is list l1 equal to list l3? {bool(l1 == l3)}\")\n",
    "print(f\"Whether list l1 is list l3? {bool(l1 is l3)}\")"
   ]
  },
  {
   "cell_type": "code",
   "execution_count": 28,
   "id": "777687cf",
   "metadata": {},
   "outputs": [
    {
     "name": "stdout",
     "output_type": "stream",
     "text": [
      "Checking if numbers and new_numbers is same: 2719462779456 is 2719464026112 : False\n"
     ]
    }
   ],
   "source": [
    "# 2\n",
    "numbers = [1, 2, 3, 4]\n",
    "new_numbers = numbers + [5]\n",
    "print(f\"Checking if numbers and new_numbers is same: {id(numbers)} is {id(new_numbers)} : {bool(id(numbers) is id(new_numbers) )}\")"
   ]
  },
  {
   "cell_type": "code",
   "execution_count": 33,
   "id": "11671159",
   "metadata": {},
   "outputs": [
    {
     "name": "stdout",
     "output_type": "stream",
     "text": [
      "Checking if numbers and new_numbers2 is same: 2719470959168 is 2719470959168 : True\n"
     ]
    }
   ],
   "source": [
    "numbers = [1, 2, 3, 4]\n",
    "new_numbers2 = numbers\n",
    "numbers.append(5)\n",
    "print(f\"Checking if numbers and new_numbers2 is same: {id(numbers)} is {id(new_numbers2)} : {bool(numbers is new_numbers2)}\")"
   ]
  },
  {
   "cell_type": "code",
   "execution_count": 38,
   "id": "6cdc3cf6",
   "metadata": {},
   "outputs": [
    {
     "name": "stdout",
     "output_type": "stream",
     "text": [
      "Positive\n"
     ]
    }
   ],
   "source": [
    "# 3\n",
    "num = int(input(\"Enter a number: \"))\n",
    "if num > 0:\n",
    "    print(\"Positive\")\n",
    "elif num < 0:\n",
    "    print(\"Negative\")\n",
    "else:\n",
    "    print(\"Zero\")"
   ]
  },
  {
   "cell_type": "code",
   "execution_count": 49,
   "id": "aa9f7da3",
   "metadata": {},
   "outputs": [
    {
     "name": "stdout",
     "output_type": "stream",
     "text": [
      "Udit Pathak worked 120.0 hours. Overtime owed is: $880000.00\n"
     ]
    }
   ],
   "source": [
    "# 4. we need to determine whether or not the employee worked more than 40 hours this week. \n",
    "# If they did, we need to pay them 110% of their hourly wage for any hours worked over the 40 hours.\n",
    "\n",
    "employee = input(\"Please enter your name: \")\n",
    "hourly_wage = float(input(\"Enter your hourly wage: \"))\n",
    "hours_worked = float(input(\"How many hours did your work this week: \"))\n",
    "\n",
    "if hours_worked > 40:\n",
    "    print(f\"{employee.title().strip()} worked {hours_worked} hours. Overtime owed is: ${((hourly_wage * 1.1)*(hours_worked - 40)):.2f}\")\n",
    "else:\n",
    "    print(f\"{employee.title().strip()} worked {hours_worked} hours. No overtime owed.\")"
   ]
  },
  {
   "cell_type": "code",
   "execution_count": 51,
   "id": "ee3242f5",
   "metadata": {},
   "outputs": [
    {
     "name": "stdout",
     "output_type": "stream",
     "text": [
      "Paras's regular pay is: 40000.00 and no overtime pay.\n"
     ]
    }
   ],
   "source": [
    "# 4. we need to determine whether or not the employee worked more than 40 hours this week. \n",
    "# If they did, we need to pay them 110% of their hourly wage for any hours worked over the 40 hours.\n",
    "\n",
    "employee = input(\"Please enter your name: \")\n",
    "hourly_wage = float(input(\"Enter your hourly wage: \"))\n",
    "hours_worked = float(input(\"How many hours did your work this week: \"))\n",
    "regular_pay = 40 * hourly_wage\n",
    "overtime_pay = (hours_worked - 40) * (hourly_wage * 1.1)\n",
    "\n",
    "if hours_worked > 40:\n",
    "    print(f\"{employee.title().strip()}'s regular pay is: {regular_pay:.2f} and overtime due is: {overtime_pay:.2f}\")\n",
    "\n",
    "else:\n",
    "    print(f\"{employee.title().strip()}'s regular pay is: {regular_pay:.2f} and no overtime pay.\")"
   ]
  },
  {
   "cell_type": "markdown",
   "id": "71fb983b",
   "metadata": {},
   "source": [
    "# Day 6\n",
    "\n",
    "### Loops"
   ]
  },
  {
   "cell_type": "code",
   "execution_count": 53,
   "id": "5050ac87",
   "metadata": {},
   "outputs": [
    {
     "name": "stdout",
     "output_type": "stream",
     "text": [
      "Eternal Sunshine of the Spotless Mind (2004), by Michel Gondry\n",
      "Memento (2000), by Christopher Nolan\n",
      "Requiem for a Dream (2000), by Darren Aronofsky\n"
     ]
    }
   ],
   "source": [
    "movies = [\n",
    "    (\n",
    "        \"Eternal Sunshine of the Spotless Mind\",\n",
    "        \"Michel Gondry\",\n",
    "        2004\n",
    "    ),\n",
    "    (\n",
    "        \"Memento\",\n",
    "        \"Christopher Nolan\",\n",
    "        2000\n",
    "    ),\n",
    "    (\n",
    "        \"Requiem for a Dream\",\n",
    "        \"Darren Aronofsky\",\n",
    "        2000\n",
    "    )\n",
    "]\n",
    "\n",
    "for movie in movies:\n",
    "      print(f\"{movie[0]} ({movie[2]}), by {movie[1]}\")"
   ]
  },
  {
   "cell_type": "code",
   "execution_count": 54,
   "id": "c06fceaf",
   "metadata": {},
   "outputs": [
    {
     "name": "stdout",
     "output_type": "stream",
     "text": [
      "Memento is in the movie library!\n"
     ]
    }
   ],
   "source": [
    "movies = [\n",
    "    (\n",
    "        \"Eternal Sunshine of the Spotless Mind\",\n",
    "        \"Michel Gondry\",\n",
    "        2004\n",
    "    ),\n",
    "    (\n",
    "        \"Memento\",\n",
    "        \"Christopher Nolan\",\n",
    "        2000\n",
    "    ),\n",
    "    (\n",
    "        \"Requiem for a Dream\",\n",
    "        \"Darren Aronofsky\",\n",
    "        2000\n",
    "    )\n",
    "]\n",
    "\n",
    "for movie in movies:\n",
    "      # Check the title of the current movie is Memento\n",
    "      if movie[0] == \"Memento\":\n",
    "            # If the title is Memento, inform the user that the movie exists and break the loop\n",
    "            print(\"Memento is in the movie library!\")\n",
    "            break\n"
   ]
  },
  {
   "cell_type": "code",
   "execution_count": null,
   "id": "b4c8b8b4",
   "metadata": {},
   "outputs": [
    {
     "name": "stdout",
     "output_type": "stream",
     "text": [
      "range(10, 0, -1)\n"
     ]
    }
   ],
   "source": [
    "range(10)\n",
    "range(3, 10)\n",
    "range(0, 10, 2)   # 0, 2, 4, 6, 8\n",
    "range(10, 0, -1)  # 10, 9, 8, 7, 6, 5, 4, 3, 2, 1"
   ]
  },
  {
   "cell_type": "code",
   "execution_count": null,
   "id": "375ec9ef",
   "metadata": {},
   "outputs": [],
   "source": [
    "# `range`` is an iterable, which means we can use it in for loops. \n",
    "# It also means we can convert it to a list or tuple if we want to.\n",
    "numbers = list(range(10))             # [0, 1, 2, 3, 4, 5, 6, 7, 8, 9]\n",
    "immutable_numbers = tuple(range(10))  # (0, 1, 2, 3, 4, 5, 6, 7, 8, 9)"
   ]
  },
  {
   "cell_type": "code",
   "execution_count": null,
   "id": "ffbc0bbf",
   "metadata": {},
   "outputs": [
    {
     "name": "stdout",
     "output_type": "stream",
     "text": [
      "2 * 1 = 2\n",
      "2 * 2 = 4\n",
      "2 * 3 = 6\n",
      "2 * 4 = 8\n",
      "2 * 5 = 10\n",
      "2 * 6 = 12\n",
      "2 * 7 = 14\n",
      "2 * 8 = 16\n",
      "2 * 9 = 18\n",
      "2 * 10 = 20\n"
     ]
    }
   ],
   "source": [
    "# Iterating over a raange\n",
    "for i in range(1,11):\n",
    "    print(f\"2 * {i} = {2*i}\")"
   ]
  },
  {
   "cell_type": "code",
   "execution_count": null,
   "id": "82dff25c",
   "metadata": {},
   "outputs": [],
   "source": [
    "# use `underscore` as the loop variable when we don't need to reference it inside the loop\n",
    "for _ in range(10):\n",
    "    print(\"Hello!\")\n"
   ]
  },
  {
   "cell_type": "markdown",
   "id": "af908fbc",
   "metadata": {},
   "source": [
    "### Exercises\n",
    "\n",
    "1) Below we've provided a list of tuples, where each tuple contains details about an employee of a shop: their name, the number of hours worked last week, and their hourly rate. Print how much each employee is due to be paid at the end of the week in a nice, readable format.\n",
    "\n",
    "```\n",
    "employees = [\n",
    "    (\"Rolf Smith\", 35, 8.75),\n",
    "    (\"Anne Pun\", 30, 12.50),\n",
    "    (\"Charlie Lee\", 50, 15.50),\n",
    "    (\"Bob Smith\", 20, 7.00)\n",
    "]\n",
    "```\n",
    "\n",
    "2) For the employees above, print out those who are earning an hourly wage above average.\n",
    "\n",
    "Hint: you can use a for loop and two variables to keep track of the total wage and the number of employees. Then, use the two variables to calculate the average. Finally, add another loop that goes through the employees list again and prints out only those who have an hourly wage above the calculated average."
   ]
  },
  {
   "cell_type": "code",
   "execution_count": 62,
   "id": "4be795a2",
   "metadata": {},
   "outputs": [
    {
     "name": "stdout",
     "output_type": "stream",
     "text": [
      "Rolf Smith is due $306.25 for last week's work.\n",
      "Anne Pun is due $375.00 for last week's work.\n",
      "Charlie Lee is due $775.00 for last week's work.\n",
      "Bob Smith is due $140.00 for last week's work.\n"
     ]
    }
   ],
   "source": [
    "# 1\n",
    "employees = [\n",
    "    (\"Rolf Smith\", 35, 8.75),\n",
    "    (\"Anne Pun\", 30, 12.50),\n",
    "    (\"Charlie Lee\", 50, 15.50),\n",
    "    (\"Bob Smith\", 20, 7.00)\n",
    "]\n",
    "\n",
    "for i in employees:\n",
    "    wage_due = i[1] * i[2]\n",
    "    print(f\"{i[0]} is due ${wage_due:.2f} for last week's work.\")"
   ]
  },
  {
   "cell_type": "code",
   "execution_count": 71,
   "id": "918b06a5",
   "metadata": {},
   "outputs": [
    {
     "name": "stdout",
     "output_type": "stream",
     "text": [
      "We have a total of 4 employees and the average hourly wage is: 10.94\n",
      "Anne Pun's hourly wage is above average\n",
      "Charlie Lee's hourly wage is above average\n"
     ]
    }
   ],
   "source": [
    "# 2\n",
    "count = 0\n",
    "total_hourly_wage = 0\n",
    "for j in employees:\n",
    "    total_hourly_wage = j[2] + total_hourly_wage\n",
    "    count = count + 1\n",
    "\n",
    "avg_hourly_wage = total_hourly_wage / count\n",
    "print(f\"We have a total of {count} employees and the average hourly wage is: {avg_hourly_wage:.2f}\")\n",
    "\n",
    "for k in employees:\n",
    "    if k[2] > avg_hourly_wage:\n",
    "        print(f\"{k[0]}'s hourly wage is above average\")"
   ]
  },
  {
   "cell_type": "markdown",
   "id": "c826ebc4",
   "metadata": {},
   "source": [
    "### Project - Fizz Buzz\n",
    "\n",
    "In case you're not familiar with the game, it goes like this:\n",
    "\n",
    "One player starts by saying the number 1.\n",
    "\n",
    "Each player then takes it in turns to say the next number, counting one at a time.\n",
    "\n",
    "If the number is divisible by 3, instead of saying the number, the player should say, \"Fizz\".\n",
    "\n",
    "If the number is divisible by 5, instead of saying the number, the player should say, \"Buzz\".\n",
    "\n",
    "If the number is divisible by 3 and 5, instead of saying the number, the player should say, \"Fizz Buzz\".\n",
    "\n",
    "If you make a mistake, you're usually eliminated from the game, and the game continues until there's only a single player remaining.\n",
    "\n",
    "#### Brief\n",
    "\n",
    "For our version, we're only going to have a single player, the computer, and it's going to play the first 100 rounds of Fizz Buzz all by itself. In other words, we need to print out the first 100 items in the sequence, starting from 1.\n",
    "\n",
    "In order to complete this exercise, you're going to need to use loops, and you can generate your list of numbers using range. You're also going to need conditionals, and you're going to need be able to check if something is divisible by 3 or 5."
   ]
  },
  {
   "cell_type": "code",
   "execution_count": 79,
   "id": "b48eb271",
   "metadata": {},
   "outputs": [
    {
     "name": "stdout",
     "output_type": "stream",
     "text": [
      "1\n",
      "2\n",
      "Fizz\n",
      "4\n",
      "Buzz\n",
      "Fizz\n",
      "7\n",
      "8\n",
      "Fizz\n",
      "Buzz\n",
      "11\n",
      "Fizz\n",
      "13\n",
      "14\n",
      "Fizz Buzz\n",
      "16\n",
      "17\n",
      "Fizz\n",
      "19\n",
      "Buzz\n",
      "Fizz\n",
      "22\n",
      "23\n",
      "Fizz\n",
      "Buzz\n",
      "26\n",
      "Fizz\n",
      "28\n",
      "29\n",
      "Fizz Buzz\n",
      "31\n",
      "32\n",
      "Fizz\n",
      "34\n",
      "Buzz\n",
      "Fizz\n",
      "37\n",
      "38\n",
      "Fizz\n",
      "Buzz\n",
      "41\n",
      "Fizz\n",
      "43\n",
      "44\n",
      "Fizz Buzz\n",
      "46\n",
      "47\n",
      "Fizz\n",
      "49\n",
      "Buzz\n",
      "Fizz\n",
      "52\n",
      "53\n",
      "Fizz\n",
      "Buzz\n",
      "56\n",
      "Fizz\n",
      "58\n",
      "59\n",
      "Fizz Buzz\n",
      "61\n",
      "62\n",
      "Fizz\n",
      "64\n",
      "Buzz\n",
      "Fizz\n",
      "67\n",
      "68\n",
      "Fizz\n",
      "Buzz\n",
      "71\n",
      "Fizz\n",
      "73\n",
      "74\n",
      "Fizz Buzz\n",
      "76\n",
      "77\n",
      "Fizz\n",
      "79\n",
      "Buzz\n",
      "Fizz\n",
      "82\n",
      "83\n",
      "Fizz\n",
      "Buzz\n",
      "86\n",
      "Fizz\n",
      "88\n",
      "89\n",
      "Fizz Buzz\n",
      "91\n",
      "92\n",
      "Fizz\n",
      "94\n",
      "Buzz\n",
      "Fizz\n",
      "97\n",
      "98\n",
      "Fizz\n",
      "Buzz\n"
     ]
    }
   ],
   "source": [
    "for i in range(1,101):\n",
    "    if (i % 3 == 0):\n",
    "        if (i % 5 == 0):\n",
    "            print(\"Fizz Buzz\")\n",
    "        else:\n",
    "            print(\"Fizz\")\n",
    "    elif (i % 5 == 0):\n",
    "        print(\"Buzz\")\n",
    "    else:\n",
    "        print(i)"
   ]
  },
  {
   "cell_type": "markdown",
   "id": "fc0c97cd",
   "metadata": {},
   "source": [
    "# Day 7: split, join, and Slices"
   ]
  },
  {
   "cell_type": "code",
   "execution_count": null,
   "id": "084f3071",
   "metadata": {},
   "outputs": [],
   "source": []
  },
  {
   "cell_type": "code",
   "execution_count": null,
   "id": "285a7aac",
   "metadata": {},
   "outputs": [],
   "source": []
  },
  {
   "cell_type": "code",
   "execution_count": null,
   "id": "50d73587",
   "metadata": {},
   "outputs": [],
   "source": []
  },
  {
   "cell_type": "code",
   "execution_count": null,
   "id": "bef993e9",
   "metadata": {},
   "outputs": [],
   "source": []
  },
  {
   "cell_type": "code",
   "execution_count": null,
   "id": "37d1ff53",
   "metadata": {},
   "outputs": [],
   "source": []
  },
  {
   "cell_type": "code",
   "execution_count": null,
   "id": "22457831",
   "metadata": {},
   "outputs": [],
   "source": []
  },
  {
   "cell_type": "code",
   "execution_count": null,
   "id": "cd67e7c8",
   "metadata": {},
   "outputs": [],
   "source": []
  },
  {
   "cell_type": "code",
   "execution_count": null,
   "id": "a125e975",
   "metadata": {},
   "outputs": [],
   "source": []
  },
  {
   "cell_type": "code",
   "execution_count": null,
   "id": "114e8d54",
   "metadata": {},
   "outputs": [],
   "source": []
  },
  {
   "cell_type": "code",
   "execution_count": null,
   "id": "824d27d6",
   "metadata": {},
   "outputs": [],
   "source": []
  },
  {
   "cell_type": "code",
   "execution_count": null,
   "id": "fbeaad1f",
   "metadata": {},
   "outputs": [],
   "source": []
  },
  {
   "cell_type": "code",
   "execution_count": null,
   "id": "c8ccec5f",
   "metadata": {},
   "outputs": [],
   "source": []
  },
  {
   "cell_type": "code",
   "execution_count": null,
   "id": "cda22457",
   "metadata": {},
   "outputs": [],
   "source": []
  },
  {
   "cell_type": "code",
   "execution_count": null,
   "id": "91d00d9f",
   "metadata": {},
   "outputs": [],
   "source": []
  },
  {
   "cell_type": "code",
   "execution_count": null,
   "id": "566410c2",
   "metadata": {},
   "outputs": [],
   "source": []
  },
  {
   "cell_type": "code",
   "execution_count": null,
   "id": "b359a600",
   "metadata": {},
   "outputs": [],
   "source": []
  },
  {
   "cell_type": "code",
   "execution_count": null,
   "id": "c2205f15",
   "metadata": {},
   "outputs": [],
   "source": []
  },
  {
   "cell_type": "code",
   "execution_count": null,
   "id": "216f343d",
   "metadata": {},
   "outputs": [],
   "source": []
  },
  {
   "cell_type": "code",
   "execution_count": null,
   "id": "1c3c1786",
   "metadata": {},
   "outputs": [],
   "source": []
  },
  {
   "cell_type": "code",
   "execution_count": null,
   "id": "8340c808",
   "metadata": {},
   "outputs": [],
   "source": []
  }
 ],
 "metadata": {
  "kernelspec": {
   "display_name": "Python 3",
   "language": "python",
   "name": "python3"
  },
  "language_info": {
   "codemirror_mode": {
    "name": "ipython",
    "version": 3
   },
   "file_extension": ".py",
   "mimetype": "text/x-python",
   "name": "python",
   "nbconvert_exporter": "python",
   "pygments_lexer": "ipython3",
   "version": "3.13.6"
  }
 },
 "nbformat": 4,
 "nbformat_minor": 5
}
